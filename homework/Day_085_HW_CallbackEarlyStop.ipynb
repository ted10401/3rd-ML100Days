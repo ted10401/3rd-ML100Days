{
 "cells": [
  {
   "cell_type": "markdown",
   "metadata": {},
   "source": [
    "## Work\n",
    "1. 試改變 monitor \"Validation Accuracy\" 並比較結果\n",
    "2. 調整 earlystop 的等待次數至 10, 25 並比較結果"
   ]
  },
  {
   "cell_type": "code",
   "execution_count": 1,
   "metadata": {},
   "outputs": [
    {
     "name": "stderr",
     "output_type": "stream",
     "text": [
      "Using TensorFlow backend.\n"
     ]
    }
   ],
   "source": [
    "import os\n",
    "import keras\n",
    "import matplotlib.pyplot as plt\n",
    "%matplotlib inline\n",
    "\n",
    "\n",
    "# Disable GPU\n",
    "os.environ[\"CUDA_VISIBLE_DEVICES\"] = \"\""
   ]
  },
  {
   "cell_type": "code",
   "execution_count": 2,
   "metadata": {},
   "outputs": [],
   "source": [
    "train, test = keras.datasets.cifar10.load_data()"
   ]
  },
  {
   "cell_type": "code",
   "execution_count": 3,
   "metadata": {},
   "outputs": [],
   "source": [
    "## 資料前處理\n",
    "def preproc_x(x, flatten=True):\n",
    "    x = x / 255.\n",
    "    if flatten:\n",
    "        x = x.reshape((len(x), -1))\n",
    "    return x\n",
    "\n",
    "def preproc_y(y, num_classes=10):\n",
    "    if y.shape[-1] == 1:\n",
    "        y = keras.utils.to_categorical(y, num_classes)\n",
    "    return y    "
   ]
  },
  {
   "cell_type": "code",
   "execution_count": 4,
   "metadata": {},
   "outputs": [],
   "source": [
    "x_train, y_train = train\n",
    "x_test, y_test = test\n",
    "\n",
    "# Preproc the inputs\n",
    "x_train = preproc_x(x_train)\n",
    "x_test = preproc_x(x_test)\n",
    "\n",
    "# Preprc the outputs\n",
    "y_train = preproc_y(y_train)\n",
    "y_test = preproc_y(y_test)"
   ]
  },
  {
   "cell_type": "code",
   "execution_count": 5,
   "metadata": {},
   "outputs": [],
   "source": [
    "from keras.layers import BatchNormalization\n",
    "\n",
    "\"\"\"\n",
    "建立神經網路，並加入 BN layer\n",
    "\"\"\"\n",
    "def build_mlp(input_shape, output_units=10, num_neurons=[512, 256, 128]):\n",
    "    input_layer = keras.layers.Input(input_shape)\n",
    "    \n",
    "    for i, n_units in enumerate(num_neurons):\n",
    "        if i == 0:\n",
    "            x = keras.layers.Dense(units=n_units, \n",
    "                                   activation=\"relu\", \n",
    "                                   name=\"hidden_layer\"+str(i+1))(input_layer)\n",
    "            x = BatchNormalization()(x)\n",
    "        else:\n",
    "            x = keras.layers.Dense(units=n_units, \n",
    "                                   activation=\"relu\", \n",
    "                                   name=\"hidden_layer\"+str(i+1))(x)\n",
    "            x = BatchNormalization()(x)\n",
    "    \n",
    "    out = keras.layers.Dense(units=output_units, activation=\"softmax\", name=\"output\")(x)\n",
    "    \n",
    "    model = keras.models.Model(inputs=[input_layer], outputs=[out])\n",
    "    return model"
   ]
  },
  {
   "cell_type": "code",
   "execution_count": 6,
   "metadata": {},
   "outputs": [],
   "source": [
    "## 超參數設定\n",
    "LEARNING_RATE = 1e-3\n",
    "EPOCHS = 50\n",
    "BATCH_SIZE = 1024\n",
    "MOMENTUM = 0.95"
   ]
  },
  {
   "cell_type": "code",
   "execution_count": 7,
   "metadata": {},
   "outputs": [
    {
     "name": "stdout",
     "output_type": "stream",
     "text": [
      "Model: \"model_1\"\n",
      "_________________________________________________________________\n",
      "Layer (type)                 Output Shape              Param #   \n",
      "=================================================================\n",
      "input_1 (InputLayer)         (None, 3072)              0         \n",
      "_________________________________________________________________\n",
      "hidden_layer1 (Dense)        (None, 512)               1573376   \n",
      "_________________________________________________________________\n",
      "batch_normalization_1 (Batch (None, 512)               2048      \n",
      "_________________________________________________________________\n",
      "hidden_layer2 (Dense)        (None, 256)               131328    \n",
      "_________________________________________________________________\n",
      "batch_normalization_2 (Batch (None, 256)               1024      \n",
      "_________________________________________________________________\n",
      "hidden_layer3 (Dense)        (None, 128)               32896     \n",
      "_________________________________________________________________\n",
      "batch_normalization_3 (Batch (None, 128)               512       \n",
      "_________________________________________________________________\n",
      "output (Dense)               (None, 10)                1290      \n",
      "=================================================================\n",
      "Total params: 1,742,474\n",
      "Trainable params: 1,740,682\n",
      "Non-trainable params: 1,792\n",
      "_________________________________________________________________\n",
      "Train on 50000 samples, validate on 10000 samples\n",
      "Epoch 1/50\n",
      "50000/50000 [==============================] - 5s 102us/step - loss: 2.1903 - accuracy: 0.2740 - val_loss: 2.1046 - val_accuracy: 0.2227\n",
      "Epoch 2/50\n",
      "50000/50000 [==============================] - 4s 89us/step - loss: 1.7420 - accuracy: 0.3883 - val_loss: 1.9816 - val_accuracy: 0.2921\n",
      "Epoch 3/50\n",
      "50000/50000 [==============================] - 4s 90us/step - loss: 1.6179 - accuracy: 0.4326 - val_loss: 1.8289 - val_accuracy: 0.3606\n",
      "Epoch 4/50\n",
      "50000/50000 [==============================] - 4s 89us/step - loss: 1.5435 - accuracy: 0.4579 - val_loss: 1.7322 - val_accuracy: 0.3988\n",
      "Epoch 5/50\n",
      "50000/50000 [==============================] - 5s 93us/step - loss: 1.4860 - accuracy: 0.4784 - val_loss: 1.6567 - val_accuracy: 0.4160\n",
      "Epoch 6/50\n",
      "50000/50000 [==============================] - 5s 93us/step - loss: 1.4422 - accuracy: 0.4942 - val_loss: 1.5977 - val_accuracy: 0.4353\n",
      "Epoch 7/50\n",
      "50000/50000 [==============================] - 5s 100us/step - loss: 1.4025 - accuracy: 0.5094 - val_loss: 1.5654 - val_accuracy: 0.4457\n",
      "Epoch 8/50\n",
      "50000/50000 [==============================] - 5s 98us/step - loss: 1.3648 - accuracy: 0.5229 - val_loss: 1.5317 - val_accuracy: 0.4589\n",
      "Epoch 9/50\n",
      "50000/50000 [==============================] - 5s 100us/step - loss: 1.3347 - accuracy: 0.5340 - val_loss: 1.5207 - val_accuracy: 0.4646\n",
      "Epoch 10/50\n",
      "50000/50000 [==============================] - 5s 98us/step - loss: 1.3040 - accuracy: 0.5464 - val_loss: 1.5037 - val_accuracy: 0.4685\n",
      "Epoch 11/50\n",
      "50000/50000 [==============================] - 5s 96us/step - loss: 1.2755 - accuracy: 0.5571 - val_loss: 1.4747 - val_accuracy: 0.4795\n",
      "Epoch 12/50\n",
      "50000/50000 [==============================] - 5s 93us/step - loss: 1.2498 - accuracy: 0.5667 - val_loss: 1.4786 - val_accuracy: 0.4782\n",
      "Epoch 13/50\n",
      "50000/50000 [==============================] - 5s 94us/step - loss: 1.2238 - accuracy: 0.5765 - val_loss: 1.4833 - val_accuracy: 0.4775\n",
      "Epoch 14/50\n",
      "50000/50000 [==============================] - 5s 94us/step - loss: 1.1993 - accuracy: 0.5854 - val_loss: 1.4656 - val_accuracy: 0.4849\n",
      "Epoch 15/50\n",
      "50000/50000 [==============================] - 5s 97us/step - loss: 1.1754 - accuracy: 0.5940 - val_loss: 1.4538 - val_accuracy: 0.4904\n",
      "Epoch 16/50\n",
      "50000/50000 [==============================] - 6s 115us/step - loss: 1.1511 - accuracy: 0.6029 - val_loss: 1.4592 - val_accuracy: 0.4855\n",
      "Epoch 17/50\n",
      "50000/50000 [==============================] - 5s 107us/step - loss: 1.1284 - accuracy: 0.6121 - val_loss: 1.4479 - val_accuracy: 0.4932\n",
      "Epoch 18/50\n",
      "50000/50000 [==============================] - 6s 111us/step - loss: 1.1078 - accuracy: 0.6200 - val_loss: 1.4548 - val_accuracy: 0.4898\n",
      "Epoch 19/50\n",
      "50000/50000 [==============================] - 5s 110us/step - loss: 1.0850 - accuracy: 0.6282 - val_loss: 1.4495 - val_accuracy: 0.4934\n",
      "Epoch 20/50\n",
      "50000/50000 [==============================] - 5s 108us/step - loss: 1.0655 - accuracy: 0.6338 - val_loss: 1.4502 - val_accuracy: 0.4956\n",
      "Epoch 21/50\n",
      "50000/50000 [==============================] - 5s 106us/step - loss: 1.0438 - accuracy: 0.6444 - val_loss: 1.4427 - val_accuracy: 0.4935\n",
      "Epoch 22/50\n",
      "50000/50000 [==============================] - 5s 108us/step - loss: 1.0215 - accuracy: 0.6512 - val_loss: 1.4515 - val_accuracy: 0.4966\n",
      "Epoch 23/50\n",
      "50000/50000 [==============================] - 5s 107us/step - loss: 1.0027 - accuracy: 0.6598 - val_loss: 1.4580 - val_accuracy: 0.4906\n",
      "Epoch 24/50\n",
      "50000/50000 [==============================] - 6s 114us/step - loss: 0.9818 - accuracy: 0.6679 - val_loss: 1.4455 - val_accuracy: 0.4991\n",
      "Epoch 25/50\n",
      "50000/50000 [==============================] - 7s 132us/step - loss: 0.9597 - accuracy: 0.6754 - val_loss: 1.4590 - val_accuracy: 0.4941\n",
      "Epoch 26/50\n",
      "50000/50000 [==============================] - 5s 105us/step - loss: 0.9414 - accuracy: 0.6829 - val_loss: 1.4772 - val_accuracy: 0.4940\n",
      "Epoch 27/50\n",
      "50000/50000 [==============================] - 5s 106us/step - loss: 0.9214 - accuracy: 0.6922 - val_loss: 1.4583 - val_accuracy: 0.5002\n",
      "Epoch 28/50\n",
      "50000/50000 [==============================] - 5s 100us/step - loss: 0.9013 - accuracy: 0.6973 - val_loss: 1.4661 - val_accuracy: 0.4977\n",
      "Epoch 29/50\n",
      "50000/50000 [==============================] - 5s 96us/step - loss: 0.8809 - accuracy: 0.7071 - val_loss: 1.4729 - val_accuracy: 0.4989\n",
      "Epoch 30/50\n",
      "50000/50000 [==============================] - 5s 96us/step - loss: 0.8617 - accuracy: 0.7140 - val_loss: 1.4831 - val_accuracy: 0.4967\n",
      "Epoch 31/50\n",
      "50000/50000 [==============================] - 5s 95us/step - loss: 0.8447 - accuracy: 0.7198 - val_loss: 1.4805 - val_accuracy: 0.4974\n",
      "Epoch 32/50\n",
      "50000/50000 [==============================] - 5s 97us/step - loss: 0.8245 - accuracy: 0.7277 - val_loss: 1.4820 - val_accuracy: 0.5003\n",
      "Epoch 33/50\n",
      "50000/50000 [==============================] - 5s 93us/step - loss: 0.8056 - accuracy: 0.7377 - val_loss: 1.4881 - val_accuracy: 0.4947\n",
      "Epoch 34/50\n",
      "50000/50000 [==============================] - 5s 94us/step - loss: 0.7871 - accuracy: 0.7440 - val_loss: 1.5239 - val_accuracy: 0.4961\n",
      "Epoch 35/50\n",
      "50000/50000 [==============================] - 5s 93us/step - loss: 0.7668 - accuracy: 0.7528 - val_loss: 1.4954 - val_accuracy: 0.5015\n",
      "Epoch 36/50\n",
      "50000/50000 [==============================] - 5s 92us/step - loss: 0.7484 - accuracy: 0.7596 - val_loss: 1.5203 - val_accuracy: 0.4928\n",
      "Epoch 37/50\n",
      "50000/50000 [==============================] - 5s 92us/step - loss: 0.7307 - accuracy: 0.7665 - val_loss: 1.5194 - val_accuracy: 0.4951\n",
      "Epoch 38/50\n",
      "50000/50000 [==============================] - 5s 93us/step - loss: 0.7105 - accuracy: 0.7755 - val_loss: 1.5470 - val_accuracy: 0.4938\n",
      "Epoch 39/50\n",
      "50000/50000 [==============================] - 5s 92us/step - loss: 0.6919 - accuracy: 0.7822 - val_loss: 1.5652 - val_accuracy: 0.4978\n",
      "Epoch 40/50\n",
      "50000/50000 [==============================] - 5s 92us/step - loss: 0.6766 - accuracy: 0.7890 - val_loss: 1.5572 - val_accuracy: 0.4952\n",
      "Epoch 00040: early stopping\n"
     ]
    }
   ],
   "source": [
    "from keras.callbacks import EarlyStopping\n",
    "\n",
    "earlystop = EarlyStopping(monitor=\"val_accuracy\", \n",
    "                          patience=5, \n",
    "                          verbose=1\n",
    "                          )\n",
    "\n",
    "model = build_mlp(input_shape=x_train.shape[1:])\n",
    "model.summary()\n",
    "optimizer = keras.optimizers.SGD(lr=LEARNING_RATE, nesterov=True, momentum=MOMENTUM)\n",
    "model.compile(loss=\"categorical_crossentropy\", metrics=[\"accuracy\"], optimizer=optimizer)\n",
    "\n",
    "model.fit(x_train, y_train, \n",
    "          epochs=EPOCHS, \n",
    "          batch_size=BATCH_SIZE, \n",
    "          validation_data=(x_test, y_test), \n",
    "          shuffle=True,\n",
    "          callbacks=[earlystop]\n",
    "         )\n",
    "\n",
    "# Collect results\n",
    "train_loss = model.history.history[\"loss\"]\n",
    "valid_loss = model.history.history[\"val_loss\"]\n",
    "train_acc = model.history.history[\"accuracy\"]\n",
    "valid_acc = model.history.history[\"val_accuracy\"]"
   ]
  },
  {
   "cell_type": "code",
   "execution_count": 14,
   "metadata": {},
   "outputs": [
    {
     "name": "stdout",
     "output_type": "stream",
     "text": [
      "monitor = val_accuracy, patience = 5\n"
     ]
    },
    {
     "data": {
      "image/png": "[encoded data removed]",
      "text/plain": [
       "<Figure size 432x288 with 1 Axes>"
      ]
     },
     "metadata": {
      "needs_background": "light"
     },
     "output_type": "display_data"
    },
    {
     "data": {
      "image/png": "[encoded data removed]",
      "text/plain": [
       "<Figure size 432x288 with 1 Axes>"
      ]
     },
     "metadata": {
      "needs_background": "light"
     },
     "output_type": "display_data"
    }
   ],
   "source": [
    "print('monitor = %s, patience = %s' % ('val_accuracy', 5))\n",
    "\n",
    "plt.plot(range(len(train_loss)), train_loss, label=\"train loss\")\n",
    "plt.plot(range(len(valid_loss)), valid_loss, label=\"valid loss\")\n",
    "plt.legend()\n",
    "plt.title(\"Loss\")\n",
    "plt.show()\n",
    "\n",
    "plt.plot(range(len(train_acc)), train_acc, label=\"train accuracy\")\n",
    "plt.plot(range(len(valid_acc)), valid_acc, label=\"valid accuracy\")\n",
    "plt.legend()\n",
    "plt.title(\"Accuracy\")\n",
    "plt.show()"
   ]
  },
  {
   "cell_type": "code",
   "execution_count": 15,
   "metadata": {},
   "outputs": [
    {
     "name": "stdout",
     "output_type": "stream",
     "text": [
      "Model: \"model_2\"\n",
      "_________________________________________________________________\n",
      "Layer (type)                 Output Shape              Param #   \n",
      "=================================================================\n",
      "input_2 (InputLayer)         (None, 3072)              0         \n",
      "_________________________________________________________________\n",
      "hidden_layer1 (Dense)        (None, 512)               1573376   \n",
      "_________________________________________________________________\n",
      "batch_normalization_4 (Batch (None, 512)               2048      \n",
      "_________________________________________________________________\n",
      "hidden_layer2 (Dense)        (None, 256)               131328    \n",
      "_________________________________________________________________\n",
      "batch_normalization_5 (Batch (None, 256)               1024      \n",
      "_________________________________________________________________\n",
      "hidden_layer3 (Dense)        (None, 128)               32896     \n",
      "_________________________________________________________________\n",
      "batch_normalization_6 (Batch (None, 128)               512       \n",
      "_________________________________________________________________\n",
      "output (Dense)               (None, 10)                1290      \n",
      "=================================================================\n",
      "Total params: 1,742,474\n",
      "Trainable params: 1,740,682\n",
      "Non-trainable params: 1,792\n",
      "_________________________________________________________________\n",
      "Train on 50000 samples, validate on 10000 samples\n",
      "Epoch 1/50\n",
      "50000/50000 [==============================] - 5s 107us/step - loss: 2.2247 - accuracy: 0.2613 - val_loss: 2.1586 - val_accuracy: 0.1922\n",
      "Epoch 2/50\n",
      "50000/50000 [==============================] - 5s 94us/step - loss: 1.7511 - accuracy: 0.3867 - val_loss: 1.9470 - val_accuracy: 0.3151\n",
      "Epoch 3/50\n",
      "50000/50000 [==============================] - 5s 95us/step - loss: 1.6222 - accuracy: 0.4334 - val_loss: 1.8254 - val_accuracy: 0.3698\n",
      "Epoch 4/50\n",
      "50000/50000 [==============================] - 5s 96us/step - loss: 1.5448 - accuracy: 0.4615 - val_loss: 1.7156 - val_accuracy: 0.4192\n",
      "Epoch 5/50\n",
      "50000/50000 [==============================] - 5s 95us/step - loss: 1.4874 - accuracy: 0.4816 - val_loss: 1.6444 - val_accuracy: 0.4327\n",
      "Epoch 6/50\n",
      "50000/50000 [==============================] - 5s 95us/step - loss: 1.4416 - accuracy: 0.4947 - val_loss: 1.5987 - val_accuracy: 0.4409\n",
      "Epoch 7/50\n",
      "50000/50000 [==============================] - 5s 95us/step - loss: 1.4009 - accuracy: 0.5126 - val_loss: 1.5489 - val_accuracy: 0.4570\n",
      "Epoch 8/50\n",
      "50000/50000 [==============================] - 5s 95us/step - loss: 1.3655 - accuracy: 0.5244 - val_loss: 1.5336 - val_accuracy: 0.4601\n",
      "Epoch 9/50\n",
      "50000/50000 [==============================] - 5s 97us/step - loss: 1.3342 - accuracy: 0.5350 - val_loss: 1.5148 - val_accuracy: 0.4666\n",
      "Epoch 10/50\n",
      "50000/50000 [==============================] - 5s 96us/step - loss: 1.3035 - accuracy: 0.5467 - val_loss: 1.4941 - val_accuracy: 0.4736\n",
      "Epoch 11/50\n",
      "50000/50000 [==============================] - 5s 98us/step - loss: 1.2742 - accuracy: 0.5553 - val_loss: 1.4872 - val_accuracy: 0.4768\n",
      "Epoch 12/50\n",
      "50000/50000 [==============================] - 5s 98us/step - loss: 1.2469 - accuracy: 0.5674 - val_loss: 1.4924 - val_accuracy: 0.4683\n",
      "Epoch 13/50\n",
      "50000/50000 [==============================] - 5s 98us/step - loss: 1.2219 - accuracy: 0.5769 - val_loss: 1.4808 - val_accuracy: 0.4790\n",
      "Epoch 14/50\n",
      "50000/50000 [==============================] - 5s 97us/step - loss: 1.1979 - accuracy: 0.5867 - val_loss: 1.4727 - val_accuracy: 0.4835\n",
      "Epoch 15/50\n",
      "50000/50000 [==============================] - 5s 96us/step - loss: 1.1741 - accuracy: 0.5945 - val_loss: 1.4675 - val_accuracy: 0.4779\n",
      "Epoch 16/50\n",
      "50000/50000 [==============================] - 5s 95us/step - loss: 1.1510 - accuracy: 0.6040 - val_loss: 1.4673 - val_accuracy: 0.4823\n",
      "Epoch 17/50\n",
      "50000/50000 [==============================] - 5s 96us/step - loss: 1.1277 - accuracy: 0.6140 - val_loss: 1.4638 - val_accuracy: 0.4805\n",
      "Epoch 18/50\n",
      "50000/50000 [==============================] - 5s 95us/step - loss: 1.1049 - accuracy: 0.6219 - val_loss: 1.4670 - val_accuracy: 0.4826\n",
      "Epoch 19/50\n",
      "50000/50000 [==============================] - 5s 96us/step - loss: 1.0830 - accuracy: 0.6315 - val_loss: 1.4598 - val_accuracy: 0.4870\n",
      "Epoch 20/50\n",
      "50000/50000 [==============================] - 5s 96us/step - loss: 1.0638 - accuracy: 0.6388 - val_loss: 1.4610 - val_accuracy: 0.4951\n",
      "Epoch 21/50\n",
      "50000/50000 [==============================] - 5s 97us/step - loss: 1.0402 - accuracy: 0.6478 - val_loss: 1.4608 - val_accuracy: 0.4869\n",
      "Epoch 22/50\n",
      "50000/50000 [==============================] - 5s 96us/step - loss: 1.0192 - accuracy: 0.6545 - val_loss: 1.4761 - val_accuracy: 0.4838\n",
      "Epoch 23/50\n",
      "50000/50000 [==============================] - 5s 98us/step - loss: 1.0013 - accuracy: 0.6635 - val_loss: 1.4615 - val_accuracy: 0.4927\n",
      "Epoch 24/50\n",
      "50000/50000 [==============================] - 5s 98us/step - loss: 0.9805 - accuracy: 0.6703 - val_loss: 1.4707 - val_accuracy: 0.4876\n",
      "Epoch 25/50\n",
      "50000/50000 [==============================] - 5s 100us/step - loss: 0.9590 - accuracy: 0.6798 - val_loss: 1.4642 - val_accuracy: 0.4935\n",
      "Epoch 26/50\n",
      "50000/50000 [==============================] - 5s 96us/step - loss: 0.9380 - accuracy: 0.6875 - val_loss: 1.4741 - val_accuracy: 0.4889\n",
      "Epoch 27/50\n",
      "50000/50000 [==============================] - 5s 97us/step - loss: 0.9178 - accuracy: 0.6960 - val_loss: 1.4930 - val_accuracy: 0.4870\n",
      "Epoch 28/50\n",
      "50000/50000 [==============================] - 5s 98us/step - loss: 0.9008 - accuracy: 0.7012 - val_loss: 1.4896 - val_accuracy: 0.4859\n",
      "Epoch 29/50\n",
      "50000/50000 [==============================] - 5s 103us/step - loss: 0.8810 - accuracy: 0.7094 - val_loss: 1.4988 - val_accuracy: 0.4910\n",
      "Epoch 30/50\n",
      "50000/50000 [==============================] - 5s 102us/step - loss: 0.8598 - accuracy: 0.7167 - val_loss: 1.4850 - val_accuracy: 0.4894\n",
      "Epoch 00030: early stopping\n"
     ]
    }
   ],
   "source": [
    "from keras.callbacks import EarlyStopping\n",
    "\n",
    "earlystop = EarlyStopping(monitor=\"val_accuracy\", \n",
    "                          patience=10, \n",
    "                          verbose=1\n",
    "                          )\n",
    "\n",
    "model = build_mlp(input_shape=x_train.shape[1:])\n",
    "model.summary()\n",
    "optimizer = keras.optimizers.SGD(lr=LEARNING_RATE, nesterov=True, momentum=MOMENTUM)\n",
    "model.compile(loss=\"categorical_crossentropy\", metrics=[\"accuracy\"], optimizer=optimizer)\n",
    "\n",
    "model.fit(x_train, y_train, \n",
    "          epochs=EPOCHS, \n",
    "          batch_size=BATCH_SIZE, \n",
    "          validation_data=(x_test, y_test), \n",
    "          shuffle=True,\n",
    "          callbacks=[earlystop]\n",
    "         )\n",
    "\n",
    "# Collect results\n",
    "train_loss = model.history.history[\"loss\"]\n",
    "valid_loss = model.history.history[\"val_loss\"]\n",
    "train_acc = model.history.history[\"accuracy\"]\n",
    "valid_acc = model.history.history[\"val_accuracy\"]"
   ]
  },
  {
   "cell_type": "code",
   "execution_count": 16,
   "metadata": {},
   "outputs": [
    {
     "name": "stdout",
     "output_type": "stream",
     "text": [
      "monitor = val_accuracy, patience = 10\n"
     ]
    },
    {
     "data": {
      "image/png": "[encoded data removed]",
      "text/plain": [
       "<Figure size 432x288 with 1 Axes>"
      ]
     },
     "metadata": {
      "needs_background": "light"
     },
     "output_type": "display_data"
    },
    {
     "data": {
      "image/png": "[encoded data removed]",
      "text/plain": [
       "<Figure size 432x288 with 1 Axes>"
      ]
     },
     "metadata": {
      "needs_background": "light"
     },
     "output_type": "display_data"
    }
   ],
   "source": [
    "print('monitor = %s, patience = %s' % ('val_accuracy', 10))\n",
    "\n",
    "plt.plot(range(len(train_loss)), train_loss, label=\"train loss\")\n",
    "plt.plot(range(len(valid_loss)), valid_loss, label=\"valid loss\")\n",
    "plt.legend()\n",
    "plt.title(\"Loss\")\n",
    "plt.show()\n",
    "\n",
    "plt.plot(range(len(train_acc)), train_acc, label=\"train accuracy\")\n",
    "plt.plot(range(len(valid_acc)), valid_acc, label=\"valid accuracy\")\n",
    "plt.legend()\n",
    "plt.title(\"Accuracy\")\n",
    "plt.show()"
   ]
  },
  {
   "cell_type": "code",
   "execution_count": 17,
   "metadata": {},
   "outputs": [
    {
     "name": "stdout",
     "output_type": "stream",
     "text": [
      "Model: \"model_3\"\n",
      "_________________________________________________________________\n",
      "Layer (type)                 Output Shape              Param #   \n",
      "=================================================================\n",
      "input_3 (InputLayer)         (None, 3072)              0         \n",
      "_________________________________________________________________\n",
      "hidden_layer1 (Dense)        (None, 512)               1573376   \n",
      "_________________________________________________________________\n",
      "batch_normalization_7 (Batch (None, 512)               2048      \n",
      "_________________________________________________________________\n",
      "hidden_layer2 (Dense)        (None, 256)               131328    \n",
      "_________________________________________________________________\n",
      "batch_normalization_8 (Batch (None, 256)               1024      \n",
      "_________________________________________________________________\n",
      "hidden_layer3 (Dense)        (None, 128)               32896     \n",
      "_________________________________________________________________\n",
      "batch_normalization_9 (Batch (None, 128)               512       \n",
      "_________________________________________________________________\n",
      "output (Dense)               (None, 10)                1290      \n",
      "=================================================================\n",
      "Total params: 1,742,474\n",
      "Trainable params: 1,740,682\n",
      "Non-trainable params: 1,792\n",
      "_________________________________________________________________\n",
      "Train on 50000 samples, validate on 10000 samples\n",
      "Epoch 1/50\n",
      "50000/50000 [==============================] - 5s 105us/step - loss: 2.2220 - accuracy: 0.2659 - val_loss: 2.0799 - val_accuracy: 0.2205\n",
      "Epoch 2/50\n",
      "50000/50000 [==============================] - 5s 95us/step - loss: 1.7306 - accuracy: 0.3932 - val_loss: 1.9541 - val_accuracy: 0.2800\n",
      "Epoch 3/50\n",
      "50000/50000 [==============================] - 5s 99us/step - loss: 1.6098 - accuracy: 0.4368 - val_loss: 1.8004 - val_accuracy: 0.3664\n",
      "Epoch 4/50\n",
      "50000/50000 [==============================] - 5s 100us/step - loss: 1.5407 - accuracy: 0.4600 - val_loss: 1.7000 - val_accuracy: 0.4077\n",
      "Epoch 5/50\n",
      "50000/50000 [==============================] - 5s 107us/step - loss: 1.4871 - accuracy: 0.4798 - val_loss: 1.6301 - val_accuracy: 0.4337\n",
      "Epoch 6/50\n",
      "50000/50000 [==============================] - 5s 91us/step - loss: 1.4437 - accuracy: 0.4965 - val_loss: 1.5771 - val_accuracy: 0.4471\n",
      "Epoch 7/50\n",
      "50000/50000 [==============================] - 5s 93us/step - loss: 1.4046 - accuracy: 0.5101 - val_loss: 1.5517 - val_accuracy: 0.4467\n",
      "Epoch 8/50\n",
      "50000/50000 [==============================] - 5s 96us/step - loss: 1.3717 - accuracy: 0.5229 - val_loss: 1.5128 - val_accuracy: 0.4642\n",
      "Epoch 9/50\n",
      "50000/50000 [==============================] - 5s 96us/step - loss: 1.3397 - accuracy: 0.5330 - val_loss: 1.4981 - val_accuracy: 0.4692\n",
      "Epoch 10/50\n",
      "50000/50000 [==============================] - 5s 97us/step - loss: 1.3107 - accuracy: 0.5430 - val_loss: 1.4920 - val_accuracy: 0.4716\n",
      "Epoch 11/50\n",
      "50000/50000 [==============================] - 5s 98us/step - loss: 1.2828 - accuracy: 0.5528 - val_loss: 1.4688 - val_accuracy: 0.4784\n",
      "Epoch 12/50\n",
      "50000/50000 [==============================] - 5s 99us/step - loss: 1.2551 - accuracy: 0.5639 - val_loss: 1.4686 - val_accuracy: 0.4789\n",
      "Epoch 13/50\n",
      "50000/50000 [==============================] - 6s 118us/step - loss: 1.2311 - accuracy: 0.5733 - val_loss: 1.4627 - val_accuracy: 0.4831\n",
      "Epoch 14/50\n",
      "50000/50000 [==============================] - 5s 96us/step - loss: 1.2044 - accuracy: 0.5828 - val_loss: 1.4639 - val_accuracy: 0.4843\n",
      "Epoch 15/50\n",
      "50000/50000 [==============================] - 5s 97us/step - loss: 1.1818 - accuracy: 0.5911 - val_loss: 1.4670 - val_accuracy: 0.4866\n",
      "Epoch 16/50\n",
      "50000/50000 [==============================] - 7s 136us/step - loss: 1.1588 - accuracy: 0.6020 - val_loss: 1.4473 - val_accuracy: 0.4890\n",
      "Epoch 17/50\n",
      "50000/50000 [==============================] - 6s 117us/step - loss: 1.1330 - accuracy: 0.6104 - val_loss: 1.4572 - val_accuracy: 0.4894\n",
      "Epoch 18/50\n",
      "50000/50000 [==============================] - 7s 131us/step - loss: 1.1120 - accuracy: 0.6186 - val_loss: 1.4462 - val_accuracy: 0.4938\n",
      "Epoch 19/50\n",
      "50000/50000 [==============================] - 5s 103us/step - loss: 1.0918 - accuracy: 0.6265 - val_loss: 1.4525 - val_accuracy: 0.4900\n",
      "Epoch 20/50\n",
      "50000/50000 [==============================] - 6s 114us/step - loss: 1.0699 - accuracy: 0.6354 - val_loss: 1.4654 - val_accuracy: 0.4889\n",
      "Epoch 21/50\n",
      "50000/50000 [==============================] - 6s 111us/step - loss: 1.0471 - accuracy: 0.6446 - val_loss: 1.4600 - val_accuracy: 0.4929\n",
      "Epoch 22/50\n",
      "50000/50000 [==============================] - 5s 96us/step - loss: 1.0274 - accuracy: 0.6518 - val_loss: 1.4538 - val_accuracy: 0.4956\n",
      "Epoch 23/50\n",
      "50000/50000 [==============================] - 6s 113us/step - loss: 1.0062 - accuracy: 0.6601 - val_loss: 1.4700 - val_accuracy: 0.4925\n",
      "Epoch 24/50\n",
      "50000/50000 [==============================] - 6s 124us/step - loss: 0.9851 - accuracy: 0.6673 - val_loss: 1.4600 - val_accuracy: 0.4945\n",
      "Epoch 25/50\n",
      "50000/50000 [==============================] - 5s 101us/step - loss: 0.9641 - accuracy: 0.6753 - val_loss: 1.4563 - val_accuracy: 0.4984\n",
      "Epoch 26/50\n",
      "50000/50000 [==============================] - 5s 108us/step - loss: 0.9447 - accuracy: 0.6830 - val_loss: 1.4563 - val_accuracy: 0.4952\n",
      "Epoch 27/50\n",
      "50000/50000 [==============================] - 5s 109us/step - loss: 0.9241 - accuracy: 0.6924 - val_loss: 1.4684 - val_accuracy: 0.4945\n",
      "Epoch 28/50\n",
      "50000/50000 [==============================] - 5s 95us/step - loss: 0.9040 - accuracy: 0.7016 - val_loss: 1.4819 - val_accuracy: 0.4913\n",
      "Epoch 29/50\n",
      "50000/50000 [==============================] - 6s 117us/step - loss: 0.8838 - accuracy: 0.7080 - val_loss: 1.4707 - val_accuracy: 0.5001\n",
      "Epoch 30/50\n",
      "50000/50000 [==============================] - 5s 106us/step - loss: 0.8627 - accuracy: 0.7158 - val_loss: 1.4836 - val_accuracy: 0.4922\n",
      "Epoch 31/50\n",
      "50000/50000 [==============================] - 4s 90us/step - loss: 0.8419 - accuracy: 0.7247 - val_loss: 1.4744 - val_accuracy: 0.4977\n",
      "Epoch 32/50\n",
      "50000/50000 [==============================] - 5s 90us/step - loss: 0.8220 - accuracy: 0.7311 - val_loss: 1.4815 - val_accuracy: 0.5021\n",
      "Epoch 33/50\n",
      "50000/50000 [==============================] - 5s 94us/step - loss: 0.8019 - accuracy: 0.7414 - val_loss: 1.4921 - val_accuracy: 0.4959\n",
      "Epoch 34/50\n",
      "50000/50000 [==============================] - 5s 97us/step - loss: 0.7826 - accuracy: 0.7480 - val_loss: 1.5075 - val_accuracy: 0.4962\n",
      "Epoch 35/50\n",
      "50000/50000 [==============================] - 5s 106us/step - loss: 0.7642 - accuracy: 0.7547 - val_loss: 1.5106 - val_accuracy: 0.4986\n",
      "Epoch 36/50\n",
      "50000/50000 [==============================] - 5s 102us/step - loss: 0.7452 - accuracy: 0.7601 - val_loss: 1.5202 - val_accuracy: 0.4932\n",
      "Epoch 37/50\n",
      "50000/50000 [==============================] - 5s 93us/step - loss: 0.7258 - accuracy: 0.7693 - val_loss: 1.5285 - val_accuracy: 0.4958\n",
      "Epoch 38/50\n",
      "50000/50000 [==============================] - 5s 92us/step - loss: 0.7079 - accuracy: 0.7768 - val_loss: 1.5289 - val_accuracy: 0.4963\n",
      "Epoch 39/50\n",
      "50000/50000 [==============================] - 5s 92us/step - loss: 0.6894 - accuracy: 0.7827 - val_loss: 1.5438 - val_accuracy: 0.4990\n",
      "Epoch 40/50\n",
      "50000/50000 [==============================] - 5s 95us/step - loss: 0.6689 - accuracy: 0.7927 - val_loss: 1.5528 - val_accuracy: 0.4947\n",
      "Epoch 41/50\n",
      "50000/50000 [==============================] - 5s 91us/step - loss: 0.6531 - accuracy: 0.7985 - val_loss: 1.5653 - val_accuracy: 0.4905\n",
      "Epoch 42/50\n",
      "50000/50000 [==============================] - 5s 93us/step - loss: 0.6325 - accuracy: 0.8069 - val_loss: 1.5785 - val_accuracy: 0.4919\n",
      "Epoch 43/50\n",
      "50000/50000 [==============================] - 5s 95us/step - loss: 0.6147 - accuracy: 0.8139 - val_loss: 1.5987 - val_accuracy: 0.4928\n",
      "Epoch 44/50\n",
      "50000/50000 [==============================] - 5s 91us/step - loss: 0.5973 - accuracy: 0.8216 - val_loss: 1.6008 - val_accuracy: 0.4907\n",
      "Epoch 45/50\n",
      "50000/50000 [==============================] - 4s 90us/step - loss: 0.5795 - accuracy: 0.8283 - val_loss: 1.5910 - val_accuracy: 0.4941\n",
      "Epoch 46/50\n"
     ]
    },
    {
     "name": "stdout",
     "output_type": "stream",
     "text": [
      "50000/50000 [==============================] - 4s 89us/step - loss: 0.5624 - accuracy: 0.8353 - val_loss: 1.6221 - val_accuracy: 0.4925\n",
      "Epoch 47/50\n",
      "50000/50000 [==============================] - 4s 89us/step - loss: 0.5443 - accuracy: 0.8438 - val_loss: 1.6266 - val_accuracy: 0.4912\n",
      "Epoch 48/50\n",
      "50000/50000 [==============================] - 4s 90us/step - loss: 0.5263 - accuracy: 0.8490 - val_loss: 1.6569 - val_accuracy: 0.4895\n",
      "Epoch 49/50\n",
      "50000/50000 [==============================] - 4s 89us/step - loss: 0.5118 - accuracy: 0.8552 - val_loss: 1.6613 - val_accuracy: 0.4820\n",
      "Epoch 50/50\n",
      "50000/50000 [==============================] - 4s 89us/step - loss: 0.4944 - accuracy: 0.8619 - val_loss: 1.6853 - val_accuracy: 0.4872\n"
     ]
    }
   ],
   "source": [
    "from keras.callbacks import EarlyStopping\n",
    "\n",
    "earlystop = EarlyStopping(monitor=\"val_accuracy\", \n",
    "                          patience=25, \n",
    "                          verbose=1\n",
    "                          )\n",
    "\n",
    "model = build_mlp(input_shape=x_train.shape[1:])\n",
    "model.summary()\n",
    "optimizer = keras.optimizers.SGD(lr=LEARNING_RATE, nesterov=True, momentum=MOMENTUM)\n",
    "model.compile(loss=\"categorical_crossentropy\", metrics=[\"accuracy\"], optimizer=optimizer)\n",
    "\n",
    "model.fit(x_train, y_train, \n",
    "          epochs=EPOCHS, \n",
    "          batch_size=BATCH_SIZE, \n",
    "          validation_data=(x_test, y_test), \n",
    "          shuffle=True,\n",
    "          callbacks=[earlystop]\n",
    "         )\n",
    "\n",
    "# Collect results\n",
    "train_loss = model.history.history[\"loss\"]\n",
    "valid_loss = model.history.history[\"val_loss\"]\n",
    "train_acc = model.history.history[\"accuracy\"]\n",
    "valid_acc = model.history.history[\"val_accuracy\"]"
   ]
  },
  {
   "cell_type": "code",
   "execution_count": 18,
   "metadata": {},
   "outputs": [
    {
     "name": "stdout",
     "output_type": "stream",
     "text": [
      "monitor = val_accuracy, patience = 25\n"
     ]
    },
    {
     "data": {
      "image/png": "[encoded data removed]",
      "text/plain": [
       "<Figure size 432x288 with 1 Axes>"
      ]
     },
     "metadata": {
      "needs_background": "light"
     },
     "output_type": "display_data"
    },
    {
     "data": {
      "image/png": "[encoded data removed]",
      "text/plain": [
       "<Figure size 432x288 with 1 Axes>"
      ]
     },
     "metadata": {
      "needs_background": "light"
     },
     "output_type": "display_data"
    }
   ],
   "source": [
    "print('monitor = %s, patience = %s' % ('val_accuracy', 25))\n",
    "\n",
    "plt.plot(range(len(train_loss)), train_loss, label=\"train loss\")\n",
    "plt.plot(range(len(valid_loss)), valid_loss, label=\"valid loss\")\n",
    "plt.legend()\n",
    "plt.title(\"Loss\")\n",
    "plt.show()\n",
    "\n",
    "plt.plot(range(len(train_acc)), train_acc, label=\"train accuracy\")\n",
    "plt.plot(range(len(valid_acc)), valid_acc, label=\"valid accuracy\")\n",
    "plt.legend()\n",
    "plt.title(\"Accuracy\")\n",
    "plt.show()"
   ]
  },
  {
   "cell_type": "code",
   "execution_count": null,
   "metadata": {},
   "outputs": [],
   "source": []
  }
 ],
 "metadata": {
  "kernelspec": {
   "display_name": "Python 3",
   "language": "python",
   "name": "python3"
  },
  "language_info": {
   "codemirror_mode": {
    "name": "ipython",
    "version": 3
   },
   "file_extension": ".py",
   "mimetype": "text/x-python",
   "name": "python",
   "nbconvert_exporter": "python",
   "pygments_lexer": "ipython3",
   "version": "3.7.3"
  }
 },
 "nbformat": 4,
 "nbformat_minor": 2
}

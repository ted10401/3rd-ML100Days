{
 "cells": [
  {
   "cell_type": "markdown",
   "metadata": {},
   "source": [
    "# 作業\n",
    "* 選擇分類資料集(右下)-螺旋雙臂 - 交錯六群，限定特徵只能使用前兩個，隱藏層 2 層滿 (共 8 * 2 =16 個神經元)，  \n",
    "  遞迴次數只允許跑到500次，但可以自由調整 批次大小、學習速率、啟動函數、正規化選項與參數\n",
    "* 在上述限制下，挑戰看看測試誤差 (Test Loss) 最低能到多少? 請回答你的上述幾項參數與 Test Loss 數"
   ]
  },
  {
   "cell_type": "markdown",
   "metadata": {
    "collapsed": true
   },
   "source": []
  },
  {
   "cell_type": "markdown",
   "metadata": {},
   "source": [
    "# 預設值\n",
    "Batch Size = 10、Learning Rate = 0.03、Activation = Tanh、Regularization = None、Regularization rate = 0\n",
    "Test Loss = 0.19\n",
    "\n",
    "# Batch Size\n",
    "Batch Size = 1、Learning Rate = 0.03、Activation = Tanh、Regularization = None、Regularization rate = 0\n",
    "Test Loss = 0.27\n",
    "\n",
    "Batch Size = 5、Learning Rate = 0.03、Activation = Tanh、Regularization = None、Regularization rate = 0\n",
    "Test Loss = 0.196\n",
    "\n",
    "Batch Size = 15、Learning Rate = 0.03、Activation = Tanh、Regularization = None、Regularization rate = 0\n",
    "Test Loss = 0.352\n",
    "\n",
    "Batch Size = 20、Learning Rate = 0.03、Activation = Tanh、Regularization = None、Regularization rate = 0\n",
    "Test Loss = 0.422\n",
    "\n",
    "# Learning Rate\n",
    "Batch Size = 10、Learning Rate = 0.3、Activation = Tanh、Regularization = None、Regularization rate = 0\n",
    "Test Loss = 0.0312\n",
    "\n",
    "Batch Size = 10、Learning Rate = 1、Activation = Tanh、Regularization = None、Regularization rate = 0\n",
    "無法收斂\n",
    "\n",
    "# Activation\n",
    "Batch Size = 10、Learning Rate = 0.03、Activation = ReLU、Regularization = None、Regularization rate = 0\n",
    "Test Loss = 0.34\n",
    "\n",
    "Batch Size = 10、Learning Rate = 0.03、Activation = Sigmoid、Regularization = None、Regularization rate = 0\n",
    "Test Loss = 0.497\n",
    "\n",
    "Batch Size = 10、Learning Rate = 0.03、Activation = Linear、Regularization = None、Regularization rate = 0\n",
    "Test Loss = 0.496\n",
    "\n",
    "# Regularization\n",
    "Batch Size = 10、Learning Rate = 0.03、Activation = Tanh、Regularization = None、Regularization rate = 0.03\n",
    "Test Loss = 0.249\n",
    "\n",
    "Batch Size = 10、Learning Rate = 0.03、Activation = Tanh、Regularization = L1、Regularization rate = 0\n",
    "Test Loss = 0.406\n",
    "\n",
    "Batch Size = 10、Learning Rate = 0.03、Activation = Tanh、Regularization = L1、Regularization rate = 0.001\n",
    "Test Loss = 0.491\n",
    "\n",
    "Batch Size = 10、Learning Rate = 0.03、Activation = Tanh、Regularization = L1、Regularization rate = 0.003\n",
    "Test Loss = 0.494\n",
    "\n",
    "Batch Size = 10、Learning Rate = 0.03、Activation = Tanh、Regularization = L2、Regularization rate = 0\n",
    "Test Loss = 0.342\n",
    "\n",
    "Batch Size = 10、Learning Rate = 0.03、Activation = Tanh、Regularization = L2、Regularization rate = 0.001\n",
    "Test Loss = 0.346\n",
    "\n",
    "Batch Size = 10、Learning Rate = 0.03、Activation = Tanh、Regularization = L2、Regularization rate = 0.003\n",
    "Test Loss = 0.41\n",
    "\n",
    "Batch Size = 10、Learning Rate = 0.03、Activation = Tanh、Regularization = L2、Regularization rate = 0.01\n",
    "Test Loss = 0.496\n",
    "\n",
    "# 組合\n",
    "Batch Size = 10、Learning Rate = 0.3、Activation = ReLU、Regularization = None、Regularization rate = 0.003\n",
    "Test Loss = 0.161\n",
    "\n",
    "Batch Size = 10、Learning Rate = 0.3、Activation = Sigmoid、Regularization = None、Regularization rate = 0.003\n",
    "Test Loss = 0.363\n",
    "\n",
    "Batch Size = 10、Learning Rate = 0.3、Activation = Tanh、Regularization = L2、Regularization rate = 0.003\n",
    "Test Loss = 0.165\n",
    "\n",
    "# 結果\n",
    "Batch Size = 10、Learning Rate = 0.3、Activation = ReLU、Regularization = None、Regularization rate = 0.003\n",
    "Test Loss = 0.161"
   ]
  },
  {
   "cell_type": "code",
   "execution_count": null,
   "metadata": {},
   "outputs": [],
   "source": []
  }
 ],
 "metadata": {
  "kernelspec": {
   "display_name": "Python 3",
   "language": "python",
   "name": "python3"
  },
  "language_info": {
   "codemirror_mode": {
    "name": "ipython",
    "version": 3
   },
   "file_extension": ".py",
   "mimetype": "text/x-python",
   "name": "python",
   "nbconvert_exporter": "python",
   "pygments_lexer": "ipython3",
   "version": "3.7.3"
  }
 },
 "nbformat": 4,
 "nbformat_minor": 2
}

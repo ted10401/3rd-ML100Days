{
 "cells": [
  {
   "cell_type": "markdown",
   "metadata": {},
   "source": [
    "# 作業\n",
    "* 試著想想看, 非監督學習是否有可能使用評價函數 (Metric) 來鑑別好壞呢?  \n",
    "(Hint : 可以分為 \"有目標值\" 與 \"無目標值\" 兩個方向思考)"
   ]
  },
  {
   "cell_type": "markdown",
   "metadata": {
    "collapsed": true
   },
   "source": [
    "# 有目標值\n",
    "## Purity 方法\n",
    "計算正確據類的文檔數佔總文檔數的比例\n",
    "\n",
    "## RI 方法（Rand Index 蘭德指數）\n",
    "## F 值方法\n",
    "\n",
    "# 無目標值\n",
    "凸分佈的情況，可以透過類內聚合度、類間低耦合的原則\n",
    "\n",
    "## Compactness (緊密性)(CP)\n",
    "計算每一個類各點到聚類中心的平均距離，K-Means 聚類算法就是基於此思想\n",
    "缺點：沒有考慮類間效果\n",
    "\n",
    "## Separation (間隔性)(SP)\n",
    "計算各聚類中心兩兩之間的平均距離，SP越高代表類間距離越遠\n",
    "缺點：沒有考慮類內效果\n",
    "\n",
    "## Davies-Bouldin Index (戴維森堡丁指數)(分類適確性指標)(DB)(DBI)\n",
    "計算任意兩類別的類內距離平均距離(CP)之和除以兩聚類中心距離求最大值，DB 越小意味類內距離越小，同時類間距離越大\n",
    "缺點：因為使用歐式距離，對環狀分佈評測很差\n",
    "\n",
    "## Dunn Validity Index (鄧恩指數)(DVI)\n",
    "計算任意两个簇元素的最短距離(類間)除以任意簇中的最大距離(類內)，DVI 越大意味類間距離越大，同時類內距離越小\n",
    "缺點：對離散點的聚類評測很高，對環狀分佈評測效果差\n",
    "\n",
    "# 資料來源\n",
    "[无监督聚类算法该如何评价](https://blog.csdn.net/u013709270/article/details/74276533)"
   ]
  },
  {
   "cell_type": "code",
   "execution_count": null,
   "metadata": {},
   "outputs": [],
   "source": []
  }
 ],
 "metadata": {
  "kernelspec": {
   "display_name": "Python 3",
   "language": "python",
   "name": "python3"
  },
  "language_info": {
   "codemirror_mode": {
    "name": "ipython",
    "version": 3
   },
   "file_extension": ".py",
   "mimetype": "text/x-python",
   "name": "python",
   "nbconvert_exporter": "python",
   "pygments_lexer": "ipython3",
   "version": "3.7.3"
  }
 },
 "nbformat": 4,
 "nbformat_minor": 1
}

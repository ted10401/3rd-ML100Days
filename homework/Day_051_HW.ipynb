{
 "cells": [
  {
   "cell_type": "markdown",
   "metadata": {},
   "source": [
    "# Load Data"
   ]
  },
  {
   "cell_type": "code",
   "execution_count": 417,
   "metadata": {},
   "outputs": [
    {
     "data": {
      "text/html": [
       "<div>\n",
       "<style scoped>\n",
       "    .dataframe tbody tr th:only-of-type {\n",
       "        vertical-align: middle;\n",
       "    }\n",
       "\n",
       "    .dataframe tbody tr th {\n",
       "        vertical-align: top;\n",
       "    }\n",
       "\n",
       "    .dataframe thead th {\n",
       "        text-align: right;\n",
       "    }\n",
       "</style>\n",
       "<table border=\"1\" class=\"dataframe\">\n",
       "  <thead>\n",
       "    <tr style=\"text-align: right;\">\n",
       "      <th></th>\n",
       "      <th>bonus</th>\n",
       "      <th>deferral_payments</th>\n",
       "      <th>deferred_income</th>\n",
       "      <th>director_fees</th>\n",
       "      <th>exercised_stock_options</th>\n",
       "      <th>expenses</th>\n",
       "      <th>from_messages</th>\n",
       "      <th>from_poi_to_this_person</th>\n",
       "      <th>from_this_person_to_poi</th>\n",
       "      <th>loan_advances</th>\n",
       "      <th>long_term_incentive</th>\n",
       "      <th>other</th>\n",
       "      <th>restricted_stock</th>\n",
       "      <th>restricted_stock_deferred</th>\n",
       "      <th>salary</th>\n",
       "      <th>shared_receipt_with_poi</th>\n",
       "      <th>to_messages</th>\n",
       "      <th>total_payments</th>\n",
       "      <th>total_stock_value</th>\n",
       "    </tr>\n",
       "  </thead>\n",
       "  <tbody>\n",
       "    <tr>\n",
       "      <th>count</th>\n",
       "      <td>6.100000e+01</td>\n",
       "      <td>2.800000e+01</td>\n",
       "      <td>3.400000e+01</td>\n",
       "      <td>13.000000</td>\n",
       "      <td>8.100000e+01</td>\n",
       "      <td>73.000000</td>\n",
       "      <td>65.000000</td>\n",
       "      <td>65.000000</td>\n",
       "      <td>65.000000</td>\n",
       "      <td>2.000000e+00</td>\n",
       "      <td>4.900000e+01</td>\n",
       "      <td>6.900000e+01</td>\n",
       "      <td>8.200000e+01</td>\n",
       "      <td>10.000000</td>\n",
       "      <td>7.300000e+01</td>\n",
       "      <td>65.000000</td>\n",
       "      <td>65.000000</td>\n",
       "      <td>9.600000e+01</td>\n",
       "      <td>9.800000e+01</td>\n",
       "    </tr>\n",
       "    <tr>\n",
       "      <th>mean</th>\n",
       "      <td>1.147436e+06</td>\n",
       "      <td>6.344374e+05</td>\n",
       "      <td>-4.625664e+05</td>\n",
       "      <td>89397.846154</td>\n",
       "      <td>2.985081e+06</td>\n",
       "      <td>51040.547945</td>\n",
       "      <td>711.323077</td>\n",
       "      <td>64.800000</td>\n",
       "      <td>40.092308</td>\n",
       "      <td>4.096250e+07</td>\n",
       "      <td>7.926171e+05</td>\n",
       "      <td>4.471774e+05</td>\n",
       "      <td>1.294855e+06</td>\n",
       "      <td>-221885.700000</td>\n",
       "      <td>2.739025e+05</td>\n",
       "      <td>1111.369231</td>\n",
       "      <td>2156.061538</td>\n",
       "      <td>2.590977e+06</td>\n",
       "      <td>3.527136e+06</td>\n",
       "    </tr>\n",
       "    <tr>\n",
       "      <th>std</th>\n",
       "      <td>1.505189e+06</td>\n",
       "      <td>8.603646e+05</td>\n",
       "      <td>8.095392e+05</td>\n",
       "      <td>41143.391399</td>\n",
       "      <td>6.004174e+06</td>\n",
       "      <td>47596.682104</td>\n",
       "      <td>2074.497628</td>\n",
       "      <td>91.863214</td>\n",
       "      <td>88.901407</td>\n",
       "      <td>5.736404e+07</td>\n",
       "      <td>9.504645e+05</td>\n",
       "      <td>1.341564e+06</td>\n",
       "      <td>2.498335e+06</td>\n",
       "      <td>205191.374121</td>\n",
       "      <td>1.716647e+05</td>\n",
       "      <td>1165.852016</td>\n",
       "      <td>2811.676718</td>\n",
       "      <td>1.056645e+07</td>\n",
       "      <td>7.182997e+06</td>\n",
       "    </tr>\n",
       "    <tr>\n",
       "      <th>min</th>\n",
       "      <td>7.000000e+04</td>\n",
       "      <td>-1.025000e+05</td>\n",
       "      <td>-3.504386e+06</td>\n",
       "      <td>3285.000000</td>\n",
       "      <td>3.285000e+03</td>\n",
       "      <td>148.000000</td>\n",
       "      <td>12.000000</td>\n",
       "      <td>0.000000</td>\n",
       "      <td>0.000000</td>\n",
       "      <td>4.000000e+05</td>\n",
       "      <td>7.102300e+04</td>\n",
       "      <td>2.000000e+00</td>\n",
       "      <td>4.409300e+04</td>\n",
       "      <td>-560222.000000</td>\n",
       "      <td>4.770000e+02</td>\n",
       "      <td>2.000000</td>\n",
       "      <td>57.000000</td>\n",
       "      <td>1.480000e+02</td>\n",
       "      <td>-4.409300e+04</td>\n",
       "    </tr>\n",
       "    <tr>\n",
       "      <th>25%</th>\n",
       "      <td>4.500000e+05</td>\n",
       "      <td>7.656750e+04</td>\n",
       "      <td>-5.527032e+05</td>\n",
       "      <td>101250.000000</td>\n",
       "      <td>4.004780e+05</td>\n",
       "      <td>18834.000000</td>\n",
       "      <td>19.000000</td>\n",
       "      <td>10.000000</td>\n",
       "      <td>0.000000</td>\n",
       "      <td>2.068125e+07</td>\n",
       "      <td>2.750000e+05</td>\n",
       "      <td>9.720000e+02</td>\n",
       "      <td>2.689220e+05</td>\n",
       "      <td>-389621.750000</td>\n",
       "      <td>2.061210e+05</td>\n",
       "      <td>178.000000</td>\n",
       "      <td>517.000000</td>\n",
       "      <td>3.024025e+05</td>\n",
       "      <td>4.211518e+05</td>\n",
       "    </tr>\n",
       "    <tr>\n",
       "      <th>50%</th>\n",
       "      <td>7.500000e+05</td>\n",
       "      <td>1.951900e+05</td>\n",
       "      <td>-1.175340e+05</td>\n",
       "      <td>108579.000000</td>\n",
       "      <td>8.500100e+05</td>\n",
       "      <td>41953.000000</td>\n",
       "      <td>45.000000</td>\n",
       "      <td>28.000000</td>\n",
       "      <td>7.000000</td>\n",
       "      <td>4.096250e+07</td>\n",
       "      <td>4.221580e+05</td>\n",
       "      <td>5.238200e+04</td>\n",
       "      <td>4.628225e+05</td>\n",
       "      <td>-139856.500000</td>\n",
       "      <td>2.516540e+05</td>\n",
       "      <td>599.000000</td>\n",
       "      <td>1088.000000</td>\n",
       "      <td>1.106740e+06</td>\n",
       "      <td>9.979710e+05</td>\n",
       "    </tr>\n",
       "    <tr>\n",
       "      <th>75%</th>\n",
       "      <td>1.000000e+06</td>\n",
       "      <td>8.342052e+05</td>\n",
       "      <td>-2.708325e+04</td>\n",
       "      <td>112492.000000</td>\n",
       "      <td>2.165172e+06</td>\n",
       "      <td>59175.000000</td>\n",
       "      <td>215.000000</td>\n",
       "      <td>88.000000</td>\n",
       "      <td>27.000000</td>\n",
       "      <td>6.124375e+07</td>\n",
       "      <td>8.318090e+05</td>\n",
       "      <td>3.620960e+05</td>\n",
       "      <td>9.664905e+05</td>\n",
       "      <td>-77953.250000</td>\n",
       "      <td>2.885890e+05</td>\n",
       "      <td>1902.000000</td>\n",
       "      <td>2649.000000</td>\n",
       "      <td>1.985668e+06</td>\n",
       "      <td>2.493616e+06</td>\n",
       "    </tr>\n",
       "    <tr>\n",
       "      <th>max</th>\n",
       "      <td>8.000000e+06</td>\n",
       "      <td>2.964506e+06</td>\n",
       "      <td>-1.042000e+03</td>\n",
       "      <td>125034.000000</td>\n",
       "      <td>3.434838e+07</td>\n",
       "      <td>228763.000000</td>\n",
       "      <td>14368.000000</td>\n",
       "      <td>528.000000</td>\n",
       "      <td>411.000000</td>\n",
       "      <td>8.152500e+07</td>\n",
       "      <td>5.145434e+06</td>\n",
       "      <td>1.035973e+07</td>\n",
       "      <td>1.476169e+07</td>\n",
       "      <td>44093.000000</td>\n",
       "      <td>1.111258e+06</td>\n",
       "      <td>4527.000000</td>\n",
       "      <td>15149.000000</td>\n",
       "      <td>1.035598e+08</td>\n",
       "      <td>4.911008e+07</td>\n",
       "    </tr>\n",
       "  </tbody>\n",
       "</table>\n",
       "</div>"
      ],
      "text/plain": [
       "              bonus  deferral_payments  deferred_income  director_fees  \\\n",
       "count  6.100000e+01       2.800000e+01     3.400000e+01      13.000000   \n",
       "mean   1.147436e+06       6.344374e+05    -4.625664e+05   89397.846154   \n",
       "std    1.505189e+06       8.603646e+05     8.095392e+05   41143.391399   \n",
       "min    7.000000e+04      -1.025000e+05    -3.504386e+06    3285.000000   \n",
       "25%    4.500000e+05       7.656750e+04    -5.527032e+05  101250.000000   \n",
       "50%    7.500000e+05       1.951900e+05    -1.175340e+05  108579.000000   \n",
       "75%    1.000000e+06       8.342052e+05    -2.708325e+04  112492.000000   \n",
       "max    8.000000e+06       2.964506e+06    -1.042000e+03  125034.000000   \n",
       "\n",
       "       exercised_stock_options       expenses  from_messages  \\\n",
       "count             8.100000e+01      73.000000      65.000000   \n",
       "mean              2.985081e+06   51040.547945     711.323077   \n",
       "std               6.004174e+06   47596.682104    2074.497628   \n",
       "min               3.285000e+03     148.000000      12.000000   \n",
       "25%               4.004780e+05   18834.000000      19.000000   \n",
       "50%               8.500100e+05   41953.000000      45.000000   \n",
       "75%               2.165172e+06   59175.000000     215.000000   \n",
       "max               3.434838e+07  228763.000000   14368.000000   \n",
       "\n",
       "       from_poi_to_this_person  from_this_person_to_poi  loan_advances  \\\n",
       "count                65.000000                65.000000   2.000000e+00   \n",
       "mean                 64.800000                40.092308   4.096250e+07   \n",
       "std                  91.863214                88.901407   5.736404e+07   \n",
       "min                   0.000000                 0.000000   4.000000e+05   \n",
       "25%                  10.000000                 0.000000   2.068125e+07   \n",
       "50%                  28.000000                 7.000000   4.096250e+07   \n",
       "75%                  88.000000                27.000000   6.124375e+07   \n",
       "max                 528.000000               411.000000   8.152500e+07   \n",
       "\n",
       "       long_term_incentive         other  restricted_stock  \\\n",
       "count         4.900000e+01  6.900000e+01      8.200000e+01   \n",
       "mean          7.926171e+05  4.471774e+05      1.294855e+06   \n",
       "std           9.504645e+05  1.341564e+06      2.498335e+06   \n",
       "min           7.102300e+04  2.000000e+00      4.409300e+04   \n",
       "25%           2.750000e+05  9.720000e+02      2.689220e+05   \n",
       "50%           4.221580e+05  5.238200e+04      4.628225e+05   \n",
       "75%           8.318090e+05  3.620960e+05      9.664905e+05   \n",
       "max           5.145434e+06  1.035973e+07      1.476169e+07   \n",
       "\n",
       "       restricted_stock_deferred        salary  shared_receipt_with_poi  \\\n",
       "count                  10.000000  7.300000e+01                65.000000   \n",
       "mean              -221885.700000  2.739025e+05              1111.369231   \n",
       "std                205191.374121  1.716647e+05              1165.852016   \n",
       "min               -560222.000000  4.770000e+02                 2.000000   \n",
       "25%               -389621.750000  2.061210e+05               178.000000   \n",
       "50%               -139856.500000  2.516540e+05               599.000000   \n",
       "75%                -77953.250000  2.885890e+05              1902.000000   \n",
       "max                 44093.000000  1.111258e+06              4527.000000   \n",
       "\n",
       "        to_messages  total_payments  total_stock_value  \n",
       "count     65.000000    9.600000e+01       9.800000e+01  \n",
       "mean    2156.061538    2.590977e+06       3.527136e+06  \n",
       "std     2811.676718    1.056645e+07       7.182997e+06  \n",
       "min       57.000000    1.480000e+02      -4.409300e+04  \n",
       "25%      517.000000    3.024025e+05       4.211518e+05  \n",
       "50%     1088.000000    1.106740e+06       9.979710e+05  \n",
       "75%     2649.000000    1.985668e+06       2.493616e+06  \n",
       "max    15149.000000    1.035598e+08       4.911008e+07  "
      ]
     },
     "execution_count": 417,
     "metadata": {},
     "output_type": "execute_result"
    }
   ],
   "source": [
    "import pandas as pd\n",
    "import numpy as np\n",
    "import copy\n",
    "from sklearn.preprocessing import LabelEncoder, MinMaxScaler\n",
    "from sklearn.ensemble import RandomForestClassifier\n",
    "import warnings\n",
    "warnings.filterwarnings('ignore')\n",
    "import seaborn as sns\n",
    "sns.set(style = \"white\", color_codes = True)\n",
    "import matplotlib.pyplot as plt\n",
    "\n",
    "data_path = 'data/'\n",
    "train_data = pd.read_csv(data_path + 'train_data.csv')\n",
    "test_data = pd.read_csv(data_path + 'test_data.csv')\n",
    "\n",
    "names = test_data['name']\n",
    "target_data = train_data['poi']\n",
    "\n",
    "train_data.describe()"
   ]
  },
  {
   "cell_type": "code",
   "execution_count": 418,
   "metadata": {},
   "outputs": [
    {
     "data": {
      "text/html": [
       "<div>\n",
       "<style scoped>\n",
       "    .dataframe tbody tr th:only-of-type {\n",
       "        vertical-align: middle;\n",
       "    }\n",
       "\n",
       "    .dataframe tbody tr th {\n",
       "        vertical-align: top;\n",
       "    }\n",
       "\n",
       "    .dataframe thead th {\n",
       "        text-align: right;\n",
       "    }\n",
       "</style>\n",
       "<table border=\"1\" class=\"dataframe\">\n",
       "  <thead>\n",
       "    <tr style=\"text-align: right;\">\n",
       "      <th></th>\n",
       "      <th>bonus</th>\n",
       "      <th>deferral_payments</th>\n",
       "      <th>deferred_income</th>\n",
       "      <th>director_fees</th>\n",
       "      <th>exercised_stock_options</th>\n",
       "      <th>expenses</th>\n",
       "      <th>from_messages</th>\n",
       "      <th>from_poi_to_this_person</th>\n",
       "      <th>from_this_person_to_poi</th>\n",
       "      <th>loan_advances</th>\n",
       "      <th>long_term_incentive</th>\n",
       "      <th>other</th>\n",
       "      <th>restricted_stock</th>\n",
       "      <th>restricted_stock_deferred</th>\n",
       "      <th>salary</th>\n",
       "      <th>shared_receipt_with_poi</th>\n",
       "      <th>to_messages</th>\n",
       "      <th>total_payments</th>\n",
       "      <th>total_stock_value</th>\n",
       "    </tr>\n",
       "  </thead>\n",
       "  <tbody>\n",
       "    <tr>\n",
       "      <th>count</th>\n",
       "      <td>6.100000e+01</td>\n",
       "      <td>2.800000e+01</td>\n",
       "      <td>3.400000e+01</td>\n",
       "      <td>13.000000</td>\n",
       "      <td>8.100000e+01</td>\n",
       "      <td>73.000000</td>\n",
       "      <td>65.000000</td>\n",
       "      <td>65.000000</td>\n",
       "      <td>65.000000</td>\n",
       "      <td>2.000000e+00</td>\n",
       "      <td>4.900000e+01</td>\n",
       "      <td>6.900000e+01</td>\n",
       "      <td>8.200000e+01</td>\n",
       "      <td>10.000000</td>\n",
       "      <td>7.300000e+01</td>\n",
       "      <td>65.000000</td>\n",
       "      <td>65.000000</td>\n",
       "      <td>9.600000e+01</td>\n",
       "      <td>9.800000e+01</td>\n",
       "    </tr>\n",
       "    <tr>\n",
       "      <th>mean</th>\n",
       "      <td>1.147436e+06</td>\n",
       "      <td>6.344374e+05</td>\n",
       "      <td>-4.625664e+05</td>\n",
       "      <td>89397.846154</td>\n",
       "      <td>2.985081e+06</td>\n",
       "      <td>51040.547945</td>\n",
       "      <td>711.323077</td>\n",
       "      <td>64.800000</td>\n",
       "      <td>40.092308</td>\n",
       "      <td>4.096250e+07</td>\n",
       "      <td>7.926171e+05</td>\n",
       "      <td>4.471774e+05</td>\n",
       "      <td>1.294855e+06</td>\n",
       "      <td>-221885.700000</td>\n",
       "      <td>2.739025e+05</td>\n",
       "      <td>1111.369231</td>\n",
       "      <td>2156.061538</td>\n",
       "      <td>2.590977e+06</td>\n",
       "      <td>3.527136e+06</td>\n",
       "    </tr>\n",
       "    <tr>\n",
       "      <th>std</th>\n",
       "      <td>1.505189e+06</td>\n",
       "      <td>8.603646e+05</td>\n",
       "      <td>8.095392e+05</td>\n",
       "      <td>41143.391399</td>\n",
       "      <td>6.004174e+06</td>\n",
       "      <td>47596.682104</td>\n",
       "      <td>2074.497628</td>\n",
       "      <td>91.863214</td>\n",
       "      <td>88.901407</td>\n",
       "      <td>5.736404e+07</td>\n",
       "      <td>9.504645e+05</td>\n",
       "      <td>1.341564e+06</td>\n",
       "      <td>2.498335e+06</td>\n",
       "      <td>205191.374121</td>\n",
       "      <td>1.716647e+05</td>\n",
       "      <td>1165.852016</td>\n",
       "      <td>2811.676718</td>\n",
       "      <td>1.056645e+07</td>\n",
       "      <td>7.182997e+06</td>\n",
       "    </tr>\n",
       "    <tr>\n",
       "      <th>min</th>\n",
       "      <td>7.000000e+04</td>\n",
       "      <td>-1.025000e+05</td>\n",
       "      <td>-3.504386e+06</td>\n",
       "      <td>3285.000000</td>\n",
       "      <td>3.285000e+03</td>\n",
       "      <td>148.000000</td>\n",
       "      <td>12.000000</td>\n",
       "      <td>0.000000</td>\n",
       "      <td>0.000000</td>\n",
       "      <td>4.000000e+05</td>\n",
       "      <td>7.102300e+04</td>\n",
       "      <td>2.000000e+00</td>\n",
       "      <td>4.409300e+04</td>\n",
       "      <td>-560222.000000</td>\n",
       "      <td>4.770000e+02</td>\n",
       "      <td>2.000000</td>\n",
       "      <td>57.000000</td>\n",
       "      <td>1.480000e+02</td>\n",
       "      <td>-4.409300e+04</td>\n",
       "    </tr>\n",
       "    <tr>\n",
       "      <th>25%</th>\n",
       "      <td>4.500000e+05</td>\n",
       "      <td>7.656750e+04</td>\n",
       "      <td>-5.527032e+05</td>\n",
       "      <td>101250.000000</td>\n",
       "      <td>4.004780e+05</td>\n",
       "      <td>18834.000000</td>\n",
       "      <td>19.000000</td>\n",
       "      <td>10.000000</td>\n",
       "      <td>0.000000</td>\n",
       "      <td>2.068125e+07</td>\n",
       "      <td>2.750000e+05</td>\n",
       "      <td>9.720000e+02</td>\n",
       "      <td>2.689220e+05</td>\n",
       "      <td>-389621.750000</td>\n",
       "      <td>2.061210e+05</td>\n",
       "      <td>178.000000</td>\n",
       "      <td>517.000000</td>\n",
       "      <td>3.024025e+05</td>\n",
       "      <td>4.211518e+05</td>\n",
       "    </tr>\n",
       "    <tr>\n",
       "      <th>50%</th>\n",
       "      <td>7.500000e+05</td>\n",
       "      <td>1.951900e+05</td>\n",
       "      <td>-1.175340e+05</td>\n",
       "      <td>108579.000000</td>\n",
       "      <td>8.500100e+05</td>\n",
       "      <td>41953.000000</td>\n",
       "      <td>45.000000</td>\n",
       "      <td>28.000000</td>\n",
       "      <td>7.000000</td>\n",
       "      <td>4.096250e+07</td>\n",
       "      <td>4.221580e+05</td>\n",
       "      <td>5.238200e+04</td>\n",
       "      <td>4.628225e+05</td>\n",
       "      <td>-139856.500000</td>\n",
       "      <td>2.516540e+05</td>\n",
       "      <td>599.000000</td>\n",
       "      <td>1088.000000</td>\n",
       "      <td>1.106740e+06</td>\n",
       "      <td>9.979710e+05</td>\n",
       "    </tr>\n",
       "    <tr>\n",
       "      <th>75%</th>\n",
       "      <td>1.000000e+06</td>\n",
       "      <td>8.342052e+05</td>\n",
       "      <td>-2.708325e+04</td>\n",
       "      <td>112492.000000</td>\n",
       "      <td>2.165172e+06</td>\n",
       "      <td>59175.000000</td>\n",
       "      <td>215.000000</td>\n",
       "      <td>88.000000</td>\n",
       "      <td>27.000000</td>\n",
       "      <td>6.124375e+07</td>\n",
       "      <td>8.318090e+05</td>\n",
       "      <td>3.620960e+05</td>\n",
       "      <td>9.664905e+05</td>\n",
       "      <td>-77953.250000</td>\n",
       "      <td>2.885890e+05</td>\n",
       "      <td>1902.000000</td>\n",
       "      <td>2649.000000</td>\n",
       "      <td>1.985668e+06</td>\n",
       "      <td>2.493616e+06</td>\n",
       "    </tr>\n",
       "    <tr>\n",
       "      <th>max</th>\n",
       "      <td>8.000000e+06</td>\n",
       "      <td>2.964506e+06</td>\n",
       "      <td>-1.042000e+03</td>\n",
       "      <td>125034.000000</td>\n",
       "      <td>3.434838e+07</td>\n",
       "      <td>228763.000000</td>\n",
       "      <td>14368.000000</td>\n",
       "      <td>528.000000</td>\n",
       "      <td>411.000000</td>\n",
       "      <td>8.152500e+07</td>\n",
       "      <td>5.145434e+06</td>\n",
       "      <td>1.035973e+07</td>\n",
       "      <td>1.476169e+07</td>\n",
       "      <td>44093.000000</td>\n",
       "      <td>1.111258e+06</td>\n",
       "      <td>4527.000000</td>\n",
       "      <td>15149.000000</td>\n",
       "      <td>1.035598e+08</td>\n",
       "      <td>4.911008e+07</td>\n",
       "    </tr>\n",
       "  </tbody>\n",
       "</table>\n",
       "</div>"
      ],
      "text/plain": [
       "              bonus  deferral_payments  deferred_income  director_fees  \\\n",
       "count  6.100000e+01       2.800000e+01     3.400000e+01      13.000000   \n",
       "mean   1.147436e+06       6.344374e+05    -4.625664e+05   89397.846154   \n",
       "std    1.505189e+06       8.603646e+05     8.095392e+05   41143.391399   \n",
       "min    7.000000e+04      -1.025000e+05    -3.504386e+06    3285.000000   \n",
       "25%    4.500000e+05       7.656750e+04    -5.527032e+05  101250.000000   \n",
       "50%    7.500000e+05       1.951900e+05    -1.175340e+05  108579.000000   \n",
       "75%    1.000000e+06       8.342052e+05    -2.708325e+04  112492.000000   \n",
       "max    8.000000e+06       2.964506e+06    -1.042000e+03  125034.000000   \n",
       "\n",
       "       exercised_stock_options       expenses  from_messages  \\\n",
       "count             8.100000e+01      73.000000      65.000000   \n",
       "mean              2.985081e+06   51040.547945     711.323077   \n",
       "std               6.004174e+06   47596.682104    2074.497628   \n",
       "min               3.285000e+03     148.000000      12.000000   \n",
       "25%               4.004780e+05   18834.000000      19.000000   \n",
       "50%               8.500100e+05   41953.000000      45.000000   \n",
       "75%               2.165172e+06   59175.000000     215.000000   \n",
       "max               3.434838e+07  228763.000000   14368.000000   \n",
       "\n",
       "       from_poi_to_this_person  from_this_person_to_poi  loan_advances  \\\n",
       "count                65.000000                65.000000   2.000000e+00   \n",
       "mean                 64.800000                40.092308   4.096250e+07   \n",
       "std                  91.863214                88.901407   5.736404e+07   \n",
       "min                   0.000000                 0.000000   4.000000e+05   \n",
       "25%                  10.000000                 0.000000   2.068125e+07   \n",
       "50%                  28.000000                 7.000000   4.096250e+07   \n",
       "75%                  88.000000                27.000000   6.124375e+07   \n",
       "max                 528.000000               411.000000   8.152500e+07   \n",
       "\n",
       "       long_term_incentive         other  restricted_stock  \\\n",
       "count         4.900000e+01  6.900000e+01      8.200000e+01   \n",
       "mean          7.926171e+05  4.471774e+05      1.294855e+06   \n",
       "std           9.504645e+05  1.341564e+06      2.498335e+06   \n",
       "min           7.102300e+04  2.000000e+00      4.409300e+04   \n",
       "25%           2.750000e+05  9.720000e+02      2.689220e+05   \n",
       "50%           4.221580e+05  5.238200e+04      4.628225e+05   \n",
       "75%           8.318090e+05  3.620960e+05      9.664905e+05   \n",
       "max           5.145434e+06  1.035973e+07      1.476169e+07   \n",
       "\n",
       "       restricted_stock_deferred        salary  shared_receipt_with_poi  \\\n",
       "count                  10.000000  7.300000e+01                65.000000   \n",
       "mean              -221885.700000  2.739025e+05              1111.369231   \n",
       "std                205191.374121  1.716647e+05              1165.852016   \n",
       "min               -560222.000000  4.770000e+02                 2.000000   \n",
       "25%               -389621.750000  2.061210e+05               178.000000   \n",
       "50%               -139856.500000  2.516540e+05               599.000000   \n",
       "75%                -77953.250000  2.885890e+05              1902.000000   \n",
       "max                 44093.000000  1.111258e+06              4527.000000   \n",
       "\n",
       "        to_messages  total_payments  total_stock_value  \n",
       "count     65.000000    9.600000e+01       9.800000e+01  \n",
       "mean    2156.061538    2.590977e+06       3.527136e+06  \n",
       "std     2811.676718    1.056645e+07       7.182997e+06  \n",
       "min       57.000000    1.480000e+02      -4.409300e+04  \n",
       "25%      517.000000    3.024025e+05       4.211518e+05  \n",
       "50%     1088.000000    1.106740e+06       9.979710e+05  \n",
       "75%     2649.000000    1.985668e+06       2.493616e+06  \n",
       "max    15149.000000    1.035598e+08       4.911008e+07  "
      ]
     },
     "execution_count": 418,
     "metadata": {},
     "output_type": "execute_result"
    }
   ],
   "source": [
    "train_data.describe()"
   ]
  },
  {
   "cell_type": "markdown",
   "metadata": {},
   "source": [
    "# Data Visualizations"
   ]
  },
  {
   "cell_type": "code",
   "execution_count": 419,
   "metadata": {},
   "outputs": [
    {
     "name": "stdout",
     "output_type": "stream",
     "text": [
      "bonus\n",
      "count    6.100000e+01\n",
      "mean     1.147436e+06\n",
      "std      1.505189e+06\n",
      "min      7.000000e+04\n",
      "25%      4.500000e+05\n",
      "50%      7.500000e+05\n",
      "75%      1.000000e+06\n",
      "max      8.000000e+06\n",
      "Name: bonus, dtype: float64\n"
     ]
    },
    {
     "data": {
      "image/png": "[encoded data removed]",
      "text/plain": [
       "<Figure size 432x288 with 1 Axes>"
      ]
     },
     "metadata": {},
     "output_type": "display_data"
    },
    {
     "name": "stdout",
     "output_type": "stream",
     "text": [
      "None\n",
      "deferral_payments\n",
      "count    2.800000e+01\n",
      "mean     6.344374e+05\n",
      "std      8.603646e+05\n",
      "min     -1.025000e+05\n",
      "25%      7.656750e+04\n",
      "50%      1.951900e+05\n",
      "75%      8.342052e+05\n",
      "max      2.964506e+06\n",
      "Name: deferral_payments, dtype: float64\n"
     ]
    },
    {
     "data": {
      "image/png": "[encoded data removed]",
      "text/plain": [
       "<Figure size 432x288 with 1 Axes>"
      ]
     },
     "metadata": {},
     "output_type": "display_data"
    },
    {
     "name": "stdout",
     "output_type": "stream",
     "text": [
      "None\n",
      "deferred_income\n",
      "count    3.400000e+01\n",
      "mean    -4.625664e+05\n",
      "std      8.095392e+05\n",
      "min     -3.504386e+06\n",
      "25%     -5.527032e+05\n",
      "50%     -1.175340e+05\n",
      "75%     -2.708325e+04\n",
      "max     -1.042000e+03\n",
      "Name: deferred_income, dtype: float64\n"
     ]
    },
    {
     "data": {
      "image/png": "[encoded data removed]",
      "text/plain": [
       "<Figure size 432x288 with 1 Axes>"
      ]
     },
     "metadata": {},
     "output_type": "display_data"
    },
    {
     "name": "stdout",
     "output_type": "stream",
     "text": [
      "None\n",
      "director_fees\n",
      "count        13.000000\n",
      "mean      89397.846154\n",
      "std       41143.391399\n",
      "min        3285.000000\n",
      "25%      101250.000000\n",
      "50%      108579.000000\n",
      "75%      112492.000000\n",
      "max      125034.000000\n",
      "Name: director_fees, dtype: float64\n"
     ]
    },
    {
     "data": {
      "image/png": "[encoded data removed]",
      "text/plain": [
       "<Figure size 432x288 with 1 Axes>"
      ]
     },
     "metadata": {},
     "output_type": "display_data"
    },
    {
     "name": "stdout",
     "output_type": "stream",
     "text": [
      "None\n",
      "exercised_stock_options\n",
      "count    8.100000e+01\n",
      "mean     2.985081e+06\n",
      "std      6.004174e+06\n",
      "min      3.285000e+03\n",
      "25%      4.004780e+05\n",
      "50%      8.500100e+05\n",
      "75%      2.165172e+06\n",
      "max      3.434838e+07\n",
      "Name: exercised_stock_options, dtype: float64\n"
     ]
    },
    {
     "data": {
      "image/png": "[encoded data removed]",
      "text/plain": [
       "<Figure size 432x288 with 1 Axes>"
      ]
     },
     "metadata": {},
     "output_type": "display_data"
    },
    {
     "name": "stdout",
     "output_type": "stream",
     "text": [
      "None\n",
      "expenses\n",
      "count        73.000000\n",
      "mean      51040.547945\n",
      "std       47596.682104\n",
      "min         148.000000\n",
      "25%       18834.000000\n",
      "50%       41953.000000\n",
      "75%       59175.000000\n",
      "max      228763.000000\n",
      "Name: expenses, dtype: float64\n"
     ]
    },
    {
     "data": {
      "image/png": "[encoded data removed]",
      "text/plain": [
       "<Figure size 432x288 with 1 Axes>"
      ]
     },
     "metadata": {},
     "output_type": "display_data"
    },
    {
     "name": "stdout",
     "output_type": "stream",
     "text": [
      "None\n",
      "from_messages\n",
      "count       65.000000\n",
      "mean       711.323077\n",
      "std       2074.497628\n",
      "min         12.000000\n",
      "25%         19.000000\n",
      "50%         45.000000\n",
      "75%        215.000000\n",
      "max      14368.000000\n",
      "Name: from_messages, dtype: float64\n"
     ]
    },
    {
     "data": {
      "image/png": "[encoded data removed]",
      "text/plain": [
       "<Figure size 432x288 with 1 Axes>"
      ]
     },
     "metadata": {},
     "output_type": "display_data"
    },
    {
     "name": "stdout",
     "output_type": "stream",
     "text": [
      "None\n",
      "from_poi_to_this_person\n",
      "count     65.000000\n",
      "mean      64.800000\n",
      "std       91.863214\n",
      "min        0.000000\n",
      "25%       10.000000\n",
      "50%       28.000000\n",
      "75%       88.000000\n",
      "max      528.000000\n",
      "Name: from_poi_to_this_person, dtype: float64\n"
     ]
    },
    {
     "data": {
      "image/png": "[encoded data removed]",
      "text/plain": [
       "<Figure size 432x288 with 1 Axes>"
      ]
     },
     "metadata": {},
     "output_type": "display_data"
    },
    {
     "name": "stdout",
     "output_type": "stream",
     "text": [
      "None\n",
      "from_this_person_to_poi\n",
      "count     65.000000\n",
      "mean      40.092308\n",
      "std       88.901407\n",
      "min        0.000000\n",
      "25%        0.000000\n",
      "50%        7.000000\n",
      "75%       27.000000\n",
      "max      411.000000\n",
      "Name: from_this_person_to_poi, dtype: float64\n"
     ]
    },
    {
     "data": {
      "image/png": "[encoded data removed]",
      "text/plain": [
       "<Figure size 432x288 with 1 Axes>"
      ]
     },
     "metadata": {},
     "output_type": "display_data"
    },
    {
     "name": "stdout",
     "output_type": "stream",
     "text": [
      "None\n",
      "loan_advances\n",
      "count    2.000000e+00\n",
      "mean     4.096250e+07\n",
      "std      5.736404e+07\n",
      "min      4.000000e+05\n",
      "25%      2.068125e+07\n",
      "50%      4.096250e+07\n",
      "75%      6.124375e+07\n",
      "max      8.152500e+07\n",
      "Name: loan_advances, dtype: float64\n"
     ]
    },
    {
     "data": {
      "image/png": "[encoded data removed]",
      "text/plain": [
       "<Figure size 432x288 with 1 Axes>"
      ]
     },
     "metadata": {},
     "output_type": "display_data"
    },
    {
     "name": "stdout",
     "output_type": "stream",
     "text": [
      "None\n",
      "long_term_incentive\n",
      "count    4.900000e+01\n",
      "mean     7.926171e+05\n",
      "std      9.504645e+05\n",
      "min      7.102300e+04\n",
      "25%      2.750000e+05\n",
      "50%      4.221580e+05\n",
      "75%      8.318090e+05\n",
      "max      5.145434e+06\n",
      "Name: long_term_incentive, dtype: float64\n"
     ]
    },
    {
     "data": {
      "image/png": "[encoded data removed]",
      "text/plain": [
       "<Figure size 432x288 with 1 Axes>"
      ]
     },
     "metadata": {},
     "output_type": "display_data"
    },
    {
     "name": "stdout",
     "output_type": "stream",
     "text": [
      "None\n",
      "other\n",
      "count    6.900000e+01\n",
      "mean     4.471774e+05\n",
      "std      1.341564e+06\n",
      "min      2.000000e+00\n",
      "25%      9.720000e+02\n",
      "50%      5.238200e+04\n",
      "75%      3.620960e+05\n",
      "max      1.035973e+07\n",
      "Name: other, dtype: float64\n"
     ]
    },
    {
     "data": {
      "image/png": "[encoded data removed]",
      "text/plain": [
       "<Figure size 432x288 with 1 Axes>"
      ]
     },
     "metadata": {},
     "output_type": "display_data"
    },
    {
     "name": "stdout",
     "output_type": "stream",
     "text": [
      "None\n",
      "restricted_stock\n",
      "count    8.200000e+01\n",
      "mean     1.294855e+06\n",
      "std      2.498335e+06\n",
      "min      4.409300e+04\n",
      "25%      2.689220e+05\n",
      "50%      4.628225e+05\n",
      "75%      9.664905e+05\n",
      "max      1.476169e+07\n",
      "Name: restricted_stock, dtype: float64\n"
     ]
    },
    {
     "data": {
      "image/png": "[encoded data removed]",
      "text/plain": [
       "<Figure size 432x288 with 1 Axes>"
      ]
     },
     "metadata": {},
     "output_type": "display_data"
    },
    {
     "name": "stdout",
     "output_type": "stream",
     "text": [
      "None\n",
      "restricted_stock_deferred\n",
      "count        10.000000\n",
      "mean    -221885.700000\n",
      "std      205191.374121\n",
      "min     -560222.000000\n",
      "25%     -389621.750000\n",
      "50%     -139856.500000\n",
      "75%      -77953.250000\n",
      "max       44093.000000\n",
      "Name: restricted_stock_deferred, dtype: float64\n"
     ]
    },
    {
     "data": {
      "image/png": "[encoded data removed]",
      "text/plain": [
       "<Figure size 432x288 with 1 Axes>"
      ]
     },
     "metadata": {},
     "output_type": "display_data"
    },
    {
     "name": "stdout",
     "output_type": "stream",
     "text": [
      "None\n",
      "salary\n",
      "count    7.300000e+01\n",
      "mean     2.739025e+05\n",
      "std      1.716647e+05\n",
      "min      4.770000e+02\n",
      "25%      2.061210e+05\n",
      "50%      2.516540e+05\n",
      "75%      2.885890e+05\n",
      "max      1.111258e+06\n",
      "Name: salary, dtype: float64\n"
     ]
    },
    {
     "data": {
      "image/png": "[encoded data removed]",
      "text/plain": [
       "<Figure size 432x288 with 1 Axes>"
      ]
     },
     "metadata": {},
     "output_type": "display_data"
    },
    {
     "name": "stdout",
     "output_type": "stream",
     "text": [
      "None\n",
      "shared_receipt_with_poi\n",
      "count      65.000000\n",
      "mean     1111.369231\n",
      "std      1165.852016\n",
      "min         2.000000\n",
      "25%       178.000000\n",
      "50%       599.000000\n",
      "75%      1902.000000\n",
      "max      4527.000000\n",
      "Name: shared_receipt_with_poi, dtype: float64\n"
     ]
    },
    {
     "data": {
      "image/png": "[encoded data removed]",
      "text/plain": [
       "<Figure size 432x288 with 1 Axes>"
      ]
     },
     "metadata": {},
     "output_type": "display_data"
    },
    {
     "name": "stdout",
     "output_type": "stream",
     "text": [
      "None\n",
      "to_messages\n",
      "count       65.000000\n",
      "mean      2156.061538\n",
      "std       2811.676718\n",
      "min         57.000000\n",
      "25%        517.000000\n",
      "50%       1088.000000\n",
      "75%       2649.000000\n",
      "max      15149.000000\n",
      "Name: to_messages, dtype: float64\n"
     ]
    },
    {
     "data": {
      "image/png": "[encoded data removed]",
      "text/plain": [
       "<Figure size 432x288 with 1 Axes>"
      ]
     },
     "metadata": {},
     "output_type": "display_data"
    },
    {
     "name": "stdout",
     "output_type": "stream",
     "text": [
      "None\n",
      "total_payments\n",
      "count    9.600000e+01\n",
      "mean     2.590977e+06\n",
      "std      1.056645e+07\n",
      "min      1.480000e+02\n",
      "25%      3.024025e+05\n",
      "50%      1.106740e+06\n",
      "75%      1.985668e+06\n",
      "max      1.035598e+08\n",
      "Name: total_payments, dtype: float64\n"
     ]
    },
    {
     "data": {
      "image/png": "[encoded data removed]",
      "text/plain": [
       "<Figure size 432x288 with 1 Axes>"
      ]
     },
     "metadata": {},
     "output_type": "display_data"
    },
    {
     "name": "stdout",
     "output_type": "stream",
     "text": [
      "None\n",
      "total_stock_value\n",
      "count    9.800000e+01\n",
      "mean     3.527136e+06\n",
      "std      7.182997e+06\n",
      "min     -4.409300e+04\n",
      "25%      4.211518e+05\n",
      "50%      9.979710e+05\n",
      "75%      2.493616e+06\n",
      "max      4.911008e+07\n",
      "Name: total_stock_value, dtype: float64\n"
     ]
    },
    {
     "data": {
      "image/png": "[encoded data removed]",
      "text/plain": [
       "<Figure size 432x288 with 1 Axes>"
      ]
     },
     "metadata": {},
     "output_type": "display_data"
    },
    {
     "name": "stdout",
     "output_type": "stream",
     "text": [
      "None\n"
     ]
    }
   ],
   "source": [
    "import matplotlib.pyplot as plt\n",
    "\n",
    "num_features = []\n",
    "for dtype, feature in zip(train_data.dtypes, train_data.columns):\n",
    "    if dtype == 'float64' or dtype == 'int64':\n",
    "        num_features.append(dtype)\n",
    "        \n",
    "num_features = list(train_data.columns[list(train_data.dtypes.isin(num_features))])\n",
    "num_features = list(train_data[num_features].columns[list(train_data[num_features].apply(lambda x:len(x.unique())!=2 ))])\n",
    "for col in num_features:\n",
    "    plt.hist(train_data[col])\n",
    "    print(col)\n",
    "    print(train_data[col].describe())\n",
    "    print(plt.show())"
   ]
  },
  {
   "cell_type": "code",
   "execution_count": 420,
   "metadata": {},
   "outputs": [
    {
     "data": {
      "text/plain": [
       "<seaborn.axisgrid.FacetGrid at 0x1a28f305f8>"
      ]
     },
     "execution_count": 420,
     "metadata": {},
     "output_type": "execute_result"
    },
    {
     "data": {
      "image/png": "[encoded data removed]",
      "text/plain": [
       "<Figure size 426.35x360 with 1 Axes>"
      ]
     },
     "metadata": {},
     "output_type": "display_data"
    },
    {
     "data": {
      "image/png": "[encoded data removed]",
      "text/plain": [
       "<Figure size 426.35x360 with 1 Axes>"
      ]
     },
     "metadata": {},
     "output_type": "display_data"
    },
    {
     "data": {
      "image/png": "[encoded data removed]",
      "text/plain": [
       "<Figure size 426.35x360 with 1 Axes>"
      ]
     },
     "metadata": {},
     "output_type": "display_data"
    },
    {
     "data": {
      "image/png": "[encoded data removed]",
      "text/plain": [
       "<Figure size 426.35x360 with 1 Axes>"
      ]
     },
     "metadata": {},
     "output_type": "display_data"
    },
    {
     "data": {
      "image/png": "[encoded data removed]",
      "text/plain": [
       "<Figure size 426.35x360 with 1 Axes>"
      ]
     },
     "metadata": {},
     "output_type": "display_data"
    },
    {
     "data": {
      "image/png": "[encoded data removed]",
      "text/plain": [
       "<Figure size 426.35x360 with 1 Axes>"
      ]
     },
     "metadata": {},
     "output_type": "display_data"
    },
    {
     "data": {
      "image/png": "[encoded data removed]",
      "text/plain": [
       "<Figure size 426.35x360 with 1 Axes>"
      ]
     },
     "metadata": {},
     "output_type": "display_data"
    },
    {
     "data": {
      "image/png": "[encoded data removed]",
      "text/plain": [
       "<Figure size 426.35x360 with 1 Axes>"
      ]
     },
     "metadata": {},
     "output_type": "display_data"
    },
    {
     "data": {
      "image/png": "[encoded data removed]",
      "text/plain": [
       "<Figure size 426.35x360 with 1 Axes>"
      ]
     },
     "metadata": {},
     "output_type": "display_data"
    }
   ],
   "source": [
    "# bonus\n",
    "# deferral_payments\n",
    "# deferred_income\n",
    "# director_fees\n",
    "# exercised_stock_options\n",
    "# expenses\n",
    "# from_messages\n",
    "# from_poi_to_this_person\n",
    "# from_this_person_to_poi\n",
    "# loan_advances\n",
    "# long_term_incentive\n",
    "# other\n",
    "# poi\n",
    "# restricted_stock\n",
    "# restricted_stock_deferred\n",
    "# salary\n",
    "# shared_receipt_with_poi\n",
    "# to_messages\n",
    "# total_payments\n",
    "# total_stock_value\n",
    "\n",
    "# FacetGrid\n",
    "\n",
    "MMEncoder = MinMaxScaler()\n",
    "for c in df.columns:\n",
    "    df[c] = df[c].fillna(-1)\n",
    "df.head()\n",
    "\n",
    "sns.FacetGrid(train_data, hue = \"poi\", size = 5) \\\n",
    "   .map(plt.scatter, \"bonus\", \"director_fees\") \\\n",
    "   .add_legend()\n",
    "sns.FacetGrid(train_data, hue = \"poi\", size = 5) \\\n",
    "   .map(plt.scatter, \"deferral_payments\", \"deferred_income\") \\\n",
    "   .add_legend()\n",
    "sns.FacetGrid(train_data, hue = \"poi\", size = 5) \\\n",
    "   .map(plt.scatter, \"exercised_stock_options\", \"expenses\") \\\n",
    "   .add_legend()\n",
    "sns.FacetGrid(train_data, hue = \"poi\", size = 5) \\\n",
    "   .map(plt.scatter, \"from_messages\", \"to_messages\") \\\n",
    "   .add_legend()\n",
    "sns.FacetGrid(train_data, hue = \"poi\", size = 5) \\\n",
    "   .map(plt.scatter, \"from_poi_to_this_person\", \"from_this_person_to_poi\") \\\n",
    "   .add_legend()\n",
    "sns.FacetGrid(train_data, hue = \"poi\", size = 5) \\\n",
    "   .map(plt.scatter, \"loan_advances\", \"long_term_incentive\") \\\n",
    "   .add_legend()\n",
    "sns.FacetGrid(train_data, hue = \"poi\", size = 5) \\\n",
    "   .map(plt.scatter, \"other\", \"salary\") \\\n",
    "   .add_legend()\n",
    "sns.FacetGrid(train_data, hue = \"poi\", size = 5) \\\n",
    "   .map(plt.scatter, \"restricted_stock\", \"restricted_stock_deferred\") \\\n",
    "   .add_legend()\n",
    "sns.FacetGrid(train_data, hue = \"poi\", size = 5) \\\n",
    "   .map(plt.scatter, \"shared_receipt_with_poi\", \"total_payments\") \\\n",
    "   .add_legend()\n",
    "\n",
    "# bonus\n",
    "# director_fees\n",
    "# loan_advances\n",
    "# restricted_stock_deferred\n",
    "# restricted_stock"
   ]
  },
  {
   "cell_type": "markdown",
   "metadata": {},
   "source": [
    "# Data Preprocessing"
   ]
  },
  {
   "cell_type": "code",
   "execution_count": 421,
   "metadata": {},
   "outputs": [
    {
     "name": "stdout",
     "output_type": "stream",
     "text": [
      "exercised_stock_options      0.227632\n",
      "expenses                     0.158697\n",
      "total_stock_value            0.105650\n",
      "restricted_stock             0.078602\n",
      "long_term_incentive          0.077228\n",
      "salary                       0.066489\n",
      "from_this_person_to_poi      0.059077\n",
      "bonus                        0.057385\n",
      "total_payments               0.049003\n",
      "from_messages                0.041824\n",
      "other                        0.032105\n",
      "to_messages                  0.026821\n",
      "shared_receipt_with_poi      0.018595\n",
      "director_fees                0.000891\n",
      "restricted_stock_deferred    0.000000\n",
      "from_poi_to_this_person      0.000000\n",
      "deferred_income              0.000000\n",
      "deferral_payments            0.000000\n",
      "loan_advances                0.000000\n",
      "dtype: float64\n",
      "(113, 19) (33, 19)\n"
     ]
    }
   ],
   "source": [
    "# Missing Data\n",
    "# ['bonus', 'director_fees', 'loan_advances', 'restricted_stock_deferred', 'restricted_stock', 'long_term_incentive']\n",
    "test_data = test_data.drop(['name', 'email_address'], axis=1)\n",
    "train_data = train_data.drop(['poi', 'name', 'email_address'], axis=1)\n",
    "# train_data[\"total_payments\"] = train_data[train_data[\"total_payments\"] < 10**8][\"total_payments\"]\n",
    "# train_data[\"from_messages\"] = train_data[\"from_messages\"].map(lambda i: np.log(i) if i > 0 else 0)\n",
    "# train_data[\"salary\"] = train_data[\"salary\"].map(lambda i: np.log(i) if i > 0 else 0)\n",
    "# train_data[\"other\"] = train_data[\"other\"].map(lambda i: np.log(i) if i > 0 else 0)\n",
    "\n",
    "# 去偏態\n",
    "# 右偏 ['bonus', 'deferral_payments', 'exercised_stock_options', 'expenses', 'from_messages', 'from_poi_to_this_person', 'from_this_person_to_poi', 'long_term_incentive', 'other', 'restricted_stock', 'salary', 'to_messages', 'total_payments', 'total_stock_value']\n",
    "# right_skewed = ['bonus', 'deferral_payments', 'exercised_stock_options', 'expenses', 'from_messages', 'from_poi_to_this_person', 'from_this_person_to_poi', 'long_term_incentive', 'other', 'restricted_stock', 'salary', 'to_messages', 'total_payments', 'total_stock_value']\n",
    "right_skewed = ['deferral_payments', 'exercised_stock_options', 'expenses', 'from_messages', 'from_poi_to_this_person', 'from_this_person_to_poi', 'other', 'salary', 'to_messages', 'total_payments', 'total_stock_value']\n",
    "for col in right_skewed:\n",
    "    train_data[col] = train_data[col].map(lambda i: np.log(i) if i > 0 else 0)\n",
    "# 左偏 ['deferred_income']\n",
    "left_skewed = ['deferred_income']\n",
    "for col in left_skewed:\n",
    "    train_data[col] = train_data[col].map(lambda i: np.log(-i) if i > 0 else 0)\n",
    "\n",
    "# test_data = test_data.drop(['name', 'email_address'], axis=1)\n",
    "# train_data = train_data.drop(['poi', 'name', 'email_address'], axis=1)\n",
    "    \n",
    "df = train_data\n",
    "\n",
    "LEncoder = LabelEncoder()\n",
    "MMEncoder = MinMaxScaler()\n",
    "for c in df.columns:\n",
    "    if df[c].dtype == 'object':\n",
    "        df[c] = df[c].fillna(-1)\n",
    "        df[c] = LEncoder.fit_transform(list(df[c].values))\n",
    "    else :\n",
    "        df[c] = df[c].fillna(df[c].mean())\n",
    "df.head()\n",
    "\n",
    "estimator = RandomForestClassifier()\n",
    "estimator.fit(df.values, target_data)\n",
    "feats = pd.Series(data=estimator.feature_importances_, index=df.columns)\n",
    "feats = feats.sort_values(ascending=False)\n",
    "print(feats)\n",
    "\n",
    "train_data = df\n",
    "# train_data[\"bonus\"] = train_data[\"bonus\"].fillna(train_data['bonus'].mean())\n",
    "# train_data[\"deferral_payments\"] = train_data[\"deferral_payments\"].fillna(train_data['deferral_payments'].mean())\n",
    "# train_data[\"deferred_income\"] = train_data[\"deferred_income\"].fillna(train_data['deferred_income'].mean())\n",
    "# train_data[\"director_fees\"] = train_data[\"director_fees\"].fillna(train_data['director_fees'].mean())\n",
    "# train_data[\"exercised_stock_options\"] = train_data[\"exercised_stock_options\"].fillna(train_data['exercised_stock_options'].mean())\n",
    "# train_data[\"expenses\"] = train_data[\"expenses\"].fillna(train_data['expenses'].mean())\n",
    "# train_data[\"from_messages\"] = train_data[\"from_messages\"].fillna(train_data['from_messages'].mean())\n",
    "# train_data[\"from_poi_to_this_person\"] = train_data[\"from_poi_to_this_person\"].fillna(train_data['from_poi_to_this_person'].mean())\n",
    "# train_data[\"from_this_person_to_poi\"] = train_data[\"from_this_person_to_poi\"].fillna(train_data['from_this_person_to_poi'].mean())\n",
    "# train_data[\"loan_advances\"] = train_data[\"loan_advances\"].fillna(train_data['loan_advances'].mean())\n",
    "# train_data[\"long_term_incentive\"] = train_data[\"long_term_incentive\"].fillna(train_data['long_term_incentive'].mean())\n",
    "# train_data[\"other\"] = train_data[\"other\"].fillna(train_data['other'].mean())\n",
    "# train_data[\"restricted_stock\"] = train_data[\"restricted_stock\"].fillna(train_data['restricted_stock'].mean())\n",
    "# train_data[\"restricted_stock_deferred\"] = train_data[\"restricted_stock_deferred\"].fillna(train_data['restricted_stock_deferred'].mean())\n",
    "# train_data[\"salary\"] = train_data[\"salary\"].fillna(train_data['salary'].mean())\n",
    "# train_data[\"shared_receipt_with_poi\"] = train_data[\"shared_receipt_with_poi\"].fillna(train_data['shared_receipt_with_poi'].mean())\n",
    "# train_data[\"to_messages\"] = train_data[\"to_messages\"].fillna(train_data['to_messages'].mean())\n",
    "# train_data[\"total_payments\"] = train_data[\"total_payments\"].fillna(train_data['total_payments'].mean())\n",
    "# train_data[\"total_stock_value\"] = train_data[\"total_stock_value\"].fillna(train_data['total_stock_value'].mean())\n",
    "\n",
    "# print(train_data.shape, test_data.shape)\n",
    "\n",
    "# 移除 Outlier\n",
    "# total_payments\n",
    "# train_data[\"total_payments\"] = train_data[train_data[\"total_payments\"] < 10**8][\"total_payments\"]\n",
    "# sns.FacetGrid(train_data, hue = \"poi\", size = 5) \\\n",
    "#    .map(plt.scatter, \"total_payments\", \"total_stock_value\") \\\n",
    "#    .add_legend()\n",
    "#other\n",
    "\n",
    "# 去偏態\n",
    "# 靠左 exercised_stock_options、from_messages、from_poi_to_this_person、restricted_stock、to_messages、total_stock_value\n",
    "# plt.hist(train_data[\"exercised_stock_options\"])\n",
    "# print(plt.show())\n",
    "# train_data[\"exercised_stock_options\"] = train_data[\"exercised_stock_options\"].map(lambda i: np.log(i) if i > 0 else 0)\n",
    "# plt.hist(train_data[\"exercised_stock_options\"])\n",
    "# print(plt.show())\n",
    "\n",
    "# Decision Tree 0.93\n",
    "# train_data[\"exercised_stock_options\"] = train_data[\"exercised_stock_options\"].map(lambda i: np.log(i) if i > 0 else 0)\n",
    "# train_data[\"from_messages\"] = train_data[\"from_messages\"].map(lambda i: np.log(i) if i > 0 else 0)\n",
    "# train_data[\"from_poi_to_this_person\"] = train_data[\"from_poi_to_this_person\"].map(lambda i: np.log(i) if i > 0 else 0)\n",
    "# train_data[\"restricted_stock\"] = train_data[\"restricted_stock\"].map(lambda i: np.log(i) if i > 0 else 0)\n",
    "# Decision Tree 0.93\n",
    "# train_data[\"to_messages\"] = train_data[\"to_messages\"].map(lambda i: np.log(i) if i > 0 else 0)\n",
    "# train_data[\"total_stock_value\"] = train_data[\"total_stock_value\"].map(lambda i: np.log(i) if i > 0 else 0)\n",
    "\n",
    "# 只取數字型特徵\n",
    "# train_data = train_data[num_features]\n",
    "# test_data = test_data[num_features]\n",
    "\n",
    "# 移除 loan_advances 因為資料中只有兩筆資料\n",
    "# train_data = train_data.drop(['loan_advances'] , axis=1)\n",
    "# test_data = test_data.drop(['loan_advances'] , axis=1)\n",
    "\n",
    "print(train_data.shape, test_data.shape)\n",
    "\n",
    "# test_data[\"bonus\"] = test_data[\"bonus\"].fillna(test_data['bonus'].mean())\n",
    "# test_data[\"deferral_payments\"] = test_data[\"deferral_payments\"].fillna(test_data['deferral_payments'].mean())\n",
    "# test_data[\"deferred_income\"] = test_data[\"deferred_income\"].fillna(test_data['deferred_income'].mean())\n",
    "# test_data[\"director_fees\"] = test_data[\"director_fees\"].fillna(test_data['director_fees'].mean())\n",
    "# test_data[\"exercised_stock_options\"] = test_data[\"exercised_stock_options\"].fillna(test_data['exercised_stock_options'].mean())\n",
    "# test_data[\"expenses\"] = test_data[\"expenses\"].fillna(test_data['expenses'].mean())\n",
    "# test_data[\"from_messages\"] = test_data[\"from_messages\"].fillna(test_data['from_messages'].mean())\n",
    "# test_data[\"from_poi_to_this_person\"] = test_data[\"from_poi_to_this_person\"].fillna(test_data['from_poi_to_this_person'].mean())\n",
    "# test_data[\"from_this_person_to_poi\"] = test_data[\"from_this_person_to_poi\"].fillna(test_data['from_this_person_to_poi'].mean())\n",
    "# test_data[\"loan_advances\"] = test_data[\"loan_advances\"].fillna(test_data['loan_advances'].mean())\n",
    "# test_data[\"long_term_incentive\"] = test_data[\"long_term_incentive\"].fillna(test_data['long_term_incentive'].mean())\n",
    "# test_data[\"other\"] = test_data[\"other\"].fillna(test_data['other'].mean())\n",
    "# test_data[\"restricted_stock\"] = test_data[\"restricted_stock\"].fillna(test_data['restricted_stock'].mean())\n",
    "# test_data[\"restricted_stock_deferred\"] = test_data[\"restricted_stock_deferred\"].fillna(test_data['restricted_stock_deferred'].mean())\n",
    "# test_data[\"salary\"] = test_data[\"salary\"].fillna(test_data['salary'].mean())\n",
    "# test_data[\"shared_receipt_with_poi\"] = test_data[\"shared_receipt_with_poi\"].fillna(test_data['shared_receipt_with_poi'].mean())\n",
    "# test_data[\"to_messages\"] = test_data[\"to_messages\"].fillna(test_data['to_messages'].mean())\n",
    "# test_data[\"total_payments\"] = test_data[\"total_payments\"].fillna(test_data['total_payments'].mean())\n",
    "# test_data[\"total_stock_value\"] = test_data[\"total_stock_value\"].fillna(test_data['total_stock_value'].mean())\n",
    "\n",
    "# print(train_data.isnull().sum())\n",
    "\n",
    "# Outlier\n",
    "# 檢查數值特徵是否有 Outlier\n",
    "# print(train_data[\"bonus\"].describe())\n",
    "# train_data[\"bonus\"] = train_data[train_data[\"bonus\"] < np.percentile(train_data[\"bonus\"], 75)]['bonus']\n",
    "# sns.boxplot(x = \"poi\", y = \"bonus\", data = train_data)\n",
    "# print(train_data[\"total_payments\"].describe())\n",
    "# train_data[\"total_payments\"] = train_data[train_data[\"total_payments\"] < 10**7]['total_payments']\n",
    "# sns.boxplot(x = \"poi\", y = \"total_payments\", data = train_data)\n",
    "\n",
    "# Categorical Variable/Dummy Variables\n",
    "# 使用 One-hot encoding 將非數值特徵轉換為數值特徵，例如：將星期轉為 1~7 的數字\n",
    "# 不過 One-hot encoding 只適合運用在類型種類固定的特徵，當類型種類過多時，不適用 One-hot encoding\n",
    "\n",
    "# Noise Handle"
   ]
  },
  {
   "cell_type": "markdown",
   "metadata": {},
   "source": [
    "# Feature Engineering"
   ]
  },
  {
   "cell_type": "code",
   "execution_count": 422,
   "metadata": {},
   "outputs": [],
   "source": [
    "# https://github.com/dnc1994/Kaggle-Playground/blob/master/features.ipynb\n",
    "\n",
    "# Feature Selection\n",
    "# 可以使用 RandomForest 查看 Feature Importance 進行篩選\n",
    "\n",
    "# Feature Encoding"
   ]
  },
  {
   "cell_type": "markdown",
   "metadata": {},
   "source": [
    "# Split Data"
   ]
  },
  {
   "cell_type": "code",
   "execution_count": 423,
   "metadata": {},
   "outputs": [
    {
     "data": {
      "text/plain": [
       "((84, 19), (84,), (29, 19), (29,))"
      ]
     },
     "execution_count": 423,
     "metadata": {},
     "output_type": "execute_result"
    }
   ],
   "source": [
    "train_data[:] = np.nan_to_num(train_data)\n",
    "test_data[:] = np.nan_to_num(test_data)\n",
    "\n",
    "from sklearn.model_selection import train_test_split\n",
    "x_train, x_test, y_train, y_test = train_test_split(train_data, target_data, test_size = 0.25, random_state = 4)\n",
    "x_train.shape, y_train.shape, x_test.shape, y_test.shape"
   ]
  },
  {
   "cell_type": "markdown",
   "metadata": {},
   "source": [
    "# Model Selection"
   ]
  },
  {
   "cell_type": "code",
   "execution_count": 424,
   "metadata": {},
   "outputs": [
    {
     "name": "stdout",
     "output_type": "stream",
     "text": [
      "GaussianNB, accuracy_score =  0.27586206896551724\n",
      "GaussianNB, score =  0.27586206896551724\n",
      "KNeighborsClassifier, accuracy_score =  0.8620689655172413\n",
      "RandomForestClassifier, accuracy_score =  0.8620689655172413\n",
      "LogisticRegression, accuracy_score =  0.8620689655172413\n",
      "LogisticRegressionCV, accuracy_score =  0.8620689655172413\n",
      "SVC, accuracy_score =  0.8620689655172413\n",
      "DecisionTreeClassifier, accuracy_score =  0.9310344827586207\n",
      "DecisionTreeRegressor, accuracy_score =  0.8275862068965517\n"
     ]
    }
   ],
   "source": [
    "# print(train_data.isnull().sum())\n",
    "# Gradient Boosting\n",
    "# Random Forest\n",
    "# Extra Randomized Trees\n",
    "# SVM\n",
    "# Linear Regression\n",
    "# Logistic Regression\n",
    "# Neural Networks\n",
    "# Xgboost\n",
    "\n",
    "from sklearn.metrics import accuracy_score\n",
    "from sklearn.metrics import roc_auc_score\n",
    "from sklearn.metrics import auc\n",
    "from sklearn.metrics import roc_curve\n",
    "\n",
    "\n",
    "from sklearn.naive_bayes import GaussianNB\n",
    "model = GaussianNB()\n",
    "model.fit(x_train, y_train)\n",
    "predict = model.predict(x_test)\n",
    "print('GaussianNB, accuracy_score = ', accuracy_score(y_test, predict))\n",
    "print('GaussianNB, score = ', model.score(x_test, y_test))\n",
    "\n",
    "\n",
    "from sklearn.neighbors import KNeighborsClassifier\n",
    "model = KNeighborsClassifier()\n",
    "model.fit(x_train, y_train)\n",
    "predict = model.predict(x_test)\n",
    "print('KNeighborsClassifier, accuracy_score = ', accuracy_score(y_test, predict))\n",
    "\n",
    "\n",
    "from sklearn.ensemble import RandomForestClassifier\n",
    "model = RandomForestClassifier()\n",
    "model.fit(x_train, y_train)\n",
    "predict = model.predict(x_test)\n",
    "print('RandomForestClassifier, accuracy_score = ', accuracy_score(y_test, predict))\n",
    "\n",
    "\n",
    "from sklearn.linear_model import LogisticRegression\n",
    "model = LogisticRegression()\n",
    "model.fit(x_train, y_train)\n",
    "predict = model.predict(x_test)\n",
    "print('LogisticRegression, accuracy_score = ', accuracy_score(y_test, predict))\n",
    "\n",
    "\n",
    "from sklearn.linear_model import LogisticRegressionCV\n",
    "model = LogisticRegressionCV()\n",
    "model.fit(x_train, y_train)\n",
    "predict = model.predict(x_test)\n",
    "print('LogisticRegressionCV, accuracy_score = ', accuracy_score(y_test, predict))\n",
    "\n",
    "\n",
    "from sklearn.svm import SVC\n",
    "model = SVC()\n",
    "model.fit(x_train, y_train)\n",
    "predict = model.predict(x_test)\n",
    "print('SVC, accuracy_score = ', accuracy_score(y_test, predict))\n",
    "\n",
    "\n",
    "from sklearn.tree import DecisionTreeClassifier\n",
    "model = DecisionTreeClassifier()\n",
    "model.fit(x_train, y_train)\n",
    "predict = model.predict(x_test)\n",
    "print('DecisionTreeClassifier, accuracy_score = ', accuracy_score(y_test, predict))\n",
    "\n",
    "\n",
    "from sklearn.tree import DecisionTreeRegressor\n",
    "model = DecisionTreeRegressor()\n",
    "model.fit(x_train, y_train)\n",
    "predict = model.predict(x_test)\n",
    "print('DecisionTreeRegressor, accuracy_score = ', accuracy_score(y_test, predict))"
   ]
  },
  {
   "cell_type": "markdown",
   "metadata": {},
   "source": [
    "# Feature Scaling"
   ]
  },
  {
   "cell_type": "code",
   "execution_count": 425,
   "metadata": {},
   "outputs": [
    {
     "name": "stdout",
     "output_type": "stream",
     "text": [
      "MinMaxScaler, GaussianNB, cross_val_score =  0.6022727272727273\n",
      "MinMaxScaler, KNeighborsClassifier, cross_val_score =  0.8863636363636364\n",
      "MinMaxScaler, RandomForestClassifier, cross_val_score =  0.903030303030303\n",
      "MinMaxScaler, LogisticRegression, cross_val_score =  0.8863636363636364\n",
      "MinMaxScaler, LogisticRegressionCV, cross_val_score =  0.8772727272727273\n",
      "MinMaxScaler, SVC, cross_val_score =  0.8863636363636364\n",
      "MinMaxScaler, DecisionTreeClassifier, cross_val_score =  0.8674242424242424\n",
      "StandardScaler, GaussianNB, cross_val_score =  0.6022727272727273\n",
      "StandardScaler, KNeighborsClassifier, cross_val_score =  0.8772727272727273\n",
      "StandardScaler, RandomForestClassifier, cross_val_score =  0.8856060606060605\n",
      "StandardScaler, LogisticRegression, cross_val_score =  0.8696969696969697\n",
      "StandardScaler, LogisticRegressionCV, cross_val_score =  0.8772727272727273\n",
      "StandardScaler, SVC, cross_val_score =  0.8863636363636364\n",
      "StandardScaler, DecisionTreeClassifier, cross_val_score =  0.8840909090909091\n",
      "Normalizer, GaussianNB, cross_val_score =  0.27575757575757576\n",
      "Normalizer, KNeighborsClassifier, cross_val_score =  0.8863636363636364\n",
      "Normalizer, RandomForestClassifier, cross_val_score =  0.8772727272727273\n",
      "Normalizer, LogisticRegression, cross_val_score =  0.8863636363636364\n",
      "Normalizer, LogisticRegressionCV, cross_val_score =  0.8863636363636364\n",
      "Normalizer, SVC, cross_val_score =  0.8863636363636364\n",
      "Normalizer, DecisionTreeClassifier, cross_val_score =  0.8151515151515152\n"
     ]
    }
   ],
   "source": [
    "from sklearn.preprocessing import MinMaxScaler, StandardScaler, Normalizer\n",
    "from sklearn.model_selection import cross_val_score\n",
    "\n",
    "cv_value=10\n",
    "\n",
    "minMaxScaler = MinMaxScaler()\n",
    "minMaxScaler_train_data = minMaxScaler.fit_transform(train_data)\n",
    "print('MinMaxScaler, GaussianNB, cross_val_score = ', cross_val_score(GaussianNB(), minMaxScaler_train_data, target_data, cv=cv_value, scoring='accuracy').mean())\n",
    "print('MinMaxScaler, KNeighborsClassifier, cross_val_score = ', cross_val_score(KNeighborsClassifier(), minMaxScaler_train_data, target_data, cv=cv_value, scoring='accuracy').mean())\n",
    "print('MinMaxScaler, RandomForestClassifier, cross_val_score = ', cross_val_score(RandomForestClassifier(), minMaxScaler_train_data, target_data, cv=cv_value, scoring='accuracy').mean())\n",
    "print('MinMaxScaler, LogisticRegression, cross_val_score = ', cross_val_score(LogisticRegression(), minMaxScaler_train_data, target_data, cv=cv_value, scoring='accuracy').mean())\n",
    "print('MinMaxScaler, LogisticRegressionCV, cross_val_score = ', cross_val_score(LogisticRegressionCV(), minMaxScaler_train_data, target_data, cv=cv_value, scoring='accuracy').mean())\n",
    "print('MinMaxScaler, SVC, cross_val_score = ', cross_val_score(SVC(), minMaxScaler_train_data, target_data, cv=cv_value, scoring='accuracy').mean())\n",
    "print('MinMaxScaler, DecisionTreeClassifier, cross_val_score = ', cross_val_score(DecisionTreeClassifier(), minMaxScaler_train_data, target_data, cv=cv_value, scoring='accuracy').mean())\n",
    "# print('MinMaxScaler, DecisionTreeRegressor, cross_val_score = ', cross_val_score(DecisionTreeRegressor(), minMaxScaler_train_data, target_data, cv=cv_value, scoring='accuracy').mean())\n",
    "\n",
    "standardScaler = StandardScaler()\n",
    "standardScaler_train_data = standardScaler.fit_transform(train_data)\n",
    "print('StandardScaler, GaussianNB, cross_val_score = ', cross_val_score(GaussianNB(), standardScaler_train_data, target_data, cv=cv_value, scoring='accuracy').mean())\n",
    "print('StandardScaler, KNeighborsClassifier, cross_val_score = ', cross_val_score(KNeighborsClassifier(), standardScaler_train_data, target_data, cv=cv_value, scoring='accuracy').mean())\n",
    "print('StandardScaler, RandomForestClassifier, cross_val_score = ', cross_val_score(RandomForestClassifier(), standardScaler_train_data, target_data, cv=cv_value, scoring='accuracy').mean())\n",
    "print('StandardScaler, LogisticRegression, cross_val_score = ', cross_val_score(LogisticRegression(), standardScaler_train_data, target_data, cv=cv_value, scoring='accuracy').mean())\n",
    "print('StandardScaler, LogisticRegressionCV, cross_val_score = ', cross_val_score(LogisticRegressionCV(), standardScaler_train_data, target_data, cv=cv_value, scoring='accuracy').mean())\n",
    "print('StandardScaler, SVC, cross_val_score = ', cross_val_score(SVC(), standardScaler_train_data, target_data, cv=cv_value, scoring='accuracy').mean())\n",
    "print('StandardScaler, DecisionTreeClassifier, cross_val_score = ', cross_val_score(DecisionTreeClassifier(), standardScaler_train_data, target_data, cv=cv_value, scoring='accuracy').mean())\n",
    "# print('StandardScaler, DecisionTreeRegressor, cross_val_score = ', cross_val_score(DecisionTreeRegressor(), standardScaler_train_data, target_data, cv=cv_value, scoring='accuracy').mean())\n",
    "\n",
    "normalizer = Normalizer()\n",
    "normalizer_train_data = normalizer.fit_transform(train_data)\n",
    "print('Normalizer, GaussianNB, cross_val_score = ', cross_val_score(GaussianNB(), normalizer_train_data, target_data, cv=cv_value, scoring='accuracy').mean())\n",
    "print('Normalizer, KNeighborsClassifier, cross_val_score = ', cross_val_score(KNeighborsClassifier(), normalizer_train_data, target_data, cv=cv_value, scoring='accuracy').mean())\n",
    "print('Normalizer, RandomForestClassifier, cross_val_score = ', cross_val_score(RandomForestClassifier(), normalizer_train_data, target_data, cv=cv_value, scoring='accuracy').mean())\n",
    "print('Normalizer, LogisticRegression, cross_val_score = ', cross_val_score(LogisticRegression(), normalizer_train_data, target_data, cv=cv_value, scoring='accuracy').mean())\n",
    "print('Normalizer, LogisticRegressionCV, cross_val_score = ', cross_val_score(LogisticRegressionCV(), normalizer_train_data, target_data, cv=cv_value, scoring='accuracy').mean())\n",
    "print('Normalizer, SVC, cross_val_score = ', cross_val_score(SVC(), normalizer_train_data, target_data, cv=cv_value, scoring='accuracy').mean())\n",
    "print('Normalizer, DecisionTreeClassifier, cross_val_score = ', cross_val_score(DecisionTreeClassifier(), normalizer_train_data, target_data, cv=cv_value, scoring='accuracy').mean())\n",
    "# print('Normalizer, DecisionTreeRegressor, cross_val_score = ', cross_val_score(DecisionTreeRegressor(), normalizer_train_data, target_data, cv=cv_value, scoring='accuracy').mean())"
   ]
  },
  {
   "cell_type": "markdown",
   "metadata": {},
   "source": [
    "# Principle Component Analysis"
   ]
  },
  {
   "cell_type": "code",
   "execution_count": 426,
   "metadata": {},
   "outputs": [
    {
     "name": "stdout",
     "output_type": "stream",
     "text": [
      "GaussianNB, cross_val_score =  0.34469696969696967\n",
      "KNeighborsClassifier, cross_val_score =  0.8863636363636364\n",
      "RandomForestClassifier, cross_val_score =  0.8772727272727273\n",
      "LogisticRegression, cross_val_score =  0.6628787878787878\n",
      "LogisticRegressionCV, cross_val_score =  0.6371212121212121\n",
      "SVC, cross_val_score =  0.8863636363636364\n",
      "DecisionTreeClassifier, cross_val_score =  0.8401515151515151\n",
      "DecisionTreeRegressor, cross_val_score =  0.7833333333333334\n"
     ]
    }
   ],
   "source": [
    "from sklearn.decomposition import PCA\n",
    "\n",
    "cv_value=10\n",
    "pca = PCA()\n",
    "pca_train_data = pca.fit_transform(train_data)\n",
    "\n",
    "print('GaussianNB, cross_val_score = ', cross_val_score(GaussianNB(), pca_train_data, target_data, cv=cv_value, scoring='accuracy').mean())\n",
    "print('KNeighborsClassifier, cross_val_score = ', cross_val_score(KNeighborsClassifier(), pca_train_data, target_data, cv=cv_value, scoring='accuracy').mean())\n",
    "print('RandomForestClassifier, cross_val_score = ', cross_val_score(RandomForestClassifier(), pca_train_data, target_data, cv=cv_value, scoring='accuracy').mean())\n",
    "print('LogisticRegression, cross_val_score = ', cross_val_score(LogisticRegression(), pca_train_data, target_data, cv=cv_value, scoring='accuracy').mean())\n",
    "print('LogisticRegressionCV, cross_val_score = ', cross_val_score(LogisticRegressionCV(), pca_train_data, target_data, cv=cv_value, scoring='accuracy').mean())\n",
    "print('SVC, cross_val_score = ', cross_val_score(SVC(), pca_train_data, target_data, cv=cv_value, scoring='accuracy').mean())\n",
    "print('DecisionTreeClassifier, cross_val_score = ', cross_val_score(DecisionTreeClassifier(), pca_train_data, target_data, cv=cv_value, scoring='accuracy').mean())\n",
    "print('DecisionTreeRegressor, cross_val_score = ', cross_val_score(DecisionTreeRegressor(), pca_train_data, target_data, cv=cv_value, scoring='accuracy').mean())"
   ]
  },
  {
   "cell_type": "markdown",
   "metadata": {},
   "source": [
    "# Model Training"
   ]
  },
  {
   "cell_type": "code",
   "execution_count": 427,
   "metadata": {},
   "outputs": [
    {
     "name": "stdout",
     "output_type": "stream",
     "text": [
      "GaussianNB Accuracy =  0.8847308847308848\n",
      "KNeighborsClassifier Accuracy =  0.8847308847308848\n",
      "RandomForestClassifier Accuracy =  0.9027489027489027\n",
      "LogisticRegression Accuracy =  0.85008085008085\n",
      "DecisionTreeClassifier Accuracy =  0.8140448140448141\n"
     ]
    }
   ],
   "source": [
    "# Gaussian Mixture\n",
    "# Grid Search\n",
    "\n",
    "# import numpy as np\n",
    "# from sklearn.mixture import GaussianMixture\n",
    "\n",
    "# x_all = np.r_[train_data, test_data]\n",
    "# print('x_all shape :',x_all.shape)\n",
    "\n",
    "# # USING THE GAUSSIAN MIXTURE MODEL \n",
    "# lowest_bic = np.infty\n",
    "# bic = []\n",
    "# n_components_range = range(1, 7)\n",
    "# cv_types = ['spherical', 'tied', 'diag', 'full']\n",
    "# for cv_type in cv_types:\n",
    "#     for n_components in n_components_range:\n",
    "#         gmm = GaussianMixture(n_components=n_components,covariance_type=cv_type)\n",
    "#         gmm.fit(x_all)\n",
    "#         bic.append(gmm.aic(x_all))\n",
    "#         if bic[-1] < lowest_bic:\n",
    "#             lowest_bic = bic[-1]\n",
    "#             best_gmm = gmm\n",
    "            \n",
    "# best_gmm.fit(x_all)\n",
    "# gmm_train = best_gmm.predict_proba(train_data)\n",
    "# gmm_test = best_gmm.predict_proba(test_data)\n",
    "\n",
    "# standardScaler = StandardScaler()\n",
    "# train_data = standardScaler.fit_transform(train_data)\n",
    "# from sklearn.model_selection import train_test_split\n",
    "# x_train, x_test, y_train, y_test = train_test_split(train_data, target_data, test_size = 0.25, random_state = 4)\n",
    "# x_train.shape, y_train.shape, x_test.shape, y_test.shape\n",
    "\n",
    "from sklearn.model_selection import GridSearchCV\n",
    "\n",
    "param_grid_gnb = {\n",
    "    \n",
    "}\n",
    "grid_search_gnb = GridSearchCV(GaussianNB(), param_grid_gnb, cv=10, scoring = 'accuracy', n_jobs=-1)\n",
    "grid_search_gnb = grid_search_knc.fit(x_train, y_train)\n",
    "gnb_best = grid_search_gnb.best_estimator_\n",
    "print('GaussianNB Accuracy = ', cross_val_score(gnb_best, train_data, target_data).mean())\n",
    "\n",
    "param_grid_knc = {\n",
    "    'n_neighbors': [3, 5, 7, 9, 11],\n",
    "    'weights': ['uniform', 'distance'],\n",
    "    'metric': ['euclidean', 'manhattan']\n",
    "}\n",
    "grid_search_knc = GridSearchCV(KNeighborsClassifier(), param_grid_knc, cv=10, scoring = 'accuracy', n_jobs=-1)\n",
    "grid_search_knc = grid_search_knc.fit(x_train, y_train)\n",
    "knc_best = grid_search_knc.best_estimator_\n",
    "print('KNeighborsClassifier Accuracy = ', cross_val_score(knc_best, train_data, target_data).mean())\n",
    "\n",
    "param_grid_rfc = {\n",
    "    'n_estimators': [10, 50, 100, 200, 400],\n",
    "    'max_depth': [1, 3, 5, 10, 20, 40]\n",
    "}\n",
    "grid_search_rfc = GridSearchCV(RandomForestClassifier(), param_grid_rfc, cv = 10, scoring = 'accuracy', n_jobs = -1)\n",
    "grid_search_rfc = grid_search_rfc.fit(x_train, y_train)\n",
    "rfc_best = grid_search_rfc.best_estimator_\n",
    "print('RandomForestClassifier Accuracy = ', cross_val_score(rfc_best, train_data, target_data).mean())\n",
    "\n",
    "param_grid_lr = {\n",
    "    'C': np.logspace(-3,3,7),\n",
    "    'penalty': ['l1','l2']\n",
    "}\n",
    "grid_search_lr = GridSearchCV(LogisticRegression(), param_grid_lr, cv = 10, scoring = 'accuracy', n_jobs = -1)\n",
    "grid_search_lr = grid_search_lr.fit(x_train, y_train)\n",
    "lr_best = grid_search_lr.best_estimator_\n",
    "print('LogisticRegression Accuracy = ', cross_val_score(lr_best, train_data, target_data).mean())\n",
    "\n",
    "param_grid_dtc = {\n",
    "}\n",
    "grid_search_dtc = GridSearchCV(DecisionTreeClassifier(), param_grid_dtc, cv = 10, scoring = 'accuracy', n_jobs = -1)\n",
    "grid_search_dtc = grid_search_dtc.fit(x_train, y_train)\n",
    "dtc_best = grid_search_dtc.best_estimator_\n",
    "print('DecisionTreeClassifier Accuracy = ', cross_val_score(dtc_best, train_data, target_data).mean())\n",
    "\n",
    "# param_grid_svc = parameters = [{'kernel':['linear'],'C':[1,10,100, 100]},\n",
    "#                                {'kernel':['rbf'],'C':[1,10,100, 1000],'gamma':[0.05,0.0001,0.01,0.001]}]\n",
    "# grid_search_svc = GridSearchCV(SVC(), param_grid_svc, cv = 10, scoring = 'accuracy', n_jobs = -1)\n",
    "# grid_search_svc = grid_search_svc.fit(x_train, y_train)\n",
    "# svc_best = grid_search_svc.best_estimator_\n",
    "# print('SVC Accuracy = ', cross_val_score(svc_best, train_data, target_data).mean())"
   ]
  },
  {
   "cell_type": "markdown",
   "metadata": {},
   "source": [
    "# Cross Validation"
   ]
  },
  {
   "cell_type": "code",
   "execution_count": 428,
   "metadata": {},
   "outputs": [],
   "source": [
    "# 查看 Model 是否有 Overfitting\n",
    "# K-Fold CV"
   ]
  },
  {
   "cell_type": "markdown",
   "metadata": {},
   "source": [
    "# Esemble Generation"
   ]
  },
  {
   "cell_type": "code",
   "execution_count": 430,
   "metadata": {},
   "outputs": [
    {
     "name": "stdout",
     "output_type": "stream",
     "text": [
      "Stacking Accuracy =  0.8496188496188496\n",
      "[6.61370683e-03 6.61370683e-03 6.61370683e-03 6.61370683e-03\n",
      " 6.61370683e-03 6.61370683e-03 9.99918939e-01 2.30739399e-07\n",
      " 9.99918939e-01 6.61370683e-03 6.61370683e-03 6.61370683e-03\n",
      " 6.61370683e-03 2.93119120e-07 6.61370683e-03 5.17296627e-04\n",
      " 6.61370683e-03 6.61370683e-03 6.61370683e-03 6.61370683e-03\n",
      " 9.99995706e-01 6.61370683e-03 9.99918939e-01 1.52116525e-04\n",
      " 6.61370683e-03 6.61370683e-03 6.61370683e-03 6.61370683e-03\n",
      " 6.61370683e-03 6.61370683e-03 6.61370683e-03 6.61370683e-03\n",
      " 6.61370683e-03]\n"
     ]
    }
   ],
   "source": [
    "# 將多個不同的 Model 組合起來，降低最終 Model 的 Bias 和 Variance\n",
    "# Bagging：使用不同的訓練集訓練 Model，最後進行每個 Model 權重相同的 Vote\n",
    "# Boosting：迭代訓練 Model，根據上一次的結果修改權重，效果比 Bagging 好，但更容易 Overfit\n",
    "# Blending：用不相交的數據訓練 Model，將輸出取平均\n",
    "# Stacking：\n",
    "\n",
    "# https://github.com/dnc1994/Kaggle-Playground/blob/master/ensemble.py\n",
    "\n",
    "# 0.9203049203049204/2.698775698775699 = 0.341\n",
    "# 0.8851928851928852/2.698775698775699 = 0.328\n",
    "# 0.8932778932778933/2.698775698775699 = 0.331\n",
    "\n",
    "gnb_best.fit(train_data, target_data)\n",
    "gnb_predict = gnb_best.predict_proba(test_data)[:,1]\n",
    "\n",
    "knc_best.fit(train_data, target_data)\n",
    "knc_predict = knc_best.predict_proba(test_data)[:,1]\n",
    "\n",
    "rfc_best.fit(train_data, target_data)\n",
    "rfc_predict = rfc_best.predict_proba(test_data)[:,1]\n",
    "\n",
    "lr_best.fit(train_data, target_data)\n",
    "lr_predict = lr_best.predict_proba(test_data)[:,1]\n",
    "\n",
    "lrcv = LogisticRegressionCV()\n",
    "lrcv.fit(train_data, target_data)\n",
    "lrcv_predict = lrcv.predict_proba(test_data)[:,1]\n",
    "\n",
    "# Blending\n",
    "# blending_predict = knc_predict * 0.34 + rfc_predict * 0.34 + lr_predict * 0.32\n",
    "# print('Blending, accuracy_score = ', accuracy_score(y_test, blending_predict))\n",
    "\n",
    "#Stacking\n",
    "from sklearn.ensemble import GradientBoostingClassifier\n",
    "from mlxtend.classifier import StackingClassifier\n",
    "meta_estimator = GradientBoostingClassifier(tol=100, subsample=0.70, n_estimators=50, \n",
    "                                           max_features='sqrt', max_depth=4, learning_rate=0.3)\n",
    "stacking = StackingClassifier(classifiers=[gnb_best, knc_best, rfc_best], meta_classifier=meta_estimator, use_probas=True, average_probas=False)\n",
    "stacking.fit(train_data, target_data)\n",
    "stacking_pred = stacking.predict_proba(test_data)[:,1]\n",
    "print('Stacking Accuracy = ', cross_val_score(stacking, train_data, target_data).mean())\n",
    "print(stacking_pred)"
   ]
  },
  {
   "cell_type": "markdown",
   "metadata": {},
   "source": [
    "# Output"
   ]
  },
  {
   "cell_type": "code",
   "execution_count": 431,
   "metadata": {},
   "outputs": [],
   "source": [
    "csv_path = 'Day_051_HW_Submissions_v10.csv'\n",
    "final_predict = pd.DataFrame({'name': names, 'poi': stacking_pred})\n",
    "final_predict.to_csv(csv_path, index=False)"
   ]
  },
  {
   "cell_type": "markdown",
   "metadata": {},
   "source": [
    "# Refereces\n",
    "[Data Science London Classification](https://www.kaggle.com/chahat1/data-science-london-classification)"
   ]
  },
  {
   "cell_type": "code",
   "execution_count": null,
   "metadata": {},
   "outputs": [],
   "source": []
  }
 ],
 "metadata": {
  "kernelspec": {
   "display_name": "Python 3",
   "language": "python",
   "name": "python3"
  },
  "language_info": {
   "codemirror_mode": {
    "name": "ipython",
    "version": 3
   },
   "file_extension": ".py",
   "mimetype": "text/x-python",
   "name": "python",
   "nbconvert_exporter": "python",
   "pygments_lexer": "ipython3",
   "version": "3.7.3"
  }
 },
 "nbformat": 4,
 "nbformat_minor": 2
}

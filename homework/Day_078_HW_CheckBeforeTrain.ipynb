{
 "cells": [
  {
   "cell_type": "markdown",
   "metadata": {},
   "source": [
    "## Work\n",
    "1. 請嘗試將 preproc_x 替換成以每筆資料的 min/max 進行標準化至 -1 ~ 1 間，再進行訓練\n",
    "2. 請嘗試將 mlp 疊更深 (e.g 5~10 層)，進行訓練後觀察 learning curve 的走勢\n",
    "3. (optional) 請改用 GPU 進行訓練 (如果你有 GPU 的話)，比較使用 CPU 與 GPU 的訓練速度"
   ]
  },
  {
   "cell_type": "code",
   "execution_count": 35,
   "metadata": {},
   "outputs": [
    {
     "name": "stdout",
     "output_type": "stream",
     "text": [
      "/bin/sh: nvidia-smi: command not found\r\n"
     ]
    }
   ],
   "source": [
    "## 確認硬體資源 (如果你是在 Linux, 若是在 Windows, 請參考 https://blog.csdn.net/idwtwt/article/details/78017565)\n",
    "!nvidia-smi"
   ]
  },
  {
   "cell_type": "code",
   "execution_count": 36,
   "metadata": {},
   "outputs": [],
   "source": [
    "import os\n",
    "import keras\n",
    "\n",
    "os.environ[\"CUDA_VISIBLE_DEVICES\"] = \"\""
   ]
  },
  {
   "cell_type": "code",
   "execution_count": 37,
   "metadata": {},
   "outputs": [],
   "source": [
    "# 從 Keras 的內建功能中，取得 train 與 test 資料集\n",
    "train, test = keras.datasets.cifar10.load_data()"
   ]
  },
  {
   "cell_type": "code",
   "execution_count": 38,
   "metadata": {},
   "outputs": [],
   "source": [
    "## 資料前處理\n",
    "\"\"\"\n",
    "Your code here\n",
    "\"\"\"\n",
    "def preproc_x(x, flatten=True):\n",
    "    x = (x - x.min()) / (x.max() - x.min()) * 2 - 1\n",
    "    if flatten:\n",
    "        x = x.reshape((len(x), -1))\n",
    "    return x\n",
    "\n",
    "def preproc_y(y, num_classes=10):\n",
    "    if y.shape[-1] == 1:\n",
    "        y = keras.utils.to_categorical(y, num_classes)\n",
    "    return y"
   ]
  },
  {
   "cell_type": "code",
   "execution_count": 39,
   "metadata": {},
   "outputs": [],
   "source": [
    "x_train, y_train = train\n",
    "x_test, y_test = test\n",
    "\n",
    "# Preproc the inputs\n",
    "x_train = preproc_x(x_train)\n",
    "x_test = preproc_x(x_test)\n",
    "\n",
    "# Preprc the outputs\n",
    "y_train = preproc_y(y_train)\n",
    "y_test = preproc_y(y_test)"
   ]
  },
  {
   "cell_type": "code",
   "execution_count": 40,
   "metadata": {},
   "outputs": [
    {
     "name": "stdout",
     "output_type": "stream",
     "text": [
      "Model: \"model_3\"\n",
      "_________________________________________________________________\n",
      "Layer (type)                 Output Shape              Param #   \n",
      "=================================================================\n",
      "input_3 (InputLayer)         (None, 3072)              0         \n",
      "_________________________________________________________________\n",
      "hidden_layer1 (Dense)        (None, 512)               1573376   \n",
      "_________________________________________________________________\n",
      "hidden_layer2 (Dense)        (None, 256)               131328    \n",
      "_________________________________________________________________\n",
      "hidden_layer3 (Dense)        (None, 128)               32896     \n",
      "_________________________________________________________________\n",
      "hidden_layer4 (Dense)        (None, 64)                8256      \n",
      "_________________________________________________________________\n",
      "hidden_layer5 (Dense)        (None, 32)                2080      \n",
      "_________________________________________________________________\n",
      "output (Dense)               (None, 10)                330       \n",
      "=================================================================\n",
      "Total params: 1,748,266\n",
      "Trainable params: 1,748,266\n",
      "Non-trainable params: 0\n",
      "_________________________________________________________________\n"
     ]
    }
   ],
   "source": [
    "\"\"\"Code Here\n",
    "建立你的神經網路\n",
    "\"\"\"\n",
    "def build_mlp(input_shape, output_units=10, num_neurons=[512, 256, 128, 64, 32]):\n",
    "    input_layer = keras.layers.Input(input_shape)\n",
    "    \n",
    "    for i, n_units in enumerate(num_neurons):\n",
    "        if i == 0:\n",
    "            x = keras.layers.Dense(units=n_units, activation=\"relu\", name=\"hidden_layer\"+str(i+1))(input_layer)\n",
    "        else:\n",
    "            x = keras.layers.Dense(units=n_units, activation=\"relu\", name=\"hidden_layer\"+str(i+1))(x)\n",
    "    \n",
    "    out = keras.layers.Dense(units=output_units, activation=\"softmax\", name=\"output\")(x)\n",
    "    \n",
    "    model = keras.models.Model(inputs=[input_layer], outputs=[out])\n",
    "    return model\n",
    "\n",
    "model = build_mlp(input_shape=x_train.shape[1:])\n",
    "model.summary()"
   ]
  },
  {
   "cell_type": "code",
   "execution_count": 41,
   "metadata": {},
   "outputs": [],
   "source": [
    "## 超參數設定\n",
    "LEARNING_RATE = 0.001\n",
    "EPOCHS = 100\n",
    "BATCH_SIZE = 256"
   ]
  },
  {
   "cell_type": "code",
   "execution_count": 42,
   "metadata": {},
   "outputs": [],
   "source": [
    "optimizer = keras.optimizers.Adam(lr=LEARNING_RATE)\n",
    "model.compile(loss=\"categorical_crossentropy\", metrics=[\"accuracy\"], optimizer=optimizer)"
   ]
  },
  {
   "cell_type": "code",
   "execution_count": 43,
   "metadata": {},
   "outputs": [
    {
     "name": "stdout",
     "output_type": "stream",
     "text": [
      "Train on 50000 samples, validate on 10000 samples\n",
      "Epoch 1/100\n",
      "50000/50000 [==============================] - 6s 123us/step - loss: 1.7446 - accuracy: 0.3855 - val_loss: 1.5502 - val_accuracy: 0.4568\n",
      "Epoch 2/100\n",
      "50000/50000 [==============================] - 6s 122us/step - loss: 1.4957 - accuracy: 0.4730 - val_loss: 1.4710 - val_accuracy: 0.4817\n",
      "Epoch 3/100\n",
      "50000/50000 [==============================] - 6s 119us/step - loss: 1.3750 - accuracy: 0.5175 - val_loss: 1.4262 - val_accuracy: 0.4976\n",
      "Epoch 4/100\n",
      "50000/50000 [==============================] - 6s 120us/step - loss: 1.2742 - accuracy: 0.5529 - val_loss: 1.3764 - val_accuracy: 0.5158\n",
      "Epoch 5/100\n",
      "50000/50000 [==============================] - 5s 106us/step - loss: 1.1916 - accuracy: 0.5817 - val_loss: 1.3660 - val_accuracy: 0.5223\n",
      "Epoch 6/100\n",
      "50000/50000 [==============================] - 6s 122us/step - loss: 1.1069 - accuracy: 0.6117 - val_loss: 1.3898 - val_accuracy: 0.5220\n",
      "Epoch 7/100\n",
      "50000/50000 [==============================] - 6s 111us/step - loss: 1.0396 - accuracy: 0.6362 - val_loss: 1.3644 - val_accuracy: 0.5353\n",
      "Epoch 8/100\n",
      "50000/50000 [==============================] - 6s 124us/step - loss: 0.9606 - accuracy: 0.6635 - val_loss: 1.3855 - val_accuracy: 0.5428\n",
      "Epoch 9/100\n",
      "50000/50000 [==============================] - 7s 140us/step - loss: 0.8913 - accuracy: 0.6857 - val_loss: 1.4831 - val_accuracy: 0.5286\n",
      "Epoch 10/100\n",
      "50000/50000 [==============================] - 6s 125us/step - loss: 0.8236 - accuracy: 0.7101 - val_loss: 1.4379 - val_accuracy: 0.5385\n",
      "Epoch 11/100\n",
      "50000/50000 [==============================] - 6s 120us/step - loss: 0.7553 - accuracy: 0.7337 - val_loss: 1.5479 - val_accuracy: 0.5351\n",
      "Epoch 12/100\n",
      "50000/50000 [==============================] - 6s 123us/step - loss: 0.6970 - accuracy: 0.7534 - val_loss: 1.5703 - val_accuracy: 0.5470\n",
      "Epoch 13/100\n",
      "50000/50000 [==============================] - 6s 120us/step - loss: 0.6395 - accuracy: 0.7745 - val_loss: 1.6833 - val_accuracy: 0.5364\n",
      "Epoch 14/100\n",
      "50000/50000 [==============================] - 6s 121us/step - loss: 0.5795 - accuracy: 0.7947 - val_loss: 1.7070 - val_accuracy: 0.5286\n",
      "Epoch 15/100\n",
      "50000/50000 [==============================] - 6s 123us/step - loss: 0.5325 - accuracy: 0.8130 - val_loss: 1.8566 - val_accuracy: 0.5226\n",
      "Epoch 16/100\n",
      "50000/50000 [==============================] - 6s 120us/step - loss: 0.4804 - accuracy: 0.8300 - val_loss: 1.8974 - val_accuracy: 0.5298\n",
      "Epoch 17/100\n",
      "50000/50000 [==============================] - 6s 119us/step - loss: 0.4416 - accuracy: 0.8470 - val_loss: 1.9485 - val_accuracy: 0.5261\n",
      "Epoch 18/100\n",
      "50000/50000 [==============================] - 6s 120us/step - loss: 0.4095 - accuracy: 0.8566 - val_loss: 2.0481 - val_accuracy: 0.5288\n",
      "Epoch 19/100\n",
      "50000/50000 [==============================] - 6s 127us/step - loss: 0.3790 - accuracy: 0.8677 - val_loss: 2.2029 - val_accuracy: 0.5247\n",
      "Epoch 20/100\n",
      "50000/50000 [==============================] - 6s 127us/step - loss: 0.3530 - accuracy: 0.8771 - val_loss: 2.2223 - val_accuracy: 0.5317\n",
      "Epoch 21/100\n",
      "50000/50000 [==============================] - 6s 120us/step - loss: 0.3057 - accuracy: 0.8939 - val_loss: 2.4290 - val_accuracy: 0.5247\n",
      "Epoch 22/100\n",
      "50000/50000 [==============================] - 7s 141us/step - loss: 0.3092 - accuracy: 0.8911 - val_loss: 2.4250 - val_accuracy: 0.5326\n",
      "Epoch 23/100\n",
      "50000/50000 [==============================] - 7s 131us/step - loss: 0.2674 - accuracy: 0.9073 - val_loss: 2.4669 - val_accuracy: 0.5274\n",
      "Epoch 24/100\n",
      "50000/50000 [==============================] - 6s 125us/step - loss: 0.2633 - accuracy: 0.9077 - val_loss: 2.6863 - val_accuracy: 0.5206\n",
      "Epoch 25/100\n",
      "50000/50000 [==============================] - 6s 127us/step - loss: 0.2559 - accuracy: 0.9110 - val_loss: 2.7001 - val_accuracy: 0.5214\n",
      "Epoch 26/100\n",
      "50000/50000 [==============================] - 6s 127us/step - loss: 0.2365 - accuracy: 0.9188 - val_loss: 2.6651 - val_accuracy: 0.5298\n",
      "Epoch 27/100\n",
      "50000/50000 [==============================] - 6s 123us/step - loss: 0.2208 - accuracy: 0.9238 - val_loss: 2.8872 - val_accuracy: 0.5268\n",
      "Epoch 28/100\n",
      "50000/50000 [==============================] - 6s 123us/step - loss: 0.2200 - accuracy: 0.9232 - val_loss: 2.8401 - val_accuracy: 0.5219\n",
      "Epoch 29/100\n",
      "50000/50000 [==============================] - 6s 121us/step - loss: 0.1936 - accuracy: 0.9330 - val_loss: 3.1127 - val_accuracy: 0.5280\n",
      "Epoch 30/100\n",
      "50000/50000 [==============================] - 6s 124us/step - loss: 0.1885 - accuracy: 0.9352 - val_loss: 3.2114 - val_accuracy: 0.5328\n",
      "Epoch 31/100\n",
      "50000/50000 [==============================] - 6s 110us/step - loss: 0.2003 - accuracy: 0.9310 - val_loss: 3.0654 - val_accuracy: 0.5331\n",
      "Epoch 32/100\n",
      "50000/50000 [==============================] - 6s 114us/step - loss: 0.1625 - accuracy: 0.9436 - val_loss: 3.2477 - val_accuracy: 0.5267\n",
      "Epoch 33/100\n",
      "50000/50000 [==============================] - 6s 117us/step - loss: 0.1805 - accuracy: 0.9384 - val_loss: 3.1806 - val_accuracy: 0.5237\n",
      "Epoch 34/100\n",
      "50000/50000 [==============================] - 6s 127us/step - loss: 0.1609 - accuracy: 0.9451 - val_loss: 3.2654 - val_accuracy: 0.5348\n",
      "Epoch 35/100\n",
      "50000/50000 [==============================] - 6s 128us/step - loss: 0.1573 - accuracy: 0.9464 - val_loss: 3.4148 - val_accuracy: 0.5263\n",
      "Epoch 36/100\n",
      "50000/50000 [==============================] - 6s 126us/step - loss: 0.1578 - accuracy: 0.9454 - val_loss: 3.4250 - val_accuracy: 0.5241\n",
      "Epoch 37/100\n",
      "50000/50000 [==============================] - 6s 123us/step - loss: 0.1526 - accuracy: 0.9484 - val_loss: 3.4091 - val_accuracy: 0.5256\n",
      "Epoch 38/100\n",
      "50000/50000 [==============================] - 6s 120us/step - loss: 0.1495 - accuracy: 0.9499 - val_loss: 3.3927 - val_accuracy: 0.5319\n",
      "Epoch 39/100\n",
      "50000/50000 [==============================] - 6s 119us/step - loss: 0.1434 - accuracy: 0.9513 - val_loss: 3.5075 - val_accuracy: 0.5230\n",
      "Epoch 40/100\n",
      "50000/50000 [==============================] - 6s 119us/step - loss: 0.1309 - accuracy: 0.9568 - val_loss: 3.6818 - val_accuracy: 0.5260\n",
      "Epoch 41/100\n",
      "50000/50000 [==============================] - 6s 119us/step - loss: 0.1421 - accuracy: 0.9531 - val_loss: 3.5979 - val_accuracy: 0.5325\n",
      "Epoch 42/100\n",
      "50000/50000 [==============================] - 6s 119us/step - loss: 0.1357 - accuracy: 0.9548 - val_loss: 3.7043 - val_accuracy: 0.5207\n",
      "Epoch 43/100\n",
      "50000/50000 [==============================] - 6s 121us/step - loss: 0.1255 - accuracy: 0.9571 - val_loss: 3.6960 - val_accuracy: 0.5222\n",
      "Epoch 44/100\n",
      "50000/50000 [==============================] - 6s 120us/step - loss: 0.1509 - accuracy: 0.9494 - val_loss: 3.5869 - val_accuracy: 0.5235\n",
      "Epoch 45/100\n",
      "50000/50000 [==============================] - 6s 121us/step - loss: 0.1301 - accuracy: 0.9561 - val_loss: 3.7369 - val_accuracy: 0.5244\n",
      "Epoch 46/100\n",
      "50000/50000 [==============================] - 6s 119us/step - loss: 0.1059 - accuracy: 0.9640 - val_loss: 3.8883 - val_accuracy: 0.5228\n",
      "Epoch 47/100\n",
      "50000/50000 [==============================] - 6s 119us/step - loss: 0.1137 - accuracy: 0.9619 - val_loss: 3.8284 - val_accuracy: 0.5314\n",
      "Epoch 48/100\n",
      "50000/50000 [==============================] - 6s 127us/step - loss: 0.1116 - accuracy: 0.9627 - val_loss: 3.9398 - val_accuracy: 0.5234\n",
      "Epoch 49/100\n",
      "50000/50000 [==============================] - 7s 138us/step - loss: 0.1265 - accuracy: 0.9588 - val_loss: 3.8306 - val_accuracy: 0.5242\n",
      "Epoch 50/100\n",
      "50000/50000 [==============================] - 7s 138us/step - loss: 0.1088 - accuracy: 0.9635 - val_loss: 3.8774 - val_accuracy: 0.5255\n",
      "Epoch 51/100\n",
      "50000/50000 [==============================] - 7s 141us/step - loss: 0.0963 - accuracy: 0.9672 - val_loss: 4.0121 - val_accuracy: 0.5270\n",
      "Epoch 52/100\n",
      "50000/50000 [==============================] - 8s 152us/step - loss: 0.1181 - accuracy: 0.9601 - val_loss: 3.8142 - val_accuracy: 0.5257\n",
      "Epoch 53/100\n",
      "50000/50000 [==============================] - 7s 140us/step - loss: 0.1227 - accuracy: 0.9599 - val_loss: 4.0311 - val_accuracy: 0.5272\n",
      "Epoch 54/100\n",
      "50000/50000 [==============================] - 6s 126us/step - loss: 0.1033 - accuracy: 0.9655 - val_loss: 3.9114 - val_accuracy: 0.5267\n",
      "Epoch 55/100\n"
     ]
    },
    {
     "name": "stdout",
     "output_type": "stream",
     "text": [
      "50000/50000 [==============================] - 6s 119us/step - loss: 0.0878 - accuracy: 0.9705 - val_loss: 4.0212 - val_accuracy: 0.5351\n",
      "Epoch 56/100\n",
      "50000/50000 [==============================] - 7s 132us/step - loss: 0.0907 - accuracy: 0.9698 - val_loss: 4.0243 - val_accuracy: 0.5256\n",
      "Epoch 57/100\n",
      "50000/50000 [==============================] - 6s 121us/step - loss: 0.1064 - accuracy: 0.9647 - val_loss: 3.9688 - val_accuracy: 0.5283\n",
      "Epoch 58/100\n",
      "50000/50000 [==============================] - 6s 110us/step - loss: 0.1021 - accuracy: 0.9665 - val_loss: 3.9846 - val_accuracy: 0.5315\n",
      "Epoch 59/100\n",
      "50000/50000 [==============================] - 6s 130us/step - loss: 0.1122 - accuracy: 0.9637 - val_loss: 3.9126 - val_accuracy: 0.5215\n",
      "Epoch 60/100\n",
      "50000/50000 [==============================] - 6s 116us/step - loss: 0.0868 - accuracy: 0.9716 - val_loss: 4.0956 - val_accuracy: 0.5225\n",
      "Epoch 61/100\n",
      "50000/50000 [==============================] - 6s 115us/step - loss: 0.0808 - accuracy: 0.9733 - val_loss: 4.2283 - val_accuracy: 0.5314\n",
      "Epoch 62/100\n",
      "50000/50000 [==============================] - 6s 117us/step - loss: 0.0915 - accuracy: 0.9697 - val_loss: 4.0782 - val_accuracy: 0.5214\n",
      "Epoch 63/100\n",
      "50000/50000 [==============================] - 6s 122us/step - loss: 0.1099 - accuracy: 0.9635 - val_loss: 4.0778 - val_accuracy: 0.5344\n",
      "Epoch 64/100\n",
      "50000/50000 [==============================] - 6s 119us/step - loss: 0.0998 - accuracy: 0.9683 - val_loss: 4.1490 - val_accuracy: 0.5275\n",
      "Epoch 65/100\n",
      "50000/50000 [==============================] - 6s 128us/step - loss: 0.0788 - accuracy: 0.9744 - val_loss: 4.1608 - val_accuracy: 0.5310\n",
      "Epoch 66/100\n",
      "50000/50000 [==============================] - 6s 120us/step - loss: 0.1150 - accuracy: 0.9626 - val_loss: 3.9756 - val_accuracy: 0.5321\n",
      "Epoch 67/100\n",
      "50000/50000 [==============================] - 6s 119us/step - loss: 0.0768 - accuracy: 0.9743 - val_loss: 4.1800 - val_accuracy: 0.5344\n",
      "Epoch 68/100\n",
      "50000/50000 [==============================] - 6s 115us/step - loss: 0.0731 - accuracy: 0.9761 - val_loss: 4.1978 - val_accuracy: 0.5315\n",
      "Epoch 69/100\n",
      "50000/50000 [==============================] - 7s 132us/step - loss: 0.0942 - accuracy: 0.9691 - val_loss: 4.0177 - val_accuracy: 0.5312\n",
      "Epoch 70/100\n",
      "50000/50000 [==============================] - 7s 142us/step - loss: 0.0788 - accuracy: 0.9741 - val_loss: 4.3526 - val_accuracy: 0.5269\n",
      "Epoch 71/100\n",
      "50000/50000 [==============================] - 7s 131us/step - loss: 0.0665 - accuracy: 0.9784 - val_loss: 4.4023 - val_accuracy: 0.5285\n",
      "Epoch 72/100\n",
      "50000/50000 [==============================] - 6s 123us/step - loss: 0.0758 - accuracy: 0.9755 - val_loss: 4.2887 - val_accuracy: 0.5298\n",
      "Epoch 73/100\n",
      "50000/50000 [==============================] - 6s 129us/step - loss: 0.0984 - accuracy: 0.9689 - val_loss: 4.0012 - val_accuracy: 0.5188\n",
      "Epoch 74/100\n",
      "50000/50000 [==============================] - 6s 125us/step - loss: 0.1065 - accuracy: 0.9653 - val_loss: 4.0272 - val_accuracy: 0.5333\n",
      "Epoch 75/100\n",
      "50000/50000 [==============================] - 6s 125us/step - loss: 0.0617 - accuracy: 0.9796 - val_loss: 4.3698 - val_accuracy: 0.5339\n",
      "Epoch 76/100\n",
      "50000/50000 [==============================] - 6s 126us/step - loss: 0.0833 - accuracy: 0.9731 - val_loss: 4.3690 - val_accuracy: 0.5261\n",
      "Epoch 77/100\n",
      "50000/50000 [==============================] - 6s 126us/step - loss: 0.0643 - accuracy: 0.9787 - val_loss: 4.3955 - val_accuracy: 0.5346\n",
      "Epoch 78/100\n",
      "50000/50000 [==============================] - 6s 122us/step - loss: 0.0750 - accuracy: 0.9750 - val_loss: 4.4904 - val_accuracy: 0.5245\n",
      "Epoch 79/100\n",
      "50000/50000 [==============================] - 6s 117us/step - loss: 0.0832 - accuracy: 0.9729 - val_loss: 4.2618 - val_accuracy: 0.5340\n",
      "Epoch 80/100\n",
      "50000/50000 [==============================] - 6s 115us/step - loss: 0.0672 - accuracy: 0.9785 - val_loss: 4.4742 - val_accuracy: 0.5292\n",
      "Epoch 81/100\n",
      "50000/50000 [==============================] - 6s 117us/step - loss: 0.0818 - accuracy: 0.9733 - val_loss: 4.2563 - val_accuracy: 0.5277\n",
      "Epoch 82/100\n",
      "50000/50000 [==============================] - 6s 117us/step - loss: 0.0813 - accuracy: 0.9738 - val_loss: 4.4257 - val_accuracy: 0.5330\n",
      "Epoch 83/100\n",
      "50000/50000 [==============================] - 6s 115us/step - loss: 0.0798 - accuracy: 0.9737 - val_loss: 4.2868 - val_accuracy: 0.5288\n",
      "Epoch 84/100\n",
      "50000/50000 [==============================] - 7s 135us/step - loss: 0.0590 - accuracy: 0.9810 - val_loss: 4.6501 - val_accuracy: 0.5340\n",
      "Epoch 85/100\n",
      "50000/50000 [==============================] - 6s 127us/step - loss: 0.0696 - accuracy: 0.9772 - val_loss: 4.4552 - val_accuracy: 0.5272\n",
      "Epoch 86/100\n",
      "50000/50000 [==============================] - 7s 139us/step - loss: 0.0618 - accuracy: 0.9800 - val_loss: 4.4593 - val_accuracy: 0.5370\n",
      "Epoch 87/100\n",
      "50000/50000 [==============================] - 6s 129us/step - loss: 0.0731 - accuracy: 0.9764 - val_loss: 4.6021 - val_accuracy: 0.5304\n",
      "Epoch 88/100\n",
      "50000/50000 [==============================] - 7s 136us/step - loss: 0.0922 - accuracy: 0.9705 - val_loss: 4.3750 - val_accuracy: 0.5259\n",
      "Epoch 89/100\n",
      "50000/50000 [==============================] - 7s 133us/step - loss: 0.0637 - accuracy: 0.9795 - val_loss: 4.3786 - val_accuracy: 0.5378\n",
      "Epoch 90/100\n",
      "50000/50000 [==============================] - 6s 120us/step - loss: 0.0539 - accuracy: 0.9830 - val_loss: 4.5173 - val_accuracy: 0.5299\n",
      "Epoch 91/100\n",
      "50000/50000 [==============================] - 7s 134us/step - loss: 0.0541 - accuracy: 0.9824 - val_loss: 4.8115 - val_accuracy: 0.5321\n",
      "Epoch 92/100\n",
      "50000/50000 [==============================] - 6s 128us/step - loss: 0.0718 - accuracy: 0.9775 - val_loss: 4.6153 - val_accuracy: 0.5263\n",
      "Epoch 93/100\n",
      "50000/50000 [==============================] - 6s 116us/step - loss: 0.0833 - accuracy: 0.9738 - val_loss: 4.5017 - val_accuracy: 0.5306\n",
      "Epoch 94/100\n",
      "50000/50000 [==============================] - 6s 121us/step - loss: 0.0594 - accuracy: 0.9807 - val_loss: 4.6820 - val_accuracy: 0.5378\n",
      "Epoch 95/100\n",
      "50000/50000 [==============================] - 6s 117us/step - loss: 0.0552 - accuracy: 0.9825 - val_loss: 4.6291 - val_accuracy: 0.5299\n",
      "Epoch 96/100\n",
      "50000/50000 [==============================] - 6s 119us/step - loss: 0.0562 - accuracy: 0.9815 - val_loss: 4.6611 - val_accuracy: 0.5300\n",
      "Epoch 97/100\n",
      "50000/50000 [==============================] - 6s 124us/step - loss: 0.0636 - accuracy: 0.9800 - val_loss: 4.6890 - val_accuracy: 0.5295\n",
      "Epoch 98/100\n",
      "50000/50000 [==============================] - 6s 121us/step - loss: 0.0708 - accuracy: 0.9775 - val_loss: 4.4317 - val_accuracy: 0.5285\n",
      "Epoch 99/100\n",
      "50000/50000 [==============================] - 6s 124us/step - loss: 0.0635 - accuracy: 0.9796 - val_loss: 4.4157 - val_accuracy: 0.5263\n",
      "Epoch 100/100\n",
      "50000/50000 [==============================] - 6s 127us/step - loss: 0.0605 - accuracy: 0.9807 - val_loss: 4.4195 - val_accuracy: 0.5319\n"
     ]
    },
    {
     "data": {
      "text/plain": [
       "<keras.callbacks.callbacks.History at 0x63073e0f0>"
      ]
     },
     "execution_count": 43,
     "metadata": {},
     "output_type": "execute_result"
    }
   ],
   "source": [
    "model.fit(x_train, y_train, \n",
    "          epochs=EPOCHS, \n",
    "          batch_size=BATCH_SIZE, \n",
    "          validation_data=(x_test, y_test), \n",
    "          shuffle=True)"
   ]
  },
  {
   "cell_type": "code",
   "execution_count": 45,
   "metadata": {},
   "outputs": [
    {
     "data": {
      "image/png": "[encoded data removed]",
      "text/plain": [
       "<Figure size 432x288 with 1 Axes>"
      ]
     },
     "metadata": {
      "needs_background": "light"
     },
     "output_type": "display_data"
    },
    {
     "data": {
      "image/png": "[encoded data removed]",
      "text/plain": [
       "<Figure size 432x288 with 1 Axes>"
      ]
     },
     "metadata": {
      "needs_background": "light"
     },
     "output_type": "display_data"
    }
   ],
   "source": [
    "import matplotlib.pyplot as plt\n",
    "\n",
    "\n",
    "train_loss = model.history.history[\"loss\"]\n",
    "valid_loss = model.history.history[\"val_loss\"]\n",
    "\n",
    "train_acc = model.history.history[\"accuracy\"]\n",
    "valid_acc = model.history.history[\"val_accuracy\"]\n",
    "\n",
    "plt.plot(range(len(train_loss)), train_loss, label=\"train loss\")\n",
    "plt.plot(range(len(valid_loss)), valid_loss, label=\"valid loss\")\n",
    "plt.legend()\n",
    "plt.title(\"Loss\")\n",
    "plt.show()\n",
    "\n",
    "plt.plot(range(len(train_acc)), train_acc, label=\"train accuracy\")\n",
    "plt.plot(range(len(valid_acc)), valid_acc, label=\"valid accuracy\")\n",
    "plt.legend()\n",
    "plt.title(\"Accuracy\")\n",
    "plt.show()"
   ]
  },
  {
   "cell_type": "code",
   "execution_count": null,
   "metadata": {},
   "outputs": [],
   "source": []
  }
 ],
 "metadata": {
  "kernelspec": {
   "display_name": "Python 3",
   "language": "python",
   "name": "python3"
  },
  "language_info": {
   "codemirror_mode": {
    "name": "ipython",
    "version": 3
   },
   "file_extension": ".py",
   "mimetype": "text/x-python",
   "name": "python",
   "nbconvert_exporter": "python",
   "pygments_lexer": "ipython3",
   "version": "3.7.3"
  }
 },
 "nbformat": 4,
 "nbformat_minor": 2
}

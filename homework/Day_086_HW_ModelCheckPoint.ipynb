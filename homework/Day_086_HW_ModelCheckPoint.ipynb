{
 "cells": [
  {
   "cell_type": "markdown",
   "metadata": {},
   "source": [
    "## Work\n",
    "1. 試比較 save_best_only 與否的差異\n",
    "2. 請僅存入將 save_weights_only 設定為 True, 並嘗試 reset ipynb 並將模型與權重重新建回並預測 x_test"
   ]
  },
  {
   "cell_type": "code",
   "execution_count": 1,
   "metadata": {},
   "outputs": [
    {
     "name": "stderr",
     "output_type": "stream",
     "text": [
      "Using TensorFlow backend.\n"
     ]
    }
   ],
   "source": [
    "import os\n",
    "import keras\n",
    "\n",
    "# Disable GPU\n",
    "os.environ[\"CUDA_VISIBLE_DEVICES\"] = \"\""
   ]
  },
  {
   "cell_type": "code",
   "execution_count": 2,
   "metadata": {},
   "outputs": [],
   "source": [
    "train, test = keras.datasets.cifar10.load_data()"
   ]
  },
  {
   "cell_type": "code",
   "execution_count": 3,
   "metadata": {},
   "outputs": [],
   "source": [
    "## 資料前處理\n",
    "def preproc_x(x, flatten=True):\n",
    "    x = x / 255.\n",
    "    if flatten:\n",
    "        x = x.reshape((len(x), -1))\n",
    "    return x\n",
    "\n",
    "def preproc_y(y, num_classes=10):\n",
    "    if y.shape[-1] == 1:\n",
    "        y = keras.utils.to_categorical(y, num_classes)\n",
    "    return y    "
   ]
  },
  {
   "cell_type": "code",
   "execution_count": 4,
   "metadata": {},
   "outputs": [],
   "source": [
    "x_train, y_train = train\n",
    "x_test, y_test = test\n",
    "\n",
    "# Preproc the inputs\n",
    "x_train = preproc_x(x_train)\n",
    "x_test = preproc_x(x_test)\n",
    "\n",
    "# Preprc the outputs\n",
    "y_train = preproc_y(y_train)\n",
    "y_test = preproc_y(y_test)"
   ]
  },
  {
   "cell_type": "code",
   "execution_count": 5,
   "metadata": {},
   "outputs": [],
   "source": [
    "from keras.layers import BatchNormalization\n",
    "\n",
    "\"\"\"\n",
    "建立神經網路，並加入 BN layer\n",
    "\"\"\"\n",
    "def build_mlp(input_shape, output_units=10, num_neurons=[512, 256, 128]):\n",
    "    input_layer = keras.layers.Input(input_shape)\n",
    "    \n",
    "    for i, n_units in enumerate(num_neurons):\n",
    "        if i == 0:\n",
    "            x = keras.layers.Dense(units=n_units, \n",
    "                                   activation=\"relu\", \n",
    "                                   name=\"hidden_layer\"+str(i+1))(input_layer)\n",
    "            x = BatchNormalization()(x)\n",
    "        else:\n",
    "            x = keras.layers.Dense(units=n_units, \n",
    "                                   activation=\"relu\", \n",
    "                                   name=\"hidden_layer\"+str(i+1))(x)\n",
    "            x = BatchNormalization()(x)\n",
    "    \n",
    "    out = keras.layers.Dense(units=output_units, activation=\"softmax\", name=\"output\")(x)\n",
    "    \n",
    "    model = keras.models.Model(inputs=[input_layer], outputs=[out])\n",
    "    return model"
   ]
  },
  {
   "cell_type": "code",
   "execution_count": 6,
   "metadata": {},
   "outputs": [],
   "source": [
    "## 超參數設定\n",
    "LEARNING_RATE = 1e-3\n",
    "EPOCHS = 50\n",
    "BATCH_SIZE = 1024\n",
    "MOMENTUM = 0.95"
   ]
  },
  {
   "cell_type": "code",
   "execution_count": 7,
   "metadata": {},
   "outputs": [],
   "source": [
    "# 載入 Callbacks\n",
    "from keras.callbacks import ModelCheckpoint\n",
    "model_ckpt = ModelCheckpoint(filepath=\"./tmp.h5\", \n",
    "                             monitor=\"val_loss\", \n",
    "                             save_best_only=True)"
   ]
  },
  {
   "cell_type": "code",
   "execution_count": 8,
   "metadata": {},
   "outputs": [
    {
     "name": "stdout",
     "output_type": "stream",
     "text": [
      "Model: \"model_1\"\n",
      "_________________________________________________________________\n",
      "Layer (type)                 Output Shape              Param #   \n",
      "=================================================================\n",
      "input_1 (InputLayer)         (None, 3072)              0         \n",
      "_________________________________________________________________\n",
      "hidden_layer1 (Dense)        (None, 512)               1573376   \n",
      "_________________________________________________________________\n",
      "batch_normalization_1 (Batch (None, 512)               2048      \n",
      "_________________________________________________________________\n",
      "hidden_layer2 (Dense)        (None, 256)               131328    \n",
      "_________________________________________________________________\n",
      "batch_normalization_2 (Batch (None, 256)               1024      \n",
      "_________________________________________________________________\n",
      "hidden_layer3 (Dense)        (None, 128)               32896     \n",
      "_________________________________________________________________\n",
      "batch_normalization_3 (Batch (None, 128)               512       \n",
      "_________________________________________________________________\n",
      "output (Dense)               (None, 10)                1290      \n",
      "=================================================================\n",
      "Total params: 1,742,474\n",
      "Trainable params: 1,740,682\n",
      "Non-trainable params: 1,792\n",
      "_________________________________________________________________\n",
      "Train on 50000 samples, validate on 10000 samples\n",
      "Epoch 1/50\n",
      "50000/50000 [==============================] - 6s 112us/step - loss: 2.1961 - accuracy: 0.2711 - val_loss: 2.1363 - val_accuracy: 0.2043\n",
      "Epoch 2/50\n",
      "50000/50000 [==============================] - 5s 98us/step - loss: 1.7489 - accuracy: 0.3882 - val_loss: 1.9667 - val_accuracy: 0.3036\n",
      "Epoch 3/50\n",
      "50000/50000 [==============================] - 5s 97us/step - loss: 1.6257 - accuracy: 0.4308 - val_loss: 1.8194 - val_accuracy: 0.3732\n",
      "Epoch 4/50\n",
      "50000/50000 [==============================] - 5s 99us/step - loss: 1.5510 - accuracy: 0.4579 - val_loss: 1.7337 - val_accuracy: 0.4004\n",
      "Epoch 5/50\n",
      "50000/50000 [==============================] - 5s 102us/step - loss: 1.4963 - accuracy: 0.4753 - val_loss: 1.6492 - val_accuracy: 0.4299\n",
      "Epoch 6/50\n",
      "50000/50000 [==============================] - 5s 103us/step - loss: 1.4502 - accuracy: 0.4937 - val_loss: 1.5941 - val_accuracy: 0.4441\n",
      "Epoch 7/50\n",
      "50000/50000 [==============================] - 5s 103us/step - loss: 1.4092 - accuracy: 0.5072 - val_loss: 1.5521 - val_accuracy: 0.4542\n",
      "Epoch 8/50\n",
      "50000/50000 [==============================] - 5s 104us/step - loss: 1.3731 - accuracy: 0.5218 - val_loss: 1.5307 - val_accuracy: 0.4605\n",
      "Epoch 9/50\n",
      "50000/50000 [==============================] - 6s 111us/step - loss: 1.3421 - accuracy: 0.5340 - val_loss: 1.5120 - val_accuracy: 0.4623\n",
      "Epoch 10/50\n",
      "50000/50000 [==============================] - 5s 101us/step - loss: 1.3126 - accuracy: 0.5440 - val_loss: 1.4867 - val_accuracy: 0.4748\n",
      "Epoch 11/50\n",
      "50000/50000 [==============================] - 5s 105us/step - loss: 1.2824 - accuracy: 0.5559 - val_loss: 1.4876 - val_accuracy: 0.4744\n",
      "Epoch 12/50\n",
      "50000/50000 [==============================] - 5s 101us/step - loss: 1.2560 - accuracy: 0.5651 - val_loss: 1.4711 - val_accuracy: 0.4783\n",
      "Epoch 13/50\n",
      "50000/50000 [==============================] - 5s 103us/step - loss: 1.2311 - accuracy: 0.5745 - val_loss: 1.4634 - val_accuracy: 0.4816\n",
      "Epoch 14/50\n",
      "50000/50000 [==============================] - 5s 101us/step - loss: 1.2050 - accuracy: 0.5847 - val_loss: 1.4607 - val_accuracy: 0.4874\n",
      "Epoch 15/50\n",
      "50000/50000 [==============================] - 6s 115us/step - loss: 1.1825 - accuracy: 0.5930 - val_loss: 1.4546 - val_accuracy: 0.4866\n",
      "Epoch 16/50\n",
      "50000/50000 [==============================] - 5s 105us/step - loss: 1.1595 - accuracy: 0.6010 - val_loss: 1.4469 - val_accuracy: 0.4890\n",
      "Epoch 17/50\n",
      "50000/50000 [==============================] - 5s 107us/step - loss: 1.1359 - accuracy: 0.6101 - val_loss: 1.4424 - val_accuracy: 0.4936\n",
      "Epoch 18/50\n",
      "50000/50000 [==============================] - 5s 102us/step - loss: 1.1150 - accuracy: 0.6204 - val_loss: 1.4358 - val_accuracy: 0.4952\n",
      "Epoch 19/50\n",
      "50000/50000 [==============================] - 5s 106us/step - loss: 1.0913 - accuracy: 0.6274 - val_loss: 1.4363 - val_accuracy: 0.4960\n",
      "Epoch 20/50\n",
      "50000/50000 [==============================] - 5s 103us/step - loss: 1.0684 - accuracy: 0.6359 - val_loss: 1.4465 - val_accuracy: 0.4904\n",
      "Epoch 21/50\n",
      "50000/50000 [==============================] - 5s 98us/step - loss: 1.0474 - accuracy: 0.6436 - val_loss: 1.4446 - val_accuracy: 0.4968\n",
      "Epoch 22/50\n",
      "50000/50000 [==============================] - 5s 105us/step - loss: 1.0270 - accuracy: 0.6542 - val_loss: 1.4490 - val_accuracy: 0.4958\n",
      "Epoch 23/50\n",
      "50000/50000 [==============================] - 5s 100us/step - loss: 1.0076 - accuracy: 0.6604 - val_loss: 1.4394 - val_accuracy: 0.4951\n",
      "Epoch 24/50\n",
      "50000/50000 [==============================] - 5s 103us/step - loss: 0.9855 - accuracy: 0.6679 - val_loss: 1.4453 - val_accuracy: 0.4985\n",
      "Epoch 25/50\n",
      "50000/50000 [==============================] - 5s 101us/step - loss: 0.9650 - accuracy: 0.6768 - val_loss: 1.4471 - val_accuracy: 0.4927\n",
      "Epoch 26/50\n",
      "50000/50000 [==============================] - 5s 104us/step - loss: 0.9452 - accuracy: 0.6843 - val_loss: 1.4479 - val_accuracy: 0.4952\n",
      "Epoch 27/50\n",
      "50000/50000 [==============================] - 5s 99us/step - loss: 0.9242 - accuracy: 0.6923 - val_loss: 1.4515 - val_accuracy: 0.5029\n",
      "Epoch 28/50\n",
      "50000/50000 [==============================] - 5s 98us/step - loss: 0.9024 - accuracy: 0.7004 - val_loss: 1.4591 - val_accuracy: 0.4969\n",
      "Epoch 29/50\n",
      "50000/50000 [==============================] - 5s 98us/step - loss: 0.8836 - accuracy: 0.7092 - val_loss: 1.4614 - val_accuracy: 0.5005\n",
      "Epoch 30/50\n",
      "50000/50000 [==============================] - 5s 109us/step - loss: 0.8641 - accuracy: 0.7159 - val_loss: 1.4698 - val_accuracy: 0.4944\n",
      "Epoch 31/50\n",
      "50000/50000 [==============================] - 5s 104us/step - loss: 0.8454 - accuracy: 0.7217 - val_loss: 1.4711 - val_accuracy: 0.4994\n",
      "Epoch 32/50\n",
      "50000/50000 [==============================] - 5s 99us/step - loss: 0.8252 - accuracy: 0.7310 - val_loss: 1.4729 - val_accuracy: 0.5018\n",
      "Epoch 33/50\n",
      "50000/50000 [==============================] - 5s 96us/step - loss: 0.8044 - accuracy: 0.7391 - val_loss: 1.4851 - val_accuracy: 0.4977\n",
      "Epoch 34/50\n",
      "50000/50000 [==============================] - 5s 98us/step - loss: 0.7843 - accuracy: 0.7475 - val_loss: 1.4963 - val_accuracy: 0.4946\n",
      "Epoch 35/50\n",
      "50000/50000 [==============================] - 5s 96us/step - loss: 0.7666 - accuracy: 0.7528 - val_loss: 1.5127 - val_accuracy: 0.4981\n",
      "Epoch 36/50\n",
      "50000/50000 [==============================] - 5s 96us/step - loss: 0.7485 - accuracy: 0.7608 - val_loss: 1.5049 - val_accuracy: 0.4986\n",
      "Epoch 37/50\n",
      "50000/50000 [==============================] - 5s 97us/step - loss: 0.7300 - accuracy: 0.7676 - val_loss: 1.5152 - val_accuracy: 0.4978\n",
      "Epoch 38/50\n",
      "50000/50000 [==============================] - 5s 105us/step - loss: 0.7112 - accuracy: 0.7747 - val_loss: 1.5312 - val_accuracy: 0.4964\n",
      "Epoch 39/50\n",
      "50000/50000 [==============================] - 5s 103us/step - loss: 0.6917 - accuracy: 0.7836 - val_loss: 1.5460 - val_accuracy: 0.4984\n",
      "Epoch 40/50\n",
      "50000/50000 [==============================] - 5s 107us/step - loss: 0.6738 - accuracy: 0.7906 - val_loss: 1.5364 - val_accuracy: 0.4957\n",
      "Epoch 41/50\n",
      "50000/50000 [==============================] - 5s 101us/step - loss: 0.6554 - accuracy: 0.7969 - val_loss: 1.5482 - val_accuracy: 0.4945\n",
      "Epoch 42/50\n",
      "50000/50000 [==============================] - 5s 106us/step - loss: 0.6369 - accuracy: 0.8045 - val_loss: 1.5879 - val_accuracy: 0.4886\n",
      "Epoch 43/50\n",
      "50000/50000 [==============================] - 6s 111us/step - loss: 0.6193 - accuracy: 0.8117 - val_loss: 1.5865 - val_accuracy: 0.4930\n",
      "Epoch 44/50\n",
      "50000/50000 [==============================] - 5s 101us/step - loss: 0.6036 - accuracy: 0.8179 - val_loss: 1.6031 - val_accuracy: 0.4917\n",
      "Epoch 45/50\n",
      "50000/50000 [==============================] - 5s 96us/step - loss: 0.5841 - accuracy: 0.8255 - val_loss: 1.6098 - val_accuracy: 0.4864\n",
      "Epoch 46/50\n"
     ]
    },
    {
     "name": "stdout",
     "output_type": "stream",
     "text": [
      "50000/50000 [==============================] - 5s 102us/step - loss: 0.5692 - accuracy: 0.8310 - val_loss: 1.6224 - val_accuracy: 0.4895\n",
      "Epoch 47/50\n",
      "50000/50000 [==============================] - 5s 98us/step - loss: 0.5492 - accuracy: 0.8387 - val_loss: 1.6274 - val_accuracy: 0.4910\n",
      "Epoch 48/50\n",
      "50000/50000 [==============================] - 5s 103us/step - loss: 0.5349 - accuracy: 0.8451 - val_loss: 1.6598 - val_accuracy: 0.4915\n",
      "Epoch 49/50\n",
      "50000/50000 [==============================] - 5s 97us/step - loss: 0.5159 - accuracy: 0.8523 - val_loss: 1.6461 - val_accuracy: 0.4905\n",
      "Epoch 50/50\n",
      "50000/50000 [==============================] - 5s 101us/step - loss: 0.5026 - accuracy: 0.8579 - val_loss: 1.6934 - val_accuracy: 0.4857\n",
      "10000/10000 [==============================] - 1s 90us/step\n"
     ]
    }
   ],
   "source": [
    "model = build_mlp(input_shape=x_train.shape[1:])\n",
    "model.summary()\n",
    "optimizer = keras.optimizers.SGD(lr=LEARNING_RATE, nesterov=True, momentum=MOMENTUM)\n",
    "model.compile(loss=\"categorical_crossentropy\", metrics=[\"accuracy\"], optimizer=optimizer)\n",
    "\n",
    "model.fit(x_train, y_train, \n",
    "          epochs=EPOCHS, \n",
    "          batch_size=BATCH_SIZE, \n",
    "          validation_data=(x_test, y_test), \n",
    "          shuffle=True,\n",
    "          callbacks=[model_ckpt]\n",
    "         )\n",
    "\n",
    "# Collect results\n",
    "train_loss = model.history.history[\"loss\"]\n",
    "valid_loss = model.history.history[\"val_loss\"]\n",
    "train_acc = model.history.history[\"accuracy\"]\n",
    "valid_acc = model.history.history[\"val_accuracy\"]\n",
    "\n",
    "# Load back\n",
    "model = keras.models.load_model(\"./tmp.h5\")\n",
    "loss_loadback, acc_loadback = model.evaluate(x_test, y_test)"
   ]
  },
  {
   "cell_type": "code",
   "execution_count": 14,
   "metadata": {
    "scrolled": true
   },
   "outputs": [
    {
     "name": "stdout",
     "output_type": "stream",
     "text": [
      "Save Best Only = True\n"
     ]
    },
    {
     "data": {
      "image/png": "[encoded data removed]",
      "text/plain": [
       "<Figure size 432x288 with 1 Axes>"
      ]
     },
     "metadata": {
      "needs_background": "light"
     },
     "output_type": "display_data"
    },
    {
     "data": {
      "image/png": "[encoded data removed]",
      "text/plain": [
       "<Figure size 432x288 with 1 Axes>"
      ]
     },
     "metadata": {
      "needs_background": "light"
     },
     "output_type": "display_data"
    }
   ],
   "source": [
    "import matplotlib.pyplot as plt\n",
    "%matplotlib inline\n",
    "\n",
    "print(\"Save Best Only = True\")\n",
    "\n",
    "plt.plot(range(len(train_loss)), train_loss, label=\"train loss\")\n",
    "plt.plot(range(len(valid_loss)), valid_loss, label=\"valid loss\")\n",
    "plt.hlines(y=loss_loadback, xmin=0, xmax=len(train_loss), colors='r', linestyles='--')\n",
    "plt.legend()\n",
    "plt.title(\"Loss\")\n",
    "plt.show()\n",
    "\n",
    "plt.plot(range(len(train_acc)), train_acc, label=\"train accuracy\")\n",
    "plt.plot(range(len(valid_acc)), valid_acc, label=\"valid accuracy\")\n",
    "plt.hlines(y=acc_loadback, xmin=0, xmax=len(train_loss), colors='r', linestyles='--')\n",
    "plt.legend()\n",
    "plt.title(\"Accuracy\")\n",
    "plt.show()"
   ]
  },
  {
   "cell_type": "code",
   "execution_count": 10,
   "metadata": {},
   "outputs": [],
   "source": [
    "model_ckpt = ModelCheckpoint(filepath=\"./tmp.h5\", \n",
    "                             monitor=\"val_loss\", \n",
    "                             save_best_only=False)"
   ]
  },
  {
   "cell_type": "code",
   "execution_count": 11,
   "metadata": {},
   "outputs": [
    {
     "name": "stdout",
     "output_type": "stream",
     "text": [
      "Model: \"model_2\"\n",
      "_________________________________________________________________\n",
      "Layer (type)                 Output Shape              Param #   \n",
      "=================================================================\n",
      "input_2 (InputLayer)         (None, 3072)              0         \n",
      "_________________________________________________________________\n",
      "hidden_layer1 (Dense)        (None, 512)               1573376   \n",
      "_________________________________________________________________\n",
      "batch_normalization_4 (Batch (None, 512)               2048      \n",
      "_________________________________________________________________\n",
      "hidden_layer2 (Dense)        (None, 256)               131328    \n",
      "_________________________________________________________________\n",
      "batch_normalization_5 (Batch (None, 256)               1024      \n",
      "_________________________________________________________________\n",
      "hidden_layer3 (Dense)        (None, 128)               32896     \n",
      "_________________________________________________________________\n",
      "batch_normalization_6 (Batch (None, 128)               512       \n",
      "_________________________________________________________________\n",
      "output (Dense)               (None, 10)                1290      \n",
      "=================================================================\n",
      "Total params: 1,742,474\n",
      "Trainable params: 1,740,682\n",
      "Non-trainable params: 1,792\n",
      "_________________________________________________________________\n",
      "Train on 50000 samples, validate on 10000 samples\n",
      "Epoch 1/50\n",
      "50000/50000 [==============================] - 5s 110us/step - loss: 2.2262 - accuracy: 0.2695 - val_loss: 2.1466 - val_accuracy: 0.1793\n",
      "Epoch 2/50\n",
      "50000/50000 [==============================] - 5s 94us/step - loss: 1.7505 - accuracy: 0.3920 - val_loss: 1.9615 - val_accuracy: 0.3089\n",
      "Epoch 3/50\n",
      "50000/50000 [==============================] - 5s 94us/step - loss: 1.6251 - accuracy: 0.4314 - val_loss: 1.8215 - val_accuracy: 0.3744\n",
      "Epoch 4/50\n",
      "50000/50000 [==============================] - 5s 93us/step - loss: 1.5497 - accuracy: 0.4598 - val_loss: 1.7204 - val_accuracy: 0.4129\n",
      "Epoch 5/50\n",
      "50000/50000 [==============================] - 5s 94us/step - loss: 1.4942 - accuracy: 0.4791 - val_loss: 1.6492 - val_accuracy: 0.4288\n",
      "Epoch 6/50\n",
      "50000/50000 [==============================] - 5s 93us/step - loss: 1.4494 - accuracy: 0.4949 - val_loss: 1.6009 - val_accuracy: 0.4384\n",
      "Epoch 7/50\n",
      "50000/50000 [==============================] - 5s 92us/step - loss: 1.4114 - accuracy: 0.5087 - val_loss: 1.5679 - val_accuracy: 0.4494\n",
      "Epoch 8/50\n",
      "50000/50000 [==============================] - 5s 93us/step - loss: 1.3757 - accuracy: 0.5215 - val_loss: 1.5272 - val_accuracy: 0.4630\n",
      "Epoch 9/50\n",
      "50000/50000 [==============================] - 5s 92us/step - loss: 1.3419 - accuracy: 0.5335 - val_loss: 1.5071 - val_accuracy: 0.4676\n",
      "Epoch 10/50\n",
      "50000/50000 [==============================] - 5s 94us/step - loss: 1.3139 - accuracy: 0.5426 - val_loss: 1.4878 - val_accuracy: 0.4752\n",
      "Epoch 11/50\n",
      "50000/50000 [==============================] - 5s 92us/step - loss: 1.2863 - accuracy: 0.5534 - val_loss: 1.4928 - val_accuracy: 0.4721\n",
      "Epoch 12/50\n",
      "50000/50000 [==============================] - 5s 93us/step - loss: 1.2580 - accuracy: 0.5655 - val_loss: 1.4786 - val_accuracy: 0.4801\n",
      "Epoch 13/50\n",
      "50000/50000 [==============================] - 5s 94us/step - loss: 1.2330 - accuracy: 0.5732 - val_loss: 1.4736 - val_accuracy: 0.4853\n",
      "Epoch 14/50\n",
      "50000/50000 [==============================] - 5s 93us/step - loss: 1.2074 - accuracy: 0.5846 - val_loss: 1.4636 - val_accuracy: 0.4865\n",
      "Epoch 15/50\n",
      "50000/50000 [==============================] - 5s 93us/step - loss: 1.1840 - accuracy: 0.5927 - val_loss: 1.4704 - val_accuracy: 0.4864\n",
      "Epoch 16/50\n",
      "50000/50000 [==============================] - 5s 94us/step - loss: 1.1603 - accuracy: 0.6006 - val_loss: 1.4562 - val_accuracy: 0.4921\n",
      "Epoch 17/50\n",
      "50000/50000 [==============================] - 5s 93us/step - loss: 1.1367 - accuracy: 0.6103 - val_loss: 1.4658 - val_accuracy: 0.4861\n",
      "Epoch 18/50\n",
      "50000/50000 [==============================] - 5s 93us/step - loss: 1.1144 - accuracy: 0.6179 - val_loss: 1.4608 - val_accuracy: 0.4953\n",
      "Epoch 19/50\n",
      "50000/50000 [==============================] - 5s 94us/step - loss: 1.0918 - accuracy: 0.6276 - val_loss: 1.4562 - val_accuracy: 0.4931\n",
      "Epoch 20/50\n",
      "50000/50000 [==============================] - 5s 93us/step - loss: 1.0701 - accuracy: 0.6340 - val_loss: 1.4722 - val_accuracy: 0.4894\n",
      "Epoch 21/50\n",
      "50000/50000 [==============================] - 5s 93us/step - loss: 1.0484 - accuracy: 0.6437 - val_loss: 1.4775 - val_accuracy: 0.4871\n",
      "Epoch 22/50\n",
      "50000/50000 [==============================] - 5s 93us/step - loss: 1.0281 - accuracy: 0.6508 - val_loss: 1.4826 - val_accuracy: 0.4891\n",
      "Epoch 23/50\n",
      "50000/50000 [==============================] - 5s 94us/step - loss: 1.0068 - accuracy: 0.6600 - val_loss: 1.4805 - val_accuracy: 0.4884\n",
      "Epoch 24/50\n",
      "50000/50000 [==============================] - 5s 93us/step - loss: 0.9841 - accuracy: 0.6690 - val_loss: 1.4652 - val_accuracy: 0.4964\n",
      "Epoch 25/50\n",
      "50000/50000 [==============================] - 5s 93us/step - loss: 0.9648 - accuracy: 0.6763 - val_loss: 1.4656 - val_accuracy: 0.4975\n",
      "Epoch 26/50\n",
      "50000/50000 [==============================] - 5s 94us/step - loss: 0.9420 - accuracy: 0.6852 - val_loss: 1.4794 - val_accuracy: 0.4932\n",
      "Epoch 27/50\n",
      "50000/50000 [==============================] - 5s 93us/step - loss: 0.9228 - accuracy: 0.6927 - val_loss: 1.4948 - val_accuracy: 0.4859\n",
      "Epoch 28/50\n",
      "50000/50000 [==============================] - 5s 93us/step - loss: 0.9042 - accuracy: 0.7006 - val_loss: 1.4844 - val_accuracy: 0.4914\n",
      "Epoch 29/50\n",
      "50000/50000 [==============================] - 5s 93us/step - loss: 0.8830 - accuracy: 0.7084 - val_loss: 1.4895 - val_accuracy: 0.4922\n",
      "Epoch 30/50\n",
      "50000/50000 [==============================] - 5s 93us/step - loss: 0.8638 - accuracy: 0.7149 - val_loss: 1.4888 - val_accuracy: 0.5009\n",
      "Epoch 31/50\n",
      "50000/50000 [==============================] - 5s 92us/step - loss: 0.8421 - accuracy: 0.7242 - val_loss: 1.4982 - val_accuracy: 0.4942\n",
      "Epoch 32/50\n",
      "50000/50000 [==============================] - 5s 93us/step - loss: 0.8243 - accuracy: 0.7310 - val_loss: 1.5126 - val_accuracy: 0.4938\n",
      "Epoch 33/50\n",
      "50000/50000 [==============================] - 5s 93us/step - loss: 0.8035 - accuracy: 0.7389 - val_loss: 1.5287 - val_accuracy: 0.4873\n",
      "Epoch 34/50\n",
      "50000/50000 [==============================] - 5s 92us/step - loss: 0.7837 - accuracy: 0.7475 - val_loss: 1.5179 - val_accuracy: 0.4955\n",
      "Epoch 35/50\n",
      "50000/50000 [==============================] - 5s 93us/step - loss: 0.7662 - accuracy: 0.7551 - val_loss: 1.5249 - val_accuracy: 0.4947\n",
      "Epoch 36/50\n",
      "50000/50000 [==============================] - 5s 92us/step - loss: 0.7465 - accuracy: 0.7622 - val_loss: 1.5313 - val_accuracy: 0.4913\n",
      "Epoch 37/50\n",
      "50000/50000 [==============================] - 5s 94us/step - loss: 0.7280 - accuracy: 0.7693 - val_loss: 1.5479 - val_accuracy: 0.4894\n",
      "Epoch 38/50\n",
      "50000/50000 [==============================] - 5s 93us/step - loss: 0.7090 - accuracy: 0.7772 - val_loss: 1.5740 - val_accuracy: 0.4831\n",
      "Epoch 39/50\n",
      "50000/50000 [==============================] - 5s 93us/step - loss: 0.6910 - accuracy: 0.7845 - val_loss: 1.5828 - val_accuracy: 0.4850\n",
      "Epoch 40/50\n",
      "50000/50000 [==============================] - 5s 93us/step - loss: 0.6723 - accuracy: 0.7913 - val_loss: 1.6130 - val_accuracy: 0.4835\n",
      "Epoch 41/50\n",
      "50000/50000 [==============================] - 5s 93us/step - loss: 0.6554 - accuracy: 0.7983 - val_loss: 1.5791 - val_accuracy: 0.4975\n",
      "Epoch 42/50\n",
      "50000/50000 [==============================] - 5s 94us/step - loss: 0.6347 - accuracy: 0.8071 - val_loss: 1.5913 - val_accuracy: 0.4935\n",
      "Epoch 43/50\n",
      "50000/50000 [==============================] - 5s 95us/step - loss: 0.6166 - accuracy: 0.8141 - val_loss: 1.5984 - val_accuracy: 0.4932\n",
      "Epoch 44/50\n",
      "50000/50000 [==============================] - 5s 94us/step - loss: 0.5999 - accuracy: 0.8214 - val_loss: 1.6087 - val_accuracy: 0.4919\n",
      "Epoch 45/50\n",
      "50000/50000 [==============================] - 5s 93us/step - loss: 0.5829 - accuracy: 0.8256 - val_loss: 1.6483 - val_accuracy: 0.4845\n",
      "Epoch 46/50\n"
     ]
    },
    {
     "name": "stdout",
     "output_type": "stream",
     "text": [
      "50000/50000 [==============================] - 5s 94us/step - loss: 0.5644 - accuracy: 0.8343 - val_loss: 1.6416 - val_accuracy: 0.4847\n",
      "Epoch 47/50\n",
      "50000/50000 [==============================] - 5s 92us/step - loss: 0.5481 - accuracy: 0.8408 - val_loss: 1.6652 - val_accuracy: 0.4867\n",
      "Epoch 48/50\n",
      "50000/50000 [==============================] - 5s 92us/step - loss: 0.5317 - accuracy: 0.8468 - val_loss: 1.6627 - val_accuracy: 0.4923\n",
      "Epoch 49/50\n",
      "50000/50000 [==============================] - 5s 92us/step - loss: 0.5146 - accuracy: 0.8540 - val_loss: 1.6752 - val_accuracy: 0.4877\n",
      "Epoch 50/50\n",
      "50000/50000 [==============================] - 5s 92us/step - loss: 0.4981 - accuracy: 0.8599 - val_loss: 1.6966 - val_accuracy: 0.4828\n",
      "10000/10000 [==============================] - 1s 77us/step\n"
     ]
    }
   ],
   "source": [
    "model = build_mlp(input_shape=x_train.shape[1:])\n",
    "model.summary()\n",
    "optimizer = keras.optimizers.SGD(lr=LEARNING_RATE, nesterov=True, momentum=MOMENTUM)\n",
    "model.compile(loss=\"categorical_crossentropy\", metrics=[\"accuracy\"], optimizer=optimizer)\n",
    "\n",
    "model.fit(x_train, y_train, \n",
    "          epochs=EPOCHS, \n",
    "          batch_size=BATCH_SIZE, \n",
    "          validation_data=(x_test, y_test), \n",
    "          shuffle=True,\n",
    "          callbacks=[model_ckpt]\n",
    "         )\n",
    "\n",
    "# Collect results\n",
    "train_loss = model.history.history[\"loss\"]\n",
    "valid_loss = model.history.history[\"val_loss\"]\n",
    "train_acc = model.history.history[\"accuracy\"]\n",
    "valid_acc = model.history.history[\"val_accuracy\"]\n",
    "\n",
    "# Load back\n",
    "model = keras.models.load_model(\"./tmp.h5\")\n",
    "loss_loadback, acc_loadback = model.evaluate(x_test, y_test)"
   ]
  },
  {
   "cell_type": "code",
   "execution_count": 13,
   "metadata": {},
   "outputs": [
    {
     "name": "stdout",
     "output_type": "stream",
     "text": [
      "Save Best Only = False\n"
     ]
    },
    {
     "data": {
      "image/png": "[encoded data removed]",
      "text/plain": [
       "<Figure size 432x288 with 1 Axes>"
      ]
     },
     "metadata": {
      "needs_background": "light"
     },
     "output_type": "display_data"
    },
    {
     "data": {
      "image/png": "[encoded data removed]",
      "text/plain": [
       "<Figure size 432x288 with 1 Axes>"
      ]
     },
     "metadata": {
      "needs_background": "light"
     },
     "output_type": "display_data"
    }
   ],
   "source": [
    "print(\"Save Best Only = False\")\n",
    "\n",
    "plt.plot(range(len(train_loss)), train_loss, label=\"train loss\")\n",
    "plt.plot(range(len(valid_loss)), valid_loss, label=\"valid loss\")\n",
    "plt.hlines(y=loss_loadback, xmin=0, xmax=len(train_loss), colors='r', linestyles='--')\n",
    "plt.legend()\n",
    "plt.title(\"Loss\")\n",
    "plt.show()\n",
    "\n",
    "plt.plot(range(len(train_acc)), train_acc, label=\"train accuracy\")\n",
    "plt.plot(range(len(valid_acc)), valid_acc, label=\"valid accuracy\")\n",
    "plt.hlines(y=acc_loadback, xmin=0, xmax=len(train_loss), colors='r', linestyles='--')\n",
    "plt.legend()\n",
    "plt.title(\"Accuracy\")\n",
    "plt.show()"
   ]
  },
  {
   "cell_type": "code",
   "execution_count": null,
   "metadata": {},
   "outputs": [],
   "source": []
  }
 ],
 "metadata": {
  "kernelspec": {
   "display_name": "Python 3",
   "language": "python",
   "name": "python3"
  },
  "language_info": {
   "codemirror_mode": {
    "name": "ipython",
    "version": 3
   },
   "file_extension": ".py",
   "mimetype": "text/x-python",
   "name": "python",
   "nbconvert_exporter": "python",
   "pygments_lexer": "ipython3",
   "version": "3.7.3"
  }
 },
 "nbformat": 4,
 "nbformat_minor": 2
}

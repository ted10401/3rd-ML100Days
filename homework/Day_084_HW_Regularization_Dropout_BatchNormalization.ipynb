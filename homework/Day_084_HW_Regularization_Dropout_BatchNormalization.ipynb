{
 "cells": [
  {
   "cell_type": "markdown",
   "metadata": {},
   "source": [
    "## Work\n",
    "### 請結合前面的知識與程式碼，比較不同的 regularization 的組合對訓練的結果與影響：如 dropout, regularizers, batch-normalization 等"
   ]
  },
  {
   "cell_type": "code",
   "execution_count": 37,
   "metadata": {},
   "outputs": [],
   "source": [
    "import os\n",
    "import keras\n",
    "import itertools\n",
    "# Disable GPU\n",
    "os.environ[\"CUDA_VISIBLE_DEVICES\"] = \"\""
   ]
  },
  {
   "cell_type": "code",
   "execution_count": 38,
   "metadata": {},
   "outputs": [],
   "source": [
    "train, test = keras.datasets.cifar10.load_data()"
   ]
  },
  {
   "cell_type": "code",
   "execution_count": 39,
   "metadata": {},
   "outputs": [],
   "source": [
    "## 資料前處理\n",
    "def preproc_x(x, flatten=True):\n",
    "    x = x / 255.\n",
    "    if flatten:\n",
    "        x = x.reshape((len(x), -1))\n",
    "    return x\n",
    "\n",
    "def preproc_y(y, num_classes=10):\n",
    "    if y.shape[-1] == 1:\n",
    "        y = keras.utils.to_categorical(y, num_classes)\n",
    "    return y    "
   ]
  },
  {
   "cell_type": "code",
   "execution_count": 40,
   "metadata": {},
   "outputs": [],
   "source": [
    "x_train, y_train = train\n",
    "x_test, y_test = test\n",
    "\n",
    "# Preproc the inputs\n",
    "x_train = preproc_x(x_train)\n",
    "x_test = preproc_x(x_test)\n",
    "\n",
    "# Preprc the outputs\n",
    "y_train = preproc_y(y_train)\n",
    "y_test = preproc_y(y_test)"
   ]
  },
  {
   "cell_type": "code",
   "execution_count": 41,
   "metadata": {},
   "outputs": [],
   "source": [
    "from keras.regularizers import l1\n",
    "from keras.layers import Dropout\n",
    "from keras.layers import BatchNormalization\n",
    "\n",
    "\"\"\"\n",
    "建立神經網路，並加入 L1 或 L2\n",
    "\"\"\"\n",
    "def build_mlp(input_shape, output_units=10, num_neurons=[512, 256, 128], l1_ratio=1e-4, drp_ratio=0.2):\n",
    "    input_layer = keras.layers.Input(input_shape)\n",
    "    \n",
    "    for i, n_units in enumerate(num_neurons):\n",
    "        if i == 0:\n",
    "            x = keras.layers.Dense(units=n_units, \n",
    "                                   activation=\"relu\", \n",
    "                                   name=\"hidden_layer\"+str(i+1), \n",
    "                                   kernel_regularizer=l1(l1_ratio))(input_layer)\n",
    "        else:\n",
    "            x = keras.layers.Dense(units=n_units, \n",
    "                                   activation=\"relu\", \n",
    "                                   name=\"hidden_layer\"+str(i+1),\n",
    "                                   kernel_regularizer=l1(l1_ratio))(x)\n",
    "\n",
    "    x = Dropout(drp_ratio)(x)\n",
    "    x = BatchNormalization()(x)\n",
    "    \n",
    "    out = keras.layers.Dense(units=output_units, activation=\"softmax\", name=\"output\")(x)\n",
    "    \n",
    "    model = keras.models.Model(inputs=[input_layer], outputs=[out])\n",
    "    return model"
   ]
  },
  {
   "cell_type": "code",
   "execution_count": 42,
   "metadata": {},
   "outputs": [],
   "source": [
    "## 超參數設定\n",
    "LEARNING_RATE = 1e-3\n",
    "EPOCHS = 50\n",
    "BATCH_SIZE = 256\n",
    "MOMENTUM = 0.95\n",
    "L1_EXP = 1e-2\n",
    "DROP_RATIO = 0.25\n",
    "BATCH_SIZE = 1024"
   ]
  },
  {
   "cell_type": "code",
   "execution_count": 43,
   "metadata": {
    "scrolled": true
   },
   "outputs": [
    {
     "name": "stdout",
     "output_type": "stream",
     "text": [
      "Model: \"model_1\"\n",
      "_________________________________________________________________\n",
      "Layer (type)                 Output Shape              Param #   \n",
      "=================================================================\n",
      "input_3 (InputLayer)         (None, 3072)              0         \n",
      "_________________________________________________________________\n",
      "hidden_layer1 (Dense)        (None, 512)               1573376   \n",
      "_________________________________________________________________\n",
      "hidden_layer2 (Dense)        (None, 256)               131328    \n",
      "_________________________________________________________________\n",
      "hidden_layer3 (Dense)        (None, 128)               32896     \n",
      "_________________________________________________________________\n",
      "dropout_2 (Dropout)          (None, 128)               0         \n",
      "_________________________________________________________________\n",
      "batch_normalization_1 (Batch (None, 128)               512       \n",
      "_________________________________________________________________\n",
      "output (Dense)               (None, 10)                1290      \n",
      "=================================================================\n",
      "Total params: 1,739,402\n",
      "Trainable params: 1,739,146\n",
      "Non-trainable params: 256\n",
      "_________________________________________________________________\n",
      "Train on 50000 samples, validate on 10000 samples\n",
      "Epoch 1/50\n",
      "50000/50000 [==============================] - 5s 98us/step - loss: 360.8691 - accuracy: 0.2145 - val_loss: 299.1725 - val_accuracy: 0.2044\n",
      "Epoch 2/50\n",
      "50000/50000 [==============================] - 4s 83us/step - loss: 237.3193 - accuracy: 0.3174 - val_loss: 177.6398 - val_accuracy: 0.2335\n",
      "Epoch 3/50\n",
      "50000/50000 [==============================] - 4s 83us/step - loss: 131.3991 - accuracy: 0.3613 - val_loss: 90.2057 - val_accuracy: 0.1672\n",
      "Epoch 4/50\n",
      "50000/50000 [==============================] - 4s 82us/step - loss: 62.5745 - accuracy: 0.3668 - val_loss: 41.1713 - val_accuracy: 0.1297\n",
      "Epoch 5/50\n",
      "50000/50000 [==============================] - 4s 82us/step - loss: 31.6782 - accuracy: 0.2903 - val_loss: 25.3215 - val_accuracy: 0.1423\n",
      "Epoch 6/50\n",
      "50000/50000 [==============================] - 4s 84us/step - loss: 20.9379 - accuracy: 0.2458 - val_loss: 17.3031 - val_accuracy: 0.1334\n",
      "Epoch 7/50\n",
      "50000/50000 [==============================] - 4s 83us/step - loss: 14.1303 - accuracy: 0.2509 - val_loss: 11.5196 - val_accuracy: 0.1710\n",
      "Epoch 8/50\n",
      "50000/50000 [==============================] - 4s 84us/step - loss: 9.1711 - accuracy: 0.2466 - val_loss: 7.4049 - val_accuracy: 0.2073\n",
      "Epoch 9/50\n",
      "50000/50000 [==============================] - 4s 82us/step - loss: 5.8864 - accuracy: 0.2437 - val_loss: 4.9504 - val_accuracy: 0.2261\n",
      "Epoch 10/50\n",
      "50000/50000 [==============================] - 4s 84us/step - loss: 4.1839 - accuracy: 0.2407 - val_loss: 3.8187 - val_accuracy: 0.2362\n",
      "Epoch 11/50\n",
      "50000/50000 [==============================] - 4s 85us/step - loss: 3.3221 - accuracy: 0.2409 - val_loss: 3.1124 - val_accuracy: 0.2441\n",
      "Epoch 12/50\n",
      "50000/50000 [==============================] - 4s 85us/step - loss: 2.7828 - accuracy: 0.2414 - val_loss: 2.6697 - val_accuracy: 0.2564\n",
      "Epoch 13/50\n",
      "50000/50000 [==============================] - 4s 85us/step - loss: 2.4833 - accuracy: 0.2372 - val_loss: 2.4543 - val_accuracy: 0.2592\n",
      "Epoch 14/50\n",
      "50000/50000 [==============================] - 4s 86us/step - loss: 2.3755 - accuracy: 0.2404 - val_loss: 2.3760 - val_accuracy: 0.2594\n",
      "Epoch 15/50\n",
      "50000/50000 [==============================] - 4s 85us/step - loss: 2.3376 - accuracy: 0.2437 - val_loss: 2.3434 - val_accuracy: 0.2503\n",
      "Epoch 16/50\n",
      "50000/50000 [==============================] - 4s 88us/step - loss: 2.3162 - accuracy: 0.2449 - val_loss: 2.3034 - val_accuracy: 0.2630\n",
      "Epoch 17/50\n",
      "50000/50000 [==============================] - 4s 85us/step - loss: 2.2994 - accuracy: 0.2478 - val_loss: 2.2796 - val_accuracy: 0.2614\n",
      "Epoch 18/50\n",
      "50000/50000 [==============================] - 4s 86us/step - loss: 2.2879 - accuracy: 0.2452 - val_loss: 2.2712 - val_accuracy: 0.2646\n",
      "Epoch 19/50\n",
      "50000/50000 [==============================] - 4s 86us/step - loss: 2.2792 - accuracy: 0.2493 - val_loss: 2.3660 - val_accuracy: 0.2232\n",
      "Epoch 20/50\n",
      "50000/50000 [==============================] - 4s 84us/step - loss: 2.2714 - accuracy: 0.2481 - val_loss: 2.3320 - val_accuracy: 0.2329\n",
      "Epoch 21/50\n",
      "50000/50000 [==============================] - 4s 85us/step - loss: 2.2680 - accuracy: 0.2472 - val_loss: 2.2472 - val_accuracy: 0.2656\n",
      "Epoch 22/50\n",
      "50000/50000 [==============================] - 4s 86us/step - loss: 2.2651 - accuracy: 0.2486 - val_loss: 2.2862 - val_accuracy: 0.2479\n",
      "Epoch 23/50\n",
      "50000/50000 [==============================] - 4s 87us/step - loss: 2.2566 - accuracy: 0.2492 - val_loss: 2.2370 - val_accuracy: 0.2658\n",
      "Epoch 24/50\n",
      "50000/50000 [==============================] - 4s 86us/step - loss: 2.2529 - accuracy: 0.2503 - val_loss: 2.2616 - val_accuracy: 0.2579\n",
      "Epoch 25/50\n",
      "50000/50000 [==============================] - 4s 87us/step - loss: 2.2523 - accuracy: 0.2471 - val_loss: 2.3168 - val_accuracy: 0.2384\n",
      "Epoch 26/50\n",
      "50000/50000 [==============================] - 4s 85us/step - loss: 2.2498 - accuracy: 0.2502 - val_loss: 2.3566 - val_accuracy: 0.2297\n",
      "Epoch 27/50\n",
      "50000/50000 [==============================] - 4s 86us/step - loss: 2.2424 - accuracy: 0.2512 - val_loss: 2.3200 - val_accuracy: 0.2262\n",
      "Epoch 28/50\n",
      "50000/50000 [==============================] - 4s 85us/step - loss: 2.2443 - accuracy: 0.2505 - val_loss: 2.4760 - val_accuracy: 0.1936\n",
      "Epoch 29/50\n",
      "50000/50000 [==============================] - 4s 84us/step - loss: 2.2458 - accuracy: 0.2500 - val_loss: 2.2125 - val_accuracy: 0.2719\n",
      "Epoch 30/50\n",
      "50000/50000 [==============================] - 4s 85us/step - loss: 2.2413 - accuracy: 0.2522 - val_loss: 2.2286 - val_accuracy: 0.2657\n",
      "Epoch 31/50\n",
      "50000/50000 [==============================] - 4s 83us/step - loss: 2.2329 - accuracy: 0.2549 - val_loss: 2.5907 - val_accuracy: 0.1977\n",
      "Epoch 32/50\n",
      "50000/50000 [==============================] - 4s 82us/step - loss: 2.2423 - accuracy: 0.2504 - val_loss: 2.3719 - val_accuracy: 0.2132\n",
      "Epoch 33/50\n",
      "50000/50000 [==============================] - 4s 85us/step - loss: 2.2402 - accuracy: 0.2523 - val_loss: 2.2692 - val_accuracy: 0.2514\n",
      "Epoch 34/50\n",
      "50000/50000 [==============================] - 4s 83us/step - loss: 2.2369 - accuracy: 0.2552 - val_loss: 2.2720 - val_accuracy: 0.2293\n",
      "Epoch 35/50\n",
      "50000/50000 [==============================] - 4s 83us/step - loss: 2.2349 - accuracy: 0.2516 - val_loss: 2.9814 - val_accuracy: 0.1664\n",
      "Epoch 36/50\n",
      "50000/50000 [==============================] - 4s 83us/step - loss: 2.2323 - accuracy: 0.2555 - val_loss: 2.2566 - val_accuracy: 0.2542\n",
      "Epoch 37/50\n",
      "50000/50000 [==============================] - 4s 84us/step - loss: 2.2292 - accuracy: 0.2566 - val_loss: 2.2052 - val_accuracy: 0.2745\n",
      "Epoch 38/50\n",
      "50000/50000 [==============================] - 4s 89us/step - loss: 2.2306 - accuracy: 0.2558 - val_loss: 2.4923 - val_accuracy: 0.2031\n",
      "Epoch 39/50\n",
      "50000/50000 [==============================] - 5s 94us/step - loss: 2.2327 - accuracy: 0.2514 - val_loss: 2.2287 - val_accuracy: 0.2658\n",
      "Epoch 40/50\n",
      "50000/50000 [==============================] - 4s 89us/step - loss: 2.2297 - accuracy: 0.2572 - val_loss: 2.1957 - val_accuracy: 0.2697\n",
      "Epoch 41/50\n",
      "50000/50000 [==============================] - 4s 83us/step - loss: 2.2263 - accuracy: 0.2545 - val_loss: 2.2148 - val_accuracy: 0.2607\n",
      "Epoch 42/50\n",
      "50000/50000 [==============================] - 4s 82us/step - loss: 2.2292 - accuracy: 0.2557 - val_loss: 2.2046 - val_accuracy: 0.2644\n",
      "Epoch 43/50\n",
      "50000/50000 [==============================] - 4s 82us/step - loss: 2.2258 - accuracy: 0.2566 - val_loss: 2.2376 - val_accuracy: 0.2529\n",
      "Epoch 44/50\n",
      "50000/50000 [==============================] - 4s 81us/step - loss: 2.2293 - accuracy: 0.2551 - val_loss: 2.2302 - val_accuracy: 0.2505\n",
      "Epoch 45/50\n",
      "50000/50000 [==============================] - 4s 82us/step - loss: 2.2232 - accuracy: 0.2554 - val_loss: 3.0529 - val_accuracy: 0.1570\n",
      "Epoch 46/50\n",
      "50000/50000 [==============================] - 4s 81us/step - loss: 2.2335 - accuracy: 0.2537 - val_loss: 2.2049 - val_accuracy: 0.2766\n",
      "Epoch 47/50\n"
     ]
    },
    {
     "name": "stdout",
     "output_type": "stream",
     "text": [
      "50000/50000 [==============================] - 4s 80us/step - loss: 2.2246 - accuracy: 0.2545 - val_loss: 2.3042 - val_accuracy: 0.2265\n",
      "Epoch 48/50\n",
      "50000/50000 [==============================] - 4s 81us/step - loss: 2.2267 - accuracy: 0.2547 - val_loss: 2.3361 - val_accuracy: 0.2275\n",
      "Epoch 49/50\n",
      "50000/50000 [==============================] - 4s 80us/step - loss: 2.2171 - accuracy: 0.2564 - val_loss: 2.2440 - val_accuracy: 0.2447\n",
      "Epoch 50/50\n",
      "50000/50000 [==============================] - 4s 80us/step - loss: 2.2237 - accuracy: 0.2567 - val_loss: 2.5835 - val_accuracy: 0.1908\n"
     ]
    }
   ],
   "source": [
    "model = build_mlp(input_shape=x_train.shape[1:], l1_ratio=L1_EXP, drp_ratio=DROP_RATIO)\n",
    "model.summary()\n",
    "optimizer = keras.optimizers.SGD(lr=LEARNING_RATE, nesterov=True, momentum=MOMENTUM)\n",
    "model.compile(loss=\"categorical_crossentropy\", metrics=[\"accuracy\"], optimizer=optimizer)\n",
    "\n",
    "model.fit(x_train, y_train, \n",
    "          epochs=EPOCHS, \n",
    "          batch_size=BATCH_SIZE, \n",
    "          validation_data=(x_test, y_test), \n",
    "          shuffle=True)\n",
    "\n",
    "# Collect results\n",
    "train_loss = model.history.history[\"loss\"]\n",
    "valid_loss = model.history.history[\"val_loss\"]\n",
    "train_acc = model.history.history[\"accuracy\"]\n",
    "valid_acc = model.history.history[\"val_accuracy\"]"
   ]
  },
  {
   "cell_type": "code",
   "execution_count": 44,
   "metadata": {},
   "outputs": [
    {
     "data": {
      "image/png": "[encoded data removed]",
      "text/plain": [
       "<Figure size 432x288 with 1 Axes>"
      ]
     },
     "metadata": {
      "needs_background": "light"
     },
     "output_type": "display_data"
    },
    {
     "data": {
      "image/png": "[encoded data removed]",
      "text/plain": [
       "<Figure size 432x288 with 1 Axes>"
      ]
     },
     "metadata": {
      "needs_background": "light"
     },
     "output_type": "display_data"
    }
   ],
   "source": [
    "import matplotlib.pyplot as plt\n",
    "%matplotlib inline\n",
    "\n",
    "plt.plot(range(len(train_loss)), train_loss, label=\"train loss\")\n",
    "plt.plot(range(len(valid_loss)), valid_loss, label=\"valid loss\")\n",
    "plt.legend()\n",
    "plt.title(\"Loss\")\n",
    "plt.show()\n",
    "\n",
    "plt.plot(range(len(train_acc)), train_acc, label=\"train accuracy\")\n",
    "plt.plot(range(len(valid_acc)), valid_acc, label=\"valid accuracy\")\n",
    "plt.legend()\n",
    "plt.title(\"Accuracy\")\n",
    "plt.show()"
   ]
  }
 ],
 "metadata": {
  "kernelspec": {
   "display_name": "Python 3",
   "language": "python",
   "name": "python3"
  },
  "language_info": {
   "codemirror_mode": {
    "name": "ipython",
    "version": 3
   },
   "file_extension": ".py",
   "mimetype": "text/x-python",
   "name": "python",
   "nbconvert_exporter": "python",
   "pygments_lexer": "ipython3",
   "version": "3.7.3"
  }
 },
 "nbformat": 4,
 "nbformat_minor": 2
}

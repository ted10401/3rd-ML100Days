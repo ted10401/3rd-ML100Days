{
 "cells": [
  {
   "cell_type": "markdown",
   "metadata": {},
   "source": [
    "## [作業目標]\n",
    "了解機器學習適合應用的領域與範疇。"
   ]
  },
  {
   "cell_type": "markdown",
   "metadata": {},
   "source": [
    "## [作業重點]\n",
    "透過瞭解機器學習的運作方式，找出非常適用機器學習應用的領域及其原因"
   ]
  },
  {
   "cell_type": "markdown",
   "metadata": {},
   "source": [
    "## 作業\n",
    "請找出一個你認為機器學習可以發光發熱的領域並闡述原因? "
   ]
  },
  {
   "cell_type": "markdown",
   "metadata": {},
   "source": [
    "增加曝光率及能見度\n",
    "  \n",
    "許多網路影音平台不斷的出現\n",
    "但可以發現少數的影音創作者能夠吸引絕大多數的點閱率\n",
    "使得剛開始踏入影音創作的創作者們\n",
    "會因為曝光率不足或題材不吸引人等原因\n",
    "導致沒辦法有所突破\n",
    "就這樣沈沒在創作大海中\n",
    "  \n",
    "使用網路爬蟲搜集網路上的各種資料\n",
    "在利用機器學習分類資料並從中分析出有機會打中觀眾的病毒式題材\n",
    "甚至能夠產生該題材的初步創作腳本\n",
    "降低創作者初期進入該領域的低迷期\n",
    "增加初期的曝光率及能見度"
   ]
  },
  {
   "cell_type": "code",
   "execution_count": null,
   "metadata": {},
   "outputs": [],
   "source": []
  }
 ],
 "metadata": {
  "kernelspec": {
   "display_name": "Python 3",
   "language": "python",
   "name": "python3"
  },
  "language_info": {
   "codemirror_mode": {
    "name": "ipython",
    "version": 3
   },
   "file_extension": ".py",
   "mimetype": "text/x-python",
   "name": "python",
   "nbconvert_exporter": "python",
   "pygments_lexer": "ipython3",
   "version": "3.7.3"
  }
 },
 "nbformat": 4,
 "nbformat_minor": 2
}

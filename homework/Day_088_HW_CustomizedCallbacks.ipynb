{
 "cells": [
  {
   "cell_type": "markdown",
   "metadata": {},
   "source": [
    "## Work\n",
    "1. 請嘗試寫一個 callback 用來記錄各類別在訓練過程中，對驗證集的 True Positive 與 True Negative"
   ]
  },
  {
   "cell_type": "code",
   "execution_count": 9,
   "metadata": {},
   "outputs": [],
   "source": [
    "import os\n",
    "import keras\n",
    "\n",
    "# Disable GPU\n",
    "os.environ[\"CUDA_VISIBLE_DEVICES\"] = \"\""
   ]
  },
  {
   "cell_type": "code",
   "execution_count": 10,
   "metadata": {},
   "outputs": [],
   "source": [
    "train, test = keras.datasets.cifar10.load_data()"
   ]
  },
  {
   "cell_type": "code",
   "execution_count": 11,
   "metadata": {},
   "outputs": [],
   "source": [
    "## 資料前處理\n",
    "def preproc_x(x, flatten=True):\n",
    "    x = x / 255.\n",
    "    if flatten:\n",
    "        x = x.reshape((len(x), -1))\n",
    "    return x\n",
    "\n",
    "def preproc_y(y, num_classes=10):\n",
    "    if y.shape[-1] == 1:\n",
    "        y = keras.utils.to_categorical(y, num_classes)\n",
    "    return y    "
   ]
  },
  {
   "cell_type": "code",
   "execution_count": 12,
   "metadata": {},
   "outputs": [],
   "source": [
    "x_train, y_train = train\n",
    "x_test, y_test = test\n",
    "\n",
    "# Preproc the inputs\n",
    "x_train = preproc_x(x_train)\n",
    "x_test = preproc_x(x_test)\n",
    "\n",
    "# Preprc the outputs\n",
    "y_train = preproc_y(y_train)\n",
    "y_test = preproc_y(y_test)"
   ]
  },
  {
   "cell_type": "code",
   "execution_count": 13,
   "metadata": {},
   "outputs": [],
   "source": [
    "from keras.layers import BatchNormalization\n",
    "\n",
    "\"\"\"\n",
    "建立神經網路，並加入 BN layer\n",
    "\"\"\"\n",
    "def build_mlp(input_shape, output_units=10, num_neurons=[512, 256, 128]):\n",
    "    input_layer = keras.layers.Input(input_shape)\n",
    "    \n",
    "    for i, n_units in enumerate(num_neurons):\n",
    "        if i == 0:\n",
    "            x = keras.layers.Dense(units=n_units, \n",
    "                                   activation=\"relu\", \n",
    "                                   name=\"hidden_layer\"+str(i+1))(input_layer)\n",
    "            x = BatchNormalization()(x)\n",
    "        else:\n",
    "            x = keras.layers.Dense(units=n_units, \n",
    "                                   activation=\"relu\", \n",
    "                                   name=\"hidden_layer\"+str(i+1))(x)\n",
    "            x = BatchNormalization()(x)\n",
    "    \n",
    "    out = keras.layers.Dense(units=output_units, activation=\"softmax\", name=\"output\")(x)\n",
    "    \n",
    "    model = keras.models.Model(inputs=[input_layer], outputs=[out])\n",
    "    return model"
   ]
  },
  {
   "cell_type": "code",
   "execution_count": 14,
   "metadata": {},
   "outputs": [],
   "source": [
    "## 超參數設定\n",
    "LEARNING_RATE = 1e-3\n",
    "EPOCHS = 25\n",
    "BATCH_SIZE = 1024\n",
    "MOMENTUM = 0.95"
   ]
  },
  {
   "cell_type": "code",
   "execution_count": 15,
   "metadata": {},
   "outputs": [],
   "source": [
    "# 載入 Callbacks\n",
    "from keras.callbacks import Callback\n",
    "import numpy as np\n",
    "\n",
    "# Record_fp_tp\n",
    "class Record_tp_tn(Callback):\n",
    "    \"\"\"Code Here\n",
    "    撰寫一個紀錄 ture positive 與 true negative 數量的 callbacks    \n",
    "    \"\"\"\n",
    "    def on_train_begin(self, epoch, logs = {}):\n",
    "        logs = logs or {}\n",
    "        # 驗證集的 True Positive 與 True Negative\n",
    "        record_items = [\"val_tp\", \"val_tn\", \"val_fp\", \"val_fn\"]\n",
    "        for i in record_items:\n",
    "            if i not in self.params['metrics']:\n",
    "                self.params['metrics'].append(i)\n",
    "    \n",
    "    def on_epoch_end(self, epoch, logs = {}, thres=0.5):\n",
    "        logs = logs or {}\n",
    "        # Define y_true, y_pred\n",
    "        y_true = self.validation_data[1].argmax(axis = 1)\n",
    "        y_pred = self.model.predict(self.validation_data[0])\n",
    "        y_pred = (y_pred[:, 1] >= thres) * 1\n",
    "        # Calculate True Positive, True Negative\n",
    "        logs[\"val_tp\"] = np.sum(np.logical_and(y_pred == 1, y_true == 1))\n",
    "        logs[\"val_tn\"] = np.sum(np.logical_and(y_pred == 0, y_true == 0))\n",
    "        \n",
    "rec_tptn = Record_tp_tn()"
   ]
  },
  {
   "cell_type": "code",
   "execution_count": 16,
   "metadata": {
    "scrolled": true
   },
   "outputs": [
    {
     "name": "stdout",
     "output_type": "stream",
     "text": [
      "Model: \"model_2\"\n",
      "_________________________________________________________________\n",
      "Layer (type)                 Output Shape              Param #   \n",
      "=================================================================\n",
      "input_2 (InputLayer)         (None, 3072)              0         \n",
      "_________________________________________________________________\n",
      "hidden_layer1 (Dense)        (None, 512)               1573376   \n",
      "_________________________________________________________________\n",
      "batch_normalization_4 (Batch (None, 512)               2048      \n",
      "_________________________________________________________________\n",
      "hidden_layer2 (Dense)        (None, 256)               131328    \n",
      "_________________________________________________________________\n",
      "batch_normalization_5 (Batch (None, 256)               1024      \n",
      "_________________________________________________________________\n",
      "hidden_layer3 (Dense)        (None, 128)               32896     \n",
      "_________________________________________________________________\n",
      "batch_normalization_6 (Batch (None, 128)               512       \n",
      "_________________________________________________________________\n",
      "output (Dense)               (None, 10)                1290      \n",
      "=================================================================\n",
      "Total params: 1,742,474\n",
      "Trainable params: 1,740,682\n",
      "Non-trainable params: 1,792\n",
      "_________________________________________________________________\n",
      "Train on 50000 samples, validate on 10000 samples\n",
      "Epoch 1/25\n",
      "50000/50000 [==============================] - 6s 115us/step - loss: 2.2165 - accuracy: 0.2676 - val_loss: 2.1604 - val_accuracy: 0.1760\n",
      "Epoch 2/25\n",
      "50000/50000 [==============================] - 5s 99us/step - loss: 1.7273 - accuracy: 0.3979 - val_loss: 1.9627 - val_accuracy: 0.3138\n",
      "Epoch 3/25\n",
      "50000/50000 [==============================] - 5s 108us/step - loss: 1.6015 - accuracy: 0.4412 - val_loss: 1.8242 - val_accuracy: 0.3658\n",
      "Epoch 4/25\n",
      "50000/50000 [==============================] - 7s 131us/step - loss: 1.5255 - accuracy: 0.4668 - val_loss: 1.7223 - val_accuracy: 0.4034\n",
      "Epoch 5/25\n",
      "50000/50000 [==============================] - 7s 134us/step - loss: 1.4703 - accuracy: 0.4867 - val_loss: 1.6274 - val_accuracy: 0.4332\n",
      "Epoch 6/25\n",
      "50000/50000 [==============================] - 6s 124us/step - loss: 1.4263 - accuracy: 0.5034 - val_loss: 1.5907 - val_accuracy: 0.4415\n",
      "Epoch 7/25\n",
      "50000/50000 [==============================] - 5s 103us/step - loss: 1.3883 - accuracy: 0.5158 - val_loss: 1.5447 - val_accuracy: 0.4530\n",
      "Epoch 8/25\n",
      "50000/50000 [==============================] - 5s 102us/step - loss: 1.3529 - accuracy: 0.5300 - val_loss: 1.5169 - val_accuracy: 0.4666\n",
      "Epoch 9/25\n",
      "50000/50000 [==============================] - 5s 102us/step - loss: 1.3189 - accuracy: 0.5417 - val_loss: 1.5033 - val_accuracy: 0.4647\n",
      "Epoch 10/25\n",
      "50000/50000 [==============================] - 5s 105us/step - loss: 1.2889 - accuracy: 0.5520 - val_loss: 1.4930 - val_accuracy: 0.4738\n",
      "Epoch 11/25\n",
      "50000/50000 [==============================] - 5s 103us/step - loss: 1.2607 - accuracy: 0.5638 - val_loss: 1.4929 - val_accuracy: 0.4769\n",
      "Epoch 12/25\n",
      "50000/50000 [==============================] - 5s 104us/step - loss: 1.2354 - accuracy: 0.5725 - val_loss: 1.4839 - val_accuracy: 0.4790\n",
      "Epoch 13/25\n",
      "50000/50000 [==============================] - 5s 100us/step - loss: 1.2095 - accuracy: 0.5827 - val_loss: 1.4675 - val_accuracy: 0.4824\n",
      "Epoch 14/25\n",
      "50000/50000 [==============================] - 5s 105us/step - loss: 1.1855 - accuracy: 0.5916 - val_loss: 1.4685 - val_accuracy: 0.4812\n",
      "Epoch 15/25\n",
      "50000/50000 [==============================] - 5s 105us/step - loss: 1.1613 - accuracy: 0.6010 - val_loss: 1.4606 - val_accuracy: 0.4893\n",
      "Epoch 16/25\n",
      "50000/50000 [==============================] - 5s 100us/step - loss: 1.1380 - accuracy: 0.6097 - val_loss: 1.4629 - val_accuracy: 0.4839\n",
      "Epoch 17/25\n",
      "50000/50000 [==============================] - 5s 101us/step - loss: 1.1148 - accuracy: 0.6197 - val_loss: 1.4639 - val_accuracy: 0.4865\n",
      "Epoch 18/25\n",
      "50000/50000 [==============================] - 5s 100us/step - loss: 1.0917 - accuracy: 0.6290 - val_loss: 1.4560 - val_accuracy: 0.4918\n",
      "Epoch 19/25\n",
      "50000/50000 [==============================] - 6s 113us/step - loss: 1.0684 - accuracy: 0.6358 - val_loss: 1.4708 - val_accuracy: 0.4915\n",
      "Epoch 20/25\n",
      "50000/50000 [==============================] - 7s 133us/step - loss: 1.0501 - accuracy: 0.6416 - val_loss: 1.4599 - val_accuracy: 0.4910\n",
      "Epoch 21/25\n",
      "50000/50000 [==============================] - 5s 107us/step - loss: 1.0270 - accuracy: 0.6506 - val_loss: 1.4516 - val_accuracy: 0.4963\n",
      "Epoch 22/25\n",
      "50000/50000 [==============================] - 6s 117us/step - loss: 1.0067 - accuracy: 0.6590 - val_loss: 1.4552 - val_accuracy: 0.4943\n",
      "Epoch 23/25\n",
      "50000/50000 [==============================] - 5s 102us/step - loss: 0.9855 - accuracy: 0.6675 - val_loss: 1.4582 - val_accuracy: 0.4951\n",
      "Epoch 24/25\n",
      "50000/50000 [==============================] - 5s 98us/step - loss: 0.9639 - accuracy: 0.6764 - val_loss: 1.4598 - val_accuracy: 0.4966\n",
      "Epoch 25/25\n",
      "50000/50000 [==============================] - 5s 100us/step - loss: 0.9444 - accuracy: 0.6832 - val_loss: 1.4656 - val_accuracy: 0.4924\n"
     ]
    }
   ],
   "source": [
    "model = build_mlp(input_shape=x_train.shape[1:])\n",
    "model.summary()\n",
    "optimizer = keras.optimizers.SGD(lr=LEARNING_RATE, nesterov=True, momentum=MOMENTUM)\n",
    "model.compile(loss=\"categorical_crossentropy\", metrics=[\"accuracy\"], optimizer=optimizer)\n",
    "\n",
    "\"\"\"Code Here\n",
    "將 callbacks 放入模型訓練流程中\n",
    "\"\"\"\n",
    "model.fit(x_train, y_train, \n",
    "          epochs=EPOCHS, \n",
    "          batch_size=BATCH_SIZE, \n",
    "          validation_data=(x_test, y_test), \n",
    "          shuffle=True,\n",
    "          callbacks=[rec_tptn]\n",
    "         )\n",
    "\n",
    "# Collect results\n",
    "train_loss = model.history.history[\"loss\"]\n",
    "valid_loss = model.history.history[\"val_loss\"]\n",
    "train_acc = model.history.history[\"accuracy\"]\n",
    "valid_acc = model.history.history[\"val_accuracy\"]\n",
    "\n",
    "\"\"\"Code Here\n",
    "將 tp/tn 從訓練完的模型中取出\n",
    "\"\"\"\n",
    "valid_tp = model.history.history['val_tp']\n",
    "valid_tn = model.history.history['val_tn']"
   ]
  },
  {
   "cell_type": "code",
   "execution_count": 17,
   "metadata": {},
   "outputs": [
    {
     "data": {
      "image/png": "[encoded data removed]",
      "text/plain": [
       "<Figure size 432x288 with 1 Axes>"
      ]
     },
     "metadata": {
      "needs_background": "light"
     },
     "output_type": "display_data"
    },
    {
     "data": {
      "image/png": "[encoded data removed]",
      "text/plain": [
       "<Figure size 432x288 with 1 Axes>"
      ]
     },
     "metadata": {
      "needs_background": "light"
     },
     "output_type": "display_data"
    },
    {
     "data": {
      "image/png": "[encoded data removed]",
      "text/plain": [
       "<Figure size 432x288 with 1 Axes>"
      ]
     },
     "metadata": {
      "needs_background": "light"
     },
     "output_type": "display_data"
    }
   ],
   "source": [
    "import matplotlib.pyplot as plt\n",
    "%matplotlib inline\n",
    "\n",
    "plt.plot(range(len(train_loss)), train_loss, label=\"train loss\")\n",
    "plt.plot(range(len(valid_loss)), valid_loss, label=\"valid loss\")\n",
    "plt.legend()\n",
    "plt.title(\"Loss\")\n",
    "plt.show()\n",
    "\n",
    "plt.plot(range(len(train_acc)), train_acc, label=\"train accuracy\")\n",
    "plt.plot(range(len(valid_acc)), valid_acc, label=\"valid accuracy\")\n",
    "plt.legend()\n",
    "plt.title(\"Accuracy\")\n",
    "plt.show()\n",
    "\n",
    "plt.plot(range(len(valid_tp)), valid_tp, label=\"valid tp\", color=\"navy\")\n",
    "plt.plot(range(len(valid_tn)), valid_tn, label=\"valid tn\", color=\"red\")\n",
    "plt.legend()\n",
    "plt.title(\"True positives and True Negatives\")\n",
    "plt.show()\n"
   ]
  }
 ],
 "metadata": {
  "kernelspec": {
   "display_name": "Python 3",
   "language": "python",
   "name": "python3"
  },
  "language_info": {
   "codemirror_mode": {
    "name": "ipython",
    "version": 3
   },
   "file_extension": ".py",
   "mimetype": "text/x-python",
   "name": "python",
   "nbconvert_exporter": "python",
   "pygments_lexer": "ipython3",
   "version": "3.7.3"
  }
 },
 "nbformat": 4,
 "nbformat_minor": 2
}

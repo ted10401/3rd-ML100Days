{
 "cells": [
  {
   "cell_type": "markdown",
   "metadata": {},
   "source": [
    "# 作業\n",
    "* 在精簡深度學習的方式上 : 卷積類神經 (CNN) 採用像素遠近，而遞歸類神經 (RNN) 採用著則是時間遠近\n",
    "* 那麼，既然有著類似的設計精神，兩者是否有可能互換應用呢?"
   ]
  },
  {
   "cell_type": "markdown",
   "metadata": {
    "collapsed": true
   },
   "source": [
    "# CNN 與 RNN 相同點\n",
    "傳統神經網路的擴展  \n",
    "前向計算產生結果，反向計算模型更新  \n",
    "每層神經網路橫向可以多個神經元共存，縱向可以有多層神經網路連接  \n",
    "  \n",
    "  \n",
    "# CNN 與 RNN 不同點\n",
    "CNN 空間擴展，神經元與特徵卷積；RNN 時間擴展，神經元與多個時間輸出計算  \n",
    "RNN 可以用於描述時間上連續狀態的輸出，有記憶功能，CNN 用於靜態輸出  \n",
    "CNN 高級100+深度，RNN 深度有限  \n",
    "  \n",
    "  \n",
    "# CNN + RNN組合方式\n",
    "CNN 特徵提取，用於 RNN 語句生成圖片標註  \n",
    "RNN 特徵提取用於 CNN 內容分類視頻分類  \n",
    "CNN 特徵提取用於對話問答圖片問答  \n",
    "  \n",
    "  \n",
    "# 資料來源\n",
    "[【深度學習篇】---CNN和RNN結合與對比，實例講解](https://www.itread01.com/content/1536001138.html)"
   ]
  },
  {
   "cell_type": "code",
   "execution_count": null,
   "metadata": {},
   "outputs": [],
   "source": []
  }
 ],
 "metadata": {
  "kernelspec": {
   "display_name": "Python 3",
   "language": "python",
   "name": "python3"
  },
  "language_info": {
   "codemirror_mode": {
    "name": "ipython",
    "version": 3
   },
   "file_extension": ".py",
   "mimetype": "text/x-python",
   "name": "python",
   "nbconvert_exporter": "python",
   "pygments_lexer": "ipython3",
   "version": "3.7.3"
  }
 },
 "nbformat": 4,
 "nbformat_minor": 2
}

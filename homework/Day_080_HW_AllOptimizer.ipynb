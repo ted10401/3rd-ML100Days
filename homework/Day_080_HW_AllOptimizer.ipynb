{
 "cells": [
  {
   "cell_type": "markdown",
   "metadata": {},
   "source": [
    "# 請結合前面的知識與程式碼，比較不同的 optimizer 與 learning rate 組合對訓練的結果與影響\n",
    "### 常見的 optimizer 包含\n",
    "* SGD\n",
    "* RMSprop\n",
    "* AdaGrad\n",
    "* Adam"
   ]
  },
  {
   "cell_type": "code",
   "execution_count": 12,
   "metadata": {},
   "outputs": [],
   "source": [
    "import os\n",
    "import keras\n",
    "\n",
    "# Disable GPU\n",
    "os.environ[\"CUDA_VISIBLE_DEVICES\"] = \"\""
   ]
  },
  {
   "cell_type": "code",
   "execution_count": 13,
   "metadata": {},
   "outputs": [],
   "source": [
    "train, test = keras.datasets.cifar10.load_data()"
   ]
  },
  {
   "cell_type": "code",
   "execution_count": 14,
   "metadata": {},
   "outputs": [],
   "source": [
    "## 資料前處理\n",
    "def preproc_x(x, flatten=True):\n",
    "    x = x / 255.\n",
    "    if flatten:\n",
    "        x = x.reshape((len(x), -1))\n",
    "    return x\n",
    "\n",
    "def preproc_y(y, num_classes=10):\n",
    "    if y.shape[-1] == 1:\n",
    "        y = keras.utils.to_categorical(y, num_classes)\n",
    "    return y    "
   ]
  },
  {
   "cell_type": "code",
   "execution_count": 15,
   "metadata": {},
   "outputs": [],
   "source": [
    "x_train, y_train = train\n",
    "x_test, y_test = test\n",
    "\n",
    "# Preproc the inputs\n",
    "x_train = preproc_x(x_train)\n",
    "x_test = preproc_x(x_test)\n",
    "\n",
    "# Preprc the outputs\n",
    "y_train = preproc_y(y_train)\n",
    "y_test = preproc_y(y_test)"
   ]
  },
  {
   "cell_type": "code",
   "execution_count": 16,
   "metadata": {},
   "outputs": [],
   "source": [
    "def build_mlp(input_shape, output_units=10, num_neurons=[512, 256, 128]):\n",
    "    input_layer = keras.layers.Input(input_shape)\n",
    "    \n",
    "    for i, n_units in enumerate(num_neurons):\n",
    "        if i == 0:\n",
    "            x = keras.layers.Dense(units=n_units, activation=\"relu\", name=\"hidden_layer\"+str(i+1))(input_layer)\n",
    "        else:\n",
    "            x = keras.layers.Dense(units=n_units, activation=\"relu\", name=\"hidden_layer\"+str(i+1))(x)\n",
    "    \n",
    "    out = keras.layers.Dense(units=output_units, activation=\"softmax\", name=\"output\")(x)\n",
    "    \n",
    "    model = keras.models.Model(inputs=[input_layer], outputs=[out])\n",
    "    return model"
   ]
  },
  {
   "cell_type": "code",
   "execution_count": 17,
   "metadata": {},
   "outputs": [],
   "source": [
    "## 超參數設定\n",
    "LEARNING_RATE = 0.01\n",
    "EPOCHS = 50\n",
    "BATCH_SIZE = 256\n",
    "MOMENTUM = 0.95"
   ]
  },
  {
   "cell_type": "code",
   "execution_count": 18,
   "metadata": {
    "scrolled": true
   },
   "outputs": [
    {
     "name": "stdout",
     "output_type": "stream",
     "text": [
      "Model: \"model_1\"\n",
      "_________________________________________________________________\n",
      "Layer (type)                 Output Shape              Param #   \n",
      "=================================================================\n",
      "input_1 (InputLayer)         (None, 3072)              0         \n",
      "_________________________________________________________________\n",
      "hidden_layer1 (Dense)        (None, 512)               1573376   \n",
      "_________________________________________________________________\n",
      "hidden_layer2 (Dense)        (None, 256)               131328    \n",
      "_________________________________________________________________\n",
      "hidden_layer3 (Dense)        (None, 128)               32896     \n",
      "_________________________________________________________________\n",
      "output (Dense)               (None, 10)                1290      \n",
      "=================================================================\n",
      "Total params: 1,738,890\n",
      "Trainable params: 1,738,890\n",
      "Non-trainable params: 0\n",
      "_________________________________________________________________\n",
      "Train on 50000 samples, validate on 10000 samples\n",
      "Epoch 1/50\n",
      "50000/50000 [==============================] - 5s 105us/step - loss: 1.8293 - accuracy: 0.3447 - val_loss: 1.7086 - val_accuracy: 0.3921\n",
      "Epoch 2/50\n",
      "50000/50000 [==============================] - 5s 101us/step - loss: 1.5991 - accuracy: 0.4333 - val_loss: 1.6004 - val_accuracy: 0.4363\n",
      "Epoch 3/50\n",
      "50000/50000 [==============================] - 5s 103us/step - loss: 1.5067 - accuracy: 0.4630 - val_loss: 1.5195 - val_accuracy: 0.4573\n",
      "Epoch 4/50\n",
      "50000/50000 [==============================] - 6s 124us/step - loss: 1.4470 - accuracy: 0.4834 - val_loss: 1.4578 - val_accuracy: 0.4747\n",
      "Epoch 5/50\n",
      "50000/50000 [==============================] - 5s 97us/step - loss: 1.4043 - accuracy: 0.5007 - val_loss: 1.4495 - val_accuracy: 0.4791\n",
      "Epoch 6/50\n",
      "50000/50000 [==============================] - 6s 111us/step - loss: 1.3627 - accuracy: 0.5159 - val_loss: 1.4848 - val_accuracy: 0.4731\n",
      "Epoch 7/50\n",
      "50000/50000 [==============================] - 7s 133us/step - loss: 1.3314 - accuracy: 0.5255 - val_loss: 1.5268 - val_accuracy: 0.4680\n",
      "Epoch 8/50\n",
      "50000/50000 [==============================] - 5s 106us/step - loss: 1.2892 - accuracy: 0.5423 - val_loss: 1.3786 - val_accuracy: 0.5093\n",
      "Epoch 9/50\n",
      "50000/50000 [==============================] - 5s 108us/step - loss: 1.2564 - accuracy: 0.5554 - val_loss: 1.4086 - val_accuracy: 0.5002\n",
      "Epoch 10/50\n",
      "50000/50000 [==============================] - 5s 104us/step - loss: 1.2326 - accuracy: 0.5608 - val_loss: 1.3746 - val_accuracy: 0.5155\n",
      "Epoch 11/50\n",
      "50000/50000 [==============================] - 6s 116us/step - loss: 1.1994 - accuracy: 0.5731 - val_loss: 1.4094 - val_accuracy: 0.5081\n",
      "Epoch 12/50\n",
      "50000/50000 [==============================] - 6s 114us/step - loss: 1.1724 - accuracy: 0.5819 - val_loss: 1.4141 - val_accuracy: 0.5035\n",
      "Epoch 13/50\n",
      "50000/50000 [==============================] - 6s 112us/step - loss: 1.1478 - accuracy: 0.5929 - val_loss: 1.4273 - val_accuracy: 0.4929\n",
      "Epoch 14/50\n",
      "50000/50000 [==============================] - 6s 117us/step - loss: 1.1219 - accuracy: 0.6005 - val_loss: 1.3552 - val_accuracy: 0.5339\n",
      "Epoch 15/50\n",
      "50000/50000 [==============================] - 6s 110us/step - loss: 1.0923 - accuracy: 0.6127 - val_loss: 1.4148 - val_accuracy: 0.5091\n",
      "Epoch 16/50\n",
      "50000/50000 [==============================] - 5s 107us/step - loss: 1.0653 - accuracy: 0.6226 - val_loss: 1.3802 - val_accuracy: 0.5229\n",
      "Epoch 17/50\n",
      "50000/50000 [==============================] - 6s 114us/step - loss: 1.0404 - accuracy: 0.6300 - val_loss: 1.3594 - val_accuracy: 0.5293\n",
      "Epoch 18/50\n",
      "50000/50000 [==============================] - 6s 120us/step - loss: 1.0131 - accuracy: 0.6378 - val_loss: 1.4133 - val_accuracy: 0.5176\n",
      "Epoch 19/50\n",
      "50000/50000 [==============================] - 6s 115us/step - loss: 0.9884 - accuracy: 0.6487 - val_loss: 1.5269 - val_accuracy: 0.5053\n",
      "Epoch 20/50\n",
      "50000/50000 [==============================] - 6s 121us/step - loss: 0.9654 - accuracy: 0.6575 - val_loss: 1.3832 - val_accuracy: 0.5397\n",
      "Epoch 21/50\n",
      "50000/50000 [==============================] - 5s 108us/step - loss: 0.9402 - accuracy: 0.6648 - val_loss: 1.4157 - val_accuracy: 0.5193\n",
      "Epoch 22/50\n",
      "50000/50000 [==============================] - 6s 123us/step - loss: 0.9131 - accuracy: 0.6760 - val_loss: 1.3840 - val_accuracy: 0.5406\n",
      "Epoch 23/50\n",
      "50000/50000 [==============================] - 5s 110us/step - loss: 0.8826 - accuracy: 0.6859 - val_loss: 1.4807 - val_accuracy: 0.5179\n",
      "Epoch 24/50\n",
      "50000/50000 [==============================] - 6s 111us/step - loss: 0.8650 - accuracy: 0.6914 - val_loss: 1.5337 - val_accuracy: 0.5183\n",
      "Epoch 25/50\n",
      "50000/50000 [==============================] - 5s 108us/step - loss: 0.8422 - accuracy: 0.6979 - val_loss: 1.4490 - val_accuracy: 0.5365\n",
      "Epoch 26/50\n",
      "50000/50000 [==============================] - 6s 117us/step - loss: 0.8208 - accuracy: 0.7053 - val_loss: 1.4528 - val_accuracy: 0.5363\n",
      "Epoch 27/50\n",
      "50000/50000 [==============================] - 5s 106us/step - loss: 0.7878 - accuracy: 0.7200 - val_loss: 1.5081 - val_accuracy: 0.5322\n",
      "Epoch 28/50\n",
      "50000/50000 [==============================] - 5s 109us/step - loss: 0.7686 - accuracy: 0.7251 - val_loss: 1.5238 - val_accuracy: 0.5352\n",
      "Epoch 29/50\n",
      "50000/50000 [==============================] - 5s 99us/step - loss: 0.7411 - accuracy: 0.7352 - val_loss: 1.5565 - val_accuracy: 0.5248\n",
      "Epoch 30/50\n",
      "50000/50000 [==============================] - 5s 101us/step - loss: 0.7293 - accuracy: 0.7373 - val_loss: 1.5978 - val_accuracy: 0.5261\n",
      "Epoch 31/50\n",
      "50000/50000 [==============================] - 5s 108us/step - loss: 0.7024 - accuracy: 0.7491 - val_loss: 1.6442 - val_accuracy: 0.5256\n",
      "Epoch 32/50\n",
      "50000/50000 [==============================] - 5s 106us/step - loss: 0.6782 - accuracy: 0.7577 - val_loss: 1.6097 - val_accuracy: 0.5236\n",
      "Epoch 33/50\n",
      "50000/50000 [==============================] - 5s 103us/step - loss: 0.6623 - accuracy: 0.7622 - val_loss: 1.6025 - val_accuracy: 0.5277\n",
      "Epoch 34/50\n",
      "50000/50000 [==============================] - 5s 93us/step - loss: 0.6358 - accuracy: 0.7729 - val_loss: 1.6586 - val_accuracy: 0.5318\n",
      "Epoch 35/50\n",
      "50000/50000 [==============================] - 5s 99us/step - loss: 0.6141 - accuracy: 0.7788 - val_loss: 1.7310 - val_accuracy: 0.5257\n",
      "Epoch 36/50\n",
      "50000/50000 [==============================] - 6s 113us/step - loss: 0.5914 - accuracy: 0.7869 - val_loss: 1.7589 - val_accuracy: 0.5256\n",
      "Epoch 37/50\n",
      "50000/50000 [==============================] - 5s 100us/step - loss: 0.5707 - accuracy: 0.7960 - val_loss: 1.7537 - val_accuracy: 0.5285\n",
      "Epoch 38/50\n",
      "50000/50000 [==============================] - 5s 95us/step - loss: 0.5601 - accuracy: 0.7993 - val_loss: 1.7661 - val_accuracy: 0.5340\n",
      "Epoch 39/50\n",
      "50000/50000 [==============================] - 5s 106us/step - loss: 0.5237 - accuracy: 0.8146 - val_loss: 1.9037 - val_accuracy: 0.5198\n",
      "Epoch 40/50\n",
      "50000/50000 [==============================] - 5s 105us/step - loss: 0.5194 - accuracy: 0.8142 - val_loss: 1.8445 - val_accuracy: 0.5282\n",
      "Epoch 41/50\n",
      "50000/50000 [==============================] - 5s 107us/step - loss: 0.4970 - accuracy: 0.8214 - val_loss: 1.9033 - val_accuracy: 0.5284\n",
      "Epoch 42/50\n",
      "50000/50000 [==============================] - 5s 106us/step - loss: 0.4760 - accuracy: 0.8276 - val_loss: 2.0467 - val_accuracy: 0.5163\n",
      "Epoch 43/50\n",
      "50000/50000 [==============================] - 5s 103us/step - loss: 0.4667 - accuracy: 0.8319 - val_loss: 1.9777 - val_accuracy: 0.5292\n",
      "Epoch 44/50\n",
      "50000/50000 [==============================] - 5s 102us/step - loss: 0.4396 - accuracy: 0.8435 - val_loss: 2.0433 - val_accuracy: 0.5257\n",
      "Epoch 45/50\n",
      "50000/50000 [==============================] - 5s 102us/step - loss: 0.4440 - accuracy: 0.8410 - val_loss: 2.1040 - val_accuracy: 0.5211\n",
      "Epoch 46/50\n",
      "50000/50000 [==============================] - 5s 105us/step - loss: 0.4181 - accuracy: 0.8492 - val_loss: 2.1506 - val_accuracy: 0.5208\n",
      "Epoch 47/50\n",
      "50000/50000 [==============================] - 5s 103us/step - loss: 0.4040 - accuracy: 0.8552 - val_loss: 2.2022 - val_accuracy: 0.5142\n",
      "Epoch 48/50\n",
      "50000/50000 [==============================] - 6s 111us/step - loss: 0.3929 - accuracy: 0.8588 - val_loss: 2.3614 - val_accuracy: 0.5224\n"
     ]
    },
    {
     "name": "stdout",
     "output_type": "stream",
     "text": [
      "Epoch 49/50\n",
      "50000/50000 [==============================] - 5s 101us/step - loss: 0.3948 - accuracy: 0.8585 - val_loss: 2.2058 - val_accuracy: 0.5284\n",
      "Epoch 50/50\n",
      "50000/50000 [==============================] - 5s 101us/step - loss: 0.3727 - accuracy: 0.8667 - val_loss: 2.2450 - val_accuracy: 0.5214\n"
     ]
    },
    {
     "data": {
      "text/plain": [
       "<keras.callbacks.callbacks.History at 0x63e2dbeb8>"
      ]
     },
     "execution_count": 18,
     "metadata": {},
     "output_type": "execute_result"
    }
   ],
   "source": [
    "results = {}\n",
    "\n",
    "keras.backend.clear_session() # 把舊的 Graph 清掉\n",
    "model = build_mlp(input_shape=x_train.shape[1:])\n",
    "model.summary()\n",
    "\n",
    "#資料來源\n",
    "#https://keras.io/zh/optimizers/\n",
    "\n",
    "#SGD\n",
    "#keras.optimizers.SGD(lr=0.01, momentum=0.0, decay=0.0, nesterov=False)\n",
    "#lr: float >= 0. 學習率。\n",
    "#momentum: float >= 0. 動量，用於加速 SGD 在相關方向上前進，並抑制震盪。\n",
    "#decay: float >= 0. 衰減值，每次參數更新後學習率衰減值。\n",
    "#nesterov: boolean. 是否使用 Nesterov 動量。\n",
    "\n",
    "#RMSprop\n",
    "#keras.optimizers.RMSprop(lr=0.001, rho=0.9, epsilon=None, decay=0.0)\n",
    "#lr: float >= 0. 學習率。\n",
    "#rho: float >= 0. RMSProp梯度平方的移動均值的衰減率。\n",
    "#epsilon: float >= 0. 模糊因子。若為 None，默認為 K.epsilon()。\n",
    "#decay: float >= 0. 衰減值，每次參數更新後學習率衰減值。\n",
    "\n",
    "#Adagrad\n",
    "#keras.optimizers.Adagrad(lr=0.01, epsilon=None, decay=0.0)\n",
    "#lr: float >= 0. 學習率。\n",
    "#epsilon: float >= 0. 模糊因子。若為 None，默認為 K.epsilon()。\n",
    "#decay: float >= 0. 衰減值，每次參數更新後學習率衰減值。\n",
    "\n",
    "#\n",
    "#keras.optimizers.Adadelta(lr=1.0, rho=0.95, epsilon=None, decay=0.0)\n",
    "#lr: float >= 0. 學習率，建議保留默認值。\n",
    "#rho: float >= 0. Adadelta梯度平方的移動均值的衰減率。\n",
    "#epsilon: float >= 0. 模糊因子。若為 None，默認為 K.epsilon()。\n",
    "#decay: float >= 0. 衰減值，每次參數更新後學習率衰減值。\n",
    "\n",
    "#\n",
    "#keras.optimizers.Adam(lr=0.001, beta_1=0.9, beta_2=0.999, epsilon=None, decay=0.0, amsgrad=False)\n",
    "#lr: float >= 0. 學習率。\n",
    "#beta_1: float, 0 < beta < 1. 通常接近於1。\n",
    "#beta_2: float, 0 < beta < 1. 通常接近於1。\n",
    "#epsilon: float >= 0. 模糊因子。若為 None，默認為 K.epsilon()。\n",
    "#decay: float >= 0. 衰減值，每次參數更新後學習率衰減值。\n",
    "#amsgrad: boolean. 是否應用此算法的 AMSGrad 變種\n",
    "\n",
    "#\n",
    "#keras.optimizers.Adamax(lr=0.002, beta_1=0.9, beta_2=0.999, epsilon=None, decay=0.0)\n",
    "#lr: float >= 0. 學習率。\n",
    "#beta_1/beta_2: floats, 0 < beta < 1. 通常接近於1。\n",
    "#epsilon: float >= 0. 模糊因子。若為 None，默認為 K.epsilon()。\n",
    "#decay: float >= 0. 衰減值，每次參數更新後學習率衰減值。\n",
    "\n",
    "#\n",
    "#keras.optimizers.Nadam(lr=0.002, beta_1=0.9, beta_2=0.999, epsilon=None, schedule_decay=0.004)\n",
    "#lr: float >= 0. 學習率。\n",
    "#beta_1/beta_2: floats, 0 < beta < 1. 通常接近於1。\n",
    "#epsilon: float >= 0. 模糊因子。若為 None，默認為 K.epsilon()。\n",
    "\n",
    "optimizer = keras.optimizers.SGD(lr=LEARNING_RATE, nesterov=True, momentum=MOMENTUM)\n",
    "model.compile(loss=\"categorical_crossentropy\", metrics=[\"accuracy\"], optimizer=optimizer)\n",
    "\n",
    "model.fit(x_train, y_train, \n",
    "          epochs=EPOCHS, \n",
    "          batch_size=BATCH_SIZE, \n",
    "          validation_data=(x_test, y_test), \n",
    "          shuffle=True)"
   ]
  },
  {
   "cell_type": "code",
   "execution_count": 24,
   "metadata": {},
   "outputs": [],
   "source": [
    "# Collect results\n",
    "train_loss = model.history.history[\"loss\"]\n",
    "valid_loss = model.history.history[\"val_loss\"]\n",
    "train_acc = model.history.history[\"accuracy\"]\n",
    "valid_acc = model.history.history[\"val_accuracy\"]"
   ]
  },
  {
   "cell_type": "code",
   "execution_count": 27,
   "metadata": {},
   "outputs": [
    {
     "data": {
      "image/png": "[encoded data removed]",
      "text/plain": [
       "<Figure size 576x432 with 1 Axes>"
      ]
     },
     "metadata": {
      "needs_background": "light"
     },
     "output_type": "display_data"
    },
    {
     "data": {
      "image/png": "[encoded data removed]",
      "text/plain": [
       "<Figure size 576x432 with 1 Axes>"
      ]
     },
     "metadata": {
      "needs_background": "light"
     },
     "output_type": "display_data"
    }
   ],
   "source": [
    "import matplotlib.pyplot as plt\n",
    "%matplotlib inline\n",
    "\n",
    "plt.figure(figsize=(8,6))\n",
    "plt.plot(range(len(train_loss)),train_loss, '-', label=\"SGD train loss\")\n",
    "plt.plot(range(len(valid_loss)),valid_loss, '--', label=\"SGD valid loss\")\n",
    "plt.title(\"Loss\")\n",
    "plt.legend()\n",
    "plt.show()\n",
    "\n",
    "plt.figure(figsize=(8,6))\n",
    "plt.plot(range(len(train_acc)),train_acc, '-', label=\"SGD train accuracy\")\n",
    "plt.plot(range(len(valid_acc)),valid_acc, '--', label=\"SGD valid accuracy\")\n",
    "plt.title(\"Accuracy\")\n",
    "plt.legend()\n",
    "plt.show()"
   ]
  },
  {
   "cell_type": "code",
   "execution_count": null,
   "metadata": {},
   "outputs": [],
   "source": []
  }
 ],
 "metadata": {
  "kernelspec": {
   "display_name": "Python 3",
   "language": "python",
   "name": "python3"
  },
  "language_info": {
   "codemirror_mode": {
    "name": "ipython",
    "version": 3
   },
   "file_extension": ".py",
   "mimetype": "text/x-python",
   "name": "python",
   "nbconvert_exporter": "python",
   "pygments_lexer": "ipython3",
   "version": "3.7.3"
  }
 },
 "nbformat": 4,
 "nbformat_minor": 2
}

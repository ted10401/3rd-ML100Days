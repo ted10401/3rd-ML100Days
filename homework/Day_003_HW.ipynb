{
 "cells": [
  {
   "cell_type": "markdown",
   "metadata": {},
   "source": [
    "## [作業目標]\n",
    "持續接觸有關機器學習的相關專案與最新技術"
   ]
  },
  {
   "cell_type": "markdown",
   "metadata": {},
   "source": [
    "## [作業重點]\n",
    "透過觀察頂尖公司的機器學習文章，來了解各公司是怎麼應用機器學習在實際的專案上"
   ]
  },
  {
   "cell_type": "markdown",
   "metadata": {},
   "source": [
    "## [作業]\n",
    "今天的作業希望大家能夠看看全球機器學習巨頭們在做的機器學習專案。以 google 為例，下圖是 Google 內部專案使用機器學習的數量，隨著時間進展，現在早已超過 2000 個專案在使用機器學習。"
   ]
  },
  {
   "cell_type": "markdown",
   "metadata": {},
   "source": [
    "![image](https://cdn-images-1.medium.com/max/800/1*U_L8qI8RmYS-MOBrYvXhSA.png)"
   ]
  },
  {
   "cell_type": "markdown",
   "metadata": {},
   "source": [
    "底下幫同學整理幾間知名企業的 blog 或機器學習網站 (自行搜尋也可)，這些網站都會整理最新的機器學習專案或者是技術文章，請挑選一篇文章閱讀並試著回答\n",
    "1. 專案的目標？ (要解決什麼問題）\n",
    "2. 使用的技術是？ (只需知道名稱即可，例如：使用 CNN 卷積神經網路做影像分類)\n",
    "3. 資料來源？ "
   ]
  },
  {
   "cell_type": "markdown",
   "metadata": {},
   "source": [
    "- [Google AI blog](https://ai.googleblog.com/)\n",
    "- [Facebook Research blog](https://research.fb.com/blog/)\n",
    "- [Apple machine learning journal](https://machinelearning.apple.com/)\n",
    "- [機器之心](https://www.jiqizhixin.com/)\n",
    "- [雷鋒網](http://www.leiphone.com/category/ai)"
   ]
  },
  {
   "cell_type": "markdown",
   "metadata": {},
   "source": [
    "## 專案目標\n",
    "實時手部跟蹤，對手的形狀和運動軌跡進行感知\n",
    "\n",
    "## 使用技術\n",
    "手掌檢測：對圖像進行操作，定義出手掌邊界框  \n",
    "手部標誌：對手部邊界框進行操作，定義出高保真的 3D 手部關鍵點  \n",
    "手勢辨識器：對手部關鍵點進行操作，將關鍵點配置分類為一組離散手勢  \n",
    "  \n",
    "手掌檢測  \n",
    "使用 BlazePalm 的單鏡頭檢測器模型  \n",
    "採用非最大抑制算法  \n",
    "  \n",
    "手部標誌  \n",
    "將手掌檢測得到的手掌區域內的關鍵點進行定位  \n",
    "採用混合訓練模式  \n",
    "將真實照片與合成照片作為輸入藉此提高手部標誌模型的性能  \n",
    "  \n",
    "手勢辨識  \n",
    "將手指關節間累積的角度來判斷手指的狀態  \n",
    "並將手指狀態映射到預先定義好的手勢中  \n",
    "\n",
    "## 資料來源\n",
    "https://www.leiphone.com/news/201908/WRTFEn6nK30Hu8Nr.html"
   ]
  }
 ],
 "metadata": {
  "kernelspec": {
   "display_name": "Python 3",
   "language": "python",
   "name": "python3"
  },
  "language_info": {
   "codemirror_mode": {
    "name": "ipython",
    "version": 3
   },
   "file_extension": ".py",
   "mimetype": "text/x-python",
   "name": "python",
   "nbconvert_exporter": "python",
   "pygments_lexer": "ipython3",
   "version": "3.7.3"
  }
 },
 "nbformat": 4,
 "nbformat_minor": 2
}

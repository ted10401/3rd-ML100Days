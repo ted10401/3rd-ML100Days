{
 "cells": [
  {
   "cell_type": "markdown",
   "metadata": {
    "colab_type": "text",
    "id": "cj4tE8e8iUtO"
   },
   "source": [
    "#   \n",
    "\n",
    "# 作業目標:\n",
    "\n",
    "    1. 藉由固定的 dataset, 來驗證不同loss function\n",
    "    2. Dataset 的特性跟我們選用的loss function 對accrancy 的影響\n",
    "    \n",
    "    \n",
    "# 作業重點: \n",
    "    請分別選用 \"MSE\", \"binary _crossentropy\"\n",
    "    查看Train/test accurancy and loss rate\n",
    "    "
   ]
  },
  {
   "cell_type": "markdown",
   "metadata": {
    "colab_type": "text",
    "id": "R51J4KyyiUsL"
   },
   "source": [
    "# 導入必要的函數"
   ]
  },
  {
   "cell_type": "code",
   "execution_count": 27,
   "metadata": {
    "colab": {},
    "colab_type": "code",
    "id": "Qd68OQjciUsM"
   },
   "outputs": [],
   "source": [
    "from keras.datasets import cifar10\n",
    "import numpy as np\n",
    "np.random.seed(10)"
   ]
  },
  {
   "cell_type": "markdown",
   "metadata": {
    "colab_type": "text",
    "id": "GxKuzQLQiUsP"
   },
   "source": [
    "# 資料準備"
   ]
  },
  {
   "cell_type": "code",
   "execution_count": 28,
   "metadata": {
    "colab": {},
    "colab_type": "code",
    "id": "MIbFZdTCiUsQ"
   },
   "outputs": [],
   "source": [
    "#取得Keras Dataset\n",
    "(x_img_train,y_label_train),(x_img_test,y_label_test)=cifar10.load_data()"
   ]
  },
  {
   "cell_type": "code",
   "execution_count": 29,
   "metadata": {
    "colab": {},
    "colab_type": "code",
    "id": "J8CJVjNOiUsS"
   },
   "outputs": [
    {
     "name": "stdout",
     "output_type": "stream",
     "text": [
      "train data: images: (50000, 32, 32, 3)  labels: (50000, 1)\n",
      "test  data: images: (10000, 32, 32, 3)  labels: (10000, 1)\n"
     ]
    }
   ],
   "source": [
    "#確認 CIFAR10 Dataset 資料維度\n",
    "print(\"train data:\",'images:',x_img_train.shape,\n",
    "      \" labels:\",y_label_train.shape) \n",
    "print(\"test  data:\",'images:',x_img_test.shape ,\n",
    "      \" labels:\",y_label_test.shape) "
   ]
  },
  {
   "cell_type": "code",
   "execution_count": 30,
   "metadata": {
    "colab": {},
    "colab_type": "code",
    "id": "V3P6P4DXiUsV"
   },
   "outputs": [],
   "source": [
    "#資料正規化\n",
    "x_img_train_normalize = x_img_train.astype('float32') / 255.0\n",
    "x_img_test_normalize = x_img_test.astype('float32') / 255.0"
   ]
  },
  {
   "cell_type": "code",
   "execution_count": 31,
   "metadata": {
    "colab": {},
    "colab_type": "code",
    "id": "vsDyjKYliUsX"
   },
   "outputs": [
    {
     "data": {
      "text/plain": [
       "(10000, 10)"
      ]
     },
     "execution_count": 31,
     "metadata": {},
     "output_type": "execute_result"
    }
   ],
   "source": [
    "#針對Label 做 ONE HOT ENCODE\n",
    "from keras.utils import np_utils\n",
    "y_label_train_OneHot = np_utils.to_categorical(y_label_train)\n",
    "y_label_test_OneHot = np_utils.to_categorical(y_label_test)\n",
    "y_label_test_OneHot.shape"
   ]
  },
  {
   "cell_type": "markdown",
   "metadata": {
    "colab_type": "text",
    "id": "RutW2OtgiUsZ"
   },
   "source": [
    "# 建立模型"
   ]
  },
  {
   "cell_type": "code",
   "execution_count": 32,
   "metadata": {
    "colab": {},
    "colab_type": "code",
    "id": "aHz592aXiUsa"
   },
   "outputs": [],
   "source": [
    "from keras.models import Sequential\n",
    "from keras.layers import Dense, Dropout, Activation, Flatten\n",
    "from keras.layers import Conv2D, MaxPooling2D, ZeroPadding2D"
   ]
  },
  {
   "cell_type": "code",
   "execution_count": 33,
   "metadata": {
    "colab": {},
    "colab_type": "code",
    "id": "hslqrIp0iUse"
   },
   "outputs": [],
   "source": [
    "model = Sequential()"
   ]
  },
  {
   "cell_type": "code",
   "execution_count": 34,
   "metadata": {
    "colab": {},
    "colab_type": "code",
    "id": "Hqe35hs2iUsi"
   },
   "outputs": [],
   "source": [
    "#卷積層1"
   ]
  },
  {
   "cell_type": "code",
   "execution_count": 35,
   "metadata": {
    "colab": {},
    "colab_type": "code",
    "id": "ED7dqe1YiUsm"
   },
   "outputs": [],
   "source": [
    "model.add(Conv2D(filters=32,kernel_size=(3,3),\n",
    "                 input_shape=(32, 32,3), \n",
    "                 activation='relu', \n",
    "                 padding='same'))"
   ]
  },
  {
   "cell_type": "code",
   "execution_count": 36,
   "metadata": {
    "colab": {},
    "colab_type": "code",
    "id": "n-GRKmPViUso"
   },
   "outputs": [],
   "source": [
    "model.add(Dropout(rate=0.25))"
   ]
  },
  {
   "cell_type": "code",
   "execution_count": 37,
   "metadata": {
    "colab": {},
    "colab_type": "code",
    "id": "GlWnnD1uiUsw"
   },
   "outputs": [],
   "source": [
    "model.add(MaxPooling2D(pool_size=(2, 2)))"
   ]
  },
  {
   "cell_type": "code",
   "execution_count": 38,
   "metadata": {
    "colab": {},
    "colab_type": "code",
    "id": "nawlkt55iUsy"
   },
   "outputs": [],
   "source": [
    "#卷積層2與池化層2"
   ]
  },
  {
   "cell_type": "code",
   "execution_count": 39,
   "metadata": {
    "colab": {},
    "colab_type": "code",
    "id": "xxyETiKNiUs1"
   },
   "outputs": [],
   "source": [
    "model.add(Conv2D(filters=64, kernel_size=(3, 3), \n",
    "                 activation='relu', padding='same'))"
   ]
  },
  {
   "cell_type": "code",
   "execution_count": 40,
   "metadata": {
    "colab": {},
    "colab_type": "code",
    "id": "RqcKWtqGiUs2"
   },
   "outputs": [],
   "source": [
    "model.add(Dropout(0.25))"
   ]
  },
  {
   "cell_type": "code",
   "execution_count": 41,
   "metadata": {
    "colab": {},
    "colab_type": "code",
    "id": "BUOOzlqfiUs4"
   },
   "outputs": [],
   "source": [
    "model.add(MaxPooling2D(pool_size=(2, 2)))"
   ]
  },
  {
   "cell_type": "code",
   "execution_count": 42,
   "metadata": {
    "colab": {},
    "colab_type": "code",
    "id": "LpkppB2siUs7"
   },
   "outputs": [],
   "source": [
    "#建立神經網路(平坦層、隱藏層、輸出層)"
   ]
  },
  {
   "cell_type": "code",
   "execution_count": 43,
   "metadata": {
    "colab": {},
    "colab_type": "code",
    "id": "UQOfU54_iUs_"
   },
   "outputs": [],
   "source": [
    "model.add(Flatten())\n",
    "model.add(Dropout(rate=0.25))"
   ]
  },
  {
   "cell_type": "code",
   "execution_count": 44,
   "metadata": {
    "colab": {},
    "colab_type": "code",
    "id": "_NV-8sq4iUtD"
   },
   "outputs": [],
   "source": [
    "model.add(Dense(1024, activation='relu'))\n",
    "model.add(Dropout(rate=0.25))"
   ]
  },
  {
   "cell_type": "code",
   "execution_count": 45,
   "metadata": {
    "colab": {},
    "colab_type": "code",
    "id": "qVK77krOiUtF"
   },
   "outputs": [],
   "source": [
    "model.add(Dense(10, activation='softmax'))"
   ]
  },
  {
   "cell_type": "code",
   "execution_count": 46,
   "metadata": {
    "colab": {},
    "colab_type": "code",
    "id": "ZxzRIjR0iUtH"
   },
   "outputs": [
    {
     "name": "stdout",
     "output_type": "stream",
     "text": [
      "Model: \"sequential_2\"\n",
      "_________________________________________________________________\n",
      "Layer (type)                 Output Shape              Param #   \n",
      "=================================================================\n",
      "conv2d_3 (Conv2D)            (None, 32, 32, 32)        896       \n",
      "_________________________________________________________________\n",
      "dropout_5 (Dropout)          (None, 32, 32, 32)        0         \n",
      "_________________________________________________________________\n",
      "max_pooling2d_3 (MaxPooling2 (None, 16, 16, 32)        0         \n",
      "_________________________________________________________________\n",
      "conv2d_4 (Conv2D)            (None, 16, 16, 64)        18496     \n",
      "_________________________________________________________________\n",
      "dropout_6 (Dropout)          (None, 16, 16, 64)        0         \n",
      "_________________________________________________________________\n",
      "max_pooling2d_4 (MaxPooling2 (None, 8, 8, 64)          0         \n",
      "_________________________________________________________________\n",
      "flatten_2 (Flatten)          (None, 4096)              0         \n",
      "_________________________________________________________________\n",
      "dropout_7 (Dropout)          (None, 4096)              0         \n",
      "_________________________________________________________________\n",
      "dense_3 (Dense)              (None, 1024)              4195328   \n",
      "_________________________________________________________________\n",
      "dropout_8 (Dropout)          (None, 1024)              0         \n",
      "_________________________________________________________________\n",
      "dense_4 (Dense)              (None, 10)                10250     \n",
      "=================================================================\n",
      "Total params: 4,224,970\n",
      "Trainable params: 4,224,970\n",
      "Non-trainable params: 0\n",
      "_________________________________________________________________\n",
      "None\n"
     ]
    }
   ],
   "source": [
    "#檢查model 的STACK\n",
    "print(model.summary())"
   ]
  },
  {
   "cell_type": "markdown",
   "metadata": {
    "colab_type": "text",
    "id": "QJCtpJM0iUtJ"
   },
   "source": [
    "# 載入之前訓練的模型"
   ]
  },
  {
   "cell_type": "code",
   "execution_count": 47,
   "metadata": {
    "colab": {},
    "colab_type": "code",
    "id": "JU3A6NzQiUtK"
   },
   "outputs": [
    {
     "name": "stdout",
     "output_type": "stream",
     "text": [
      "載入模型失敗!開始訓練一個新模型\n"
     ]
    }
   ],
   "source": [
    "try:\n",
    "    model.load_weights(\"SaveModel/cifarCnnModel.h5\")\n",
    "    print(\"載入模型成功!繼續訓練模型\")\n",
    "except :    \n",
    "    print(\"載入模型失敗!開始訓練一個新模型\")"
   ]
  },
  {
   "cell_type": "markdown",
   "metadata": {
    "colab_type": "text",
    "id": "qBbCuziziUtM"
   },
   "source": [
    "# 訓練模型"
   ]
  },
  {
   "cell_type": "code",
   "execution_count": 48,
   "metadata": {
    "colab": {},
    "colab_type": "code",
    "id": "Q6BiBcseiUtP"
   },
   "outputs": [],
   "source": [
    "import matplotlib.pyplot as plt\n",
    "%matplotlib inline\n",
    "\n",
    "#定義一個繪圖函數\n",
    "def show_train_history(train_acc,test_acc):\n",
    "    plt.plot(train_history.history[train_acc])\n",
    "    plt.plot(train_history.history[test_acc])\n",
    "    plt.title('Train History')\n",
    "    plt.ylabel('Accuracy')\n",
    "    plt.xlabel('Epoch')\n",
    "    plt.legend(['train_acc', 'val_acc'], loc='upper left')\n",
    "    plt.show()\n",
    "\n",
    "def compile_model (loss_function) :\n",
    "    model.compile(loss=loss_function, optimizer='sgd', metrics=['accuracy'])\n",
    "\n",
    "    train_history=model.fit(x_img_train_normalize, y_label_train_OneHot,\n",
    "                        validation_split=0.25,\n",
    "                        epochs=12, batch_size=128, verbose=1)\n",
    "    \n",
    "    show_train_history('accuracy','val_accuracy')\n",
    "    \n",
    "    scores = model.evaluate(x_img_test_normalize, y_label_test_OneHot)\n",
    "    print('accuracy=',scores[1])"
   ]
  },
  {
   "cell_type": "code",
   "execution_count": 49,
   "metadata": {
    "colab": {},
    "colab_type": "code",
    "id": "4-GdDgmQiUtS"
   },
   "outputs": [
    {
     "name": "stdout",
     "output_type": "stream",
     "text": [
      "Train on 37500 samples, validate on 12500 samples\n",
      "Epoch 1/12\n",
      "37500/37500 [==============================] - 40s 1ms/step - loss: 2.1439 - accuracy: 0.2122 - val_loss: 2.0254 - val_accuracy: 0.3220\n",
      "Epoch 2/12\n",
      "37500/37500 [==============================] - 40s 1ms/step - loss: 1.9197 - accuracy: 0.3152 - val_loss: 1.9219 - val_accuracy: 0.3573\n",
      "Epoch 3/12\n",
      "37500/37500 [==============================] - 41s 1ms/step - loss: 1.7822 - accuracy: 0.3734 - val_loss: 1.7880 - val_accuracy: 0.4111\n",
      "Epoch 4/12\n",
      "37500/37500 [==============================] - 41s 1ms/step - loss: 1.6879 - accuracy: 0.3979 - val_loss: 1.7048 - val_accuracy: 0.4388\n",
      "Epoch 5/12\n",
      "37500/37500 [==============================] - 40s 1ms/step - loss: 1.6131 - accuracy: 0.4218 - val_loss: 1.6328 - val_accuracy: 0.4575\n",
      "Epoch 6/12\n",
      "37500/37500 [==============================] - 40s 1ms/step - loss: 1.5478 - accuracy: 0.4443 - val_loss: 1.5877 - val_accuracy: 0.4707\n",
      "Epoch 7/12\n",
      "37500/37500 [==============================] - 40s 1ms/step - loss: 1.5025 - accuracy: 0.4605 - val_loss: 1.5510 - val_accuracy: 0.4802\n",
      "Epoch 8/12\n",
      "37500/37500 [==============================] - 40s 1ms/step - loss: 1.4644 - accuracy: 0.4753 - val_loss: 1.5009 - val_accuracy: 0.4954\n",
      "Epoch 9/12\n",
      "37500/37500 [==============================] - 40s 1ms/step - loss: 1.4290 - accuracy: 0.4891 - val_loss: 1.4526 - val_accuracy: 0.5189\n",
      "Epoch 10/12\n",
      "37500/37500 [==============================] - 40s 1ms/step - loss: 1.4069 - accuracy: 0.4944 - val_loss: 1.4344 - val_accuracy: 0.5234\n",
      "Epoch 11/12\n",
      "37500/37500 [==============================] - 40s 1ms/step - loss: 1.3737 - accuracy: 0.5081 - val_loss: 1.4254 - val_accuracy: 0.5286\n",
      "Epoch 12/12\n",
      "37500/37500 [==============================] - 40s 1ms/step - loss: 1.3544 - accuracy: 0.5172 - val_loss: 1.4030 - val_accuracy: 0.5398\n"
     ]
    },
    {
     "data": {
      "image/png": "[encoded data removed]",
      "text/plain": [
       "<Figure size 432x288 with 1 Axes>"
      ]
     },
     "metadata": {
      "needs_background": "light"
     },
     "output_type": "display_data"
    },
    {
     "name": "stdout",
     "output_type": "stream",
     "text": [
      "10000/10000 [==============================] - 3s 260us/step\n",
      "accuracy= 0.5454999804496765\n"
     ]
    }
   ],
   "source": [
    "compile_model('categorical_crossentropy')"
   ]
  },
  {
   "cell_type": "code",
   "execution_count": 50,
   "metadata": {},
   "outputs": [
    {
     "name": "stdout",
     "output_type": "stream",
     "text": [
      "Train on 37500 samples, validate on 12500 samples\n",
      "Epoch 1/12\n",
      "37500/37500 [==============================] - 50s 1ms/step - loss: 0.0608 - accuracy: 0.5304 - val_loss: 0.0631 - val_accuracy: 0.5418\n",
      "Epoch 2/12\n",
      "37500/37500 [==============================] - 52s 1ms/step - loss: 0.0605 - accuracy: 0.5319 - val_loss: 0.0629 - val_accuracy: 0.5425\n",
      "Epoch 3/12\n",
      "37500/37500 [==============================] - 52s 1ms/step - loss: 0.0605 - accuracy: 0.5318 - val_loss: 0.0628 - val_accuracy: 0.5458\n",
      "Epoch 4/12\n",
      "37500/37500 [==============================] - 52s 1ms/step - loss: 0.0603 - accuracy: 0.5323 - val_loss: 0.0628 - val_accuracy: 0.5448\n",
      "Epoch 5/12\n",
      "37500/37500 [==============================] - 49s 1ms/step - loss: 0.0603 - accuracy: 0.5341 - val_loss: 0.0626 - val_accuracy: 0.5467\n",
      "Epoch 6/12\n",
      "37500/37500 [==============================] - 51s 1ms/step - loss: 0.0604 - accuracy: 0.5321 - val_loss: 0.0625 - val_accuracy: 0.5482\n",
      "Epoch 7/12\n",
      "37500/37500 [==============================] - 52s 1ms/step - loss: 0.0603 - accuracy: 0.5323 - val_loss: 0.0626 - val_accuracy: 0.5465\n",
      "Epoch 8/12\n",
      "37500/37500 [==============================] - 52s 1ms/step - loss: 0.0603 - accuracy: 0.5335 - val_loss: 0.0625 - val_accuracy: 0.5475\n",
      "Epoch 9/12\n",
      "37500/37500 [==============================] - 52s 1ms/step - loss: 0.0602 - accuracy: 0.5354 - val_loss: 0.0624 - val_accuracy: 0.5478\n",
      "Epoch 10/12\n",
      "37500/37500 [==============================] - 53s 1ms/step - loss: 0.0600 - accuracy: 0.5383 - val_loss: 0.0623 - val_accuracy: 0.5495\n",
      "Epoch 11/12\n",
      "37500/37500 [==============================] - 53s 1ms/step - loss: 0.0601 - accuracy: 0.5350 - val_loss: 0.0623 - val_accuracy: 0.5489\n",
      "Epoch 12/12\n",
      "37500/37500 [==============================] - 50s 1ms/step - loss: 0.0599 - accuracy: 0.5358 - val_loss: 0.0623 - val_accuracy: 0.5490\n"
     ]
    },
    {
     "data": {
      "image/png": "[encoded data removed]",
      "text/plain": [
       "<Figure size 432x288 with 1 Axes>"
      ]
     },
     "metadata": {
      "needs_background": "light"
     },
     "output_type": "display_data"
    },
    {
     "name": "stdout",
     "output_type": "stream",
     "text": [
      "10000/10000 [==============================] - 3s 262us/step\n",
      "accuracy= 0.5547000169754028\n"
     ]
    }
   ],
   "source": [
    "compile_model('mean_squared_error')"
   ]
  },
  {
   "cell_type": "code",
   "execution_count": 51,
   "metadata": {},
   "outputs": [
    {
     "name": "stdout",
     "output_type": "stream",
     "text": [
      "Train on 37500 samples, validate on 12500 samples\n",
      "Epoch 1/12\n",
      "37500/37500 [==============================] - 44s 1ms/step - loss: 0.2035 - accuracy: 0.9204 - val_loss: 0.2126 - val_accuracy: 0.9153\n",
      "Epoch 2/12\n",
      "37500/37500 [==============================] - 46s 1ms/step - loss: 0.2029 - accuracy: 0.9206 - val_loss: 0.2123 - val_accuracy: 0.9154\n",
      "Epoch 3/12\n",
      "37500/37500 [==============================] - 50s 1ms/step - loss: 0.2025 - accuracy: 0.9205 - val_loss: 0.2116 - val_accuracy: 0.9157\n",
      "Epoch 4/12\n",
      "37500/37500 [==============================] - 43s 1ms/step - loss: 0.2016 - accuracy: 0.9211 - val_loss: 0.2110 - val_accuracy: 0.9159\n",
      "Epoch 5/12\n",
      "37500/37500 [==============================] - 43s 1ms/step - loss: 0.2014 - accuracy: 0.9212 - val_loss: 0.2108 - val_accuracy: 0.9162\n",
      "Epoch 6/12\n",
      "37500/37500 [==============================] - 44s 1ms/step - loss: 0.2015 - accuracy: 0.9210 - val_loss: 0.2106 - val_accuracy: 0.9162\n",
      "Epoch 7/12\n",
      "37500/37500 [==============================] - 4899s 131ms/step - loss: 0.2009 - accuracy: 0.9212 - val_loss: 0.2102 - val_accuracy: 0.9163\n",
      "Epoch 8/12\n",
      "37500/37500 [==============================] - 51s 1ms/step - loss: 0.2002 - accuracy: 0.9215 - val_loss: 0.2102 - val_accuracy: 0.9164\n",
      "Epoch 9/12\n",
      "37500/37500 [==============================] - 54s 1ms/step - loss: 0.1998 - accuracy: 0.9216 - val_loss: 0.2092 - val_accuracy: 0.9167\n",
      "Epoch 10/12\n",
      "37500/37500 [==============================] - 54s 1ms/step - loss: 0.1994 - accuracy: 0.9219 - val_loss: 0.2093 - val_accuracy: 0.9167\n",
      "Epoch 11/12\n",
      "37500/37500 [==============================] - 54s 1ms/step - loss: 0.1992 - accuracy: 0.9219 - val_loss: 0.2085 - val_accuracy: 0.9171\n",
      "Epoch 12/12\n",
      "37500/37500 [==============================] - 53s 1ms/step - loss: 0.1986 - accuracy: 0.9225 - val_loss: 0.2083 - val_accuracy: 0.9171\n"
     ]
    },
    {
     "data": {
      "image/png": "[encoded data removed]",
      "text/plain": [
       "<Figure size 432x288 with 1 Axes>"
      ]
     },
     "metadata": {
      "needs_background": "light"
     },
     "output_type": "display_data"
    },
    {
     "name": "stdout",
     "output_type": "stream",
     "text": [
      "10000/10000 [==============================] - 3s 290us/step\n",
      "accuracy= 0.9173599481582642\n"
     ]
    }
   ],
   "source": [
    "compile_model('binary_crossentropy')"
   ]
  },
  {
   "cell_type": "code",
   "execution_count": null,
   "metadata": {},
   "outputs": [],
   "source": []
  }
 ],
 "metadata": {
  "colab": {
   "name": "Day71-使用損失函數_HW.ipynb",
   "provenance": [],
   "version": "0.3.2"
  },
  "kernelspec": {
   "display_name": "Python 3",
   "language": "python",
   "name": "python3"
  },
  "language_info": {
   "codemirror_mode": {
    "name": "ipython",
    "version": 3
   },
   "file_extension": ".py",
   "mimetype": "text/x-python",
   "name": "python",
   "nbconvert_exporter": "python",
   "pygments_lexer": "ipython3",
   "version": "3.7.3"
  }
 },
 "nbformat": 4,
 "nbformat_minor": 1
}

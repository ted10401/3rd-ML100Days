{
 "cells": [
  {
   "cell_type": "markdown",
   "metadata": {},
   "source": [
    "## Work\n",
    "1. 請比較使用不同層數以及不同 Dropout rate 對訓練的效果\n",
    "2. 將 optimizer 改成使用 Adam 並加上適當的 dropout rate 檢視結果"
   ]
  },
  {
   "cell_type": "code",
   "execution_count": 1,
   "metadata": {},
   "outputs": [
    {
     "name": "stderr",
     "output_type": "stream",
     "text": [
      "Using TensorFlow backend.\n"
     ]
    }
   ],
   "source": [
    "import os\n",
    "import keras\n",
    "import itertools\n",
    "# Disable GPU\n",
    "os.environ[\"CUDA_VISIBLE_DEVICES\"] = \"\""
   ]
  },
  {
   "cell_type": "code",
   "execution_count": 2,
   "metadata": {},
   "outputs": [],
   "source": [
    "train, test = keras.datasets.cifar10.load_data()"
   ]
  },
  {
   "cell_type": "code",
   "execution_count": 3,
   "metadata": {},
   "outputs": [],
   "source": [
    "## 資料前處理\n",
    "def preproc_x(x, flatten=True):\n",
    "    x = x / 255.\n",
    "    if flatten:\n",
    "        x = x.reshape((len(x), -1))\n",
    "    return x\n",
    "\n",
    "def preproc_y(y, num_classes=10):\n",
    "    if y.shape[-1] == 1:\n",
    "        y = keras.utils.to_categorical(y, num_classes)\n",
    "    return y    "
   ]
  },
  {
   "cell_type": "code",
   "execution_count": 4,
   "metadata": {},
   "outputs": [],
   "source": [
    "x_train, y_train = train\n",
    "x_test, y_test = test\n",
    "\n",
    "# Preproc the inputs\n",
    "x_train = preproc_x(x_train)\n",
    "x_test = preproc_x(x_test)\n",
    "\n",
    "# Preprc the outputs\n",
    "y_train = preproc_y(y_train)\n",
    "y_test = preproc_y(y_test)"
   ]
  },
  {
   "cell_type": "code",
   "execution_count": 5,
   "metadata": {},
   "outputs": [],
   "source": [
    "from keras.layers import Dropout\n",
    "\n",
    "\"\"\"\n",
    "建立神經網路，並加入 dropout layer\n",
    "\"\"\"\n",
    "def build_mlp(input_shape, output_units=10, num_neurons=[512, 256, 128], drp_ratio=0.2):\n",
    "    input_layer = keras.layers.Input(input_shape)\n",
    "    \n",
    "    for i, n_units in enumerate(num_neurons):\n",
    "        if i == 0:\n",
    "            x = keras.layers.Dense(units=n_units, \n",
    "                                   activation=\"relu\", \n",
    "                                   name=\"hidden_layer\"+str(i+1))(input_layer)\n",
    "            x = Dropout(drp_ratio)(x)\n",
    "        else:\n",
    "            x = keras.layers.Dense(units=n_units, \n",
    "                                   activation=\"relu\", \n",
    "                                   name=\"hidden_layer\"+str(i+1))(x)\n",
    "            x = Dropout(drp_ratio)(x)\n",
    "    \n",
    "    out = keras.layers.Dense(units=output_units, activation=\"softmax\", name=\"output\")(x)\n",
    "    \n",
    "    model = keras.models.Model(inputs=[input_layer], outputs=[out])\n",
    "    return model"
   ]
  },
  {
   "cell_type": "code",
   "execution_count": 6,
   "metadata": {},
   "outputs": [],
   "source": [
    "## 超參數設定\n",
    "LEARNING_RATE = 1e-3\n",
    "EPOCHS = 50\n",
    "BATCH_SIZE = 256\n",
    "MOMENTUM = 0.95\n",
    "DROP_RATIO = 0.25"
   ]
  },
  {
   "cell_type": "code",
   "execution_count": 7,
   "metadata": {
    "scrolled": true
   },
   "outputs": [
    {
     "name": "stdout",
     "output_type": "stream",
     "text": [
      "Model: \"model_1\"\n",
      "_________________________________________________________________\n",
      "Layer (type)                 Output Shape              Param #   \n",
      "=================================================================\n",
      "input_1 (InputLayer)         (None, 3072)              0         \n",
      "_________________________________________________________________\n",
      "hidden_layer1 (Dense)        (None, 512)               1573376   \n",
      "_________________________________________________________________\n",
      "dropout_1 (Dropout)          (None, 512)               0         \n",
      "_________________________________________________________________\n",
      "hidden_layer2 (Dense)        (None, 256)               131328    \n",
      "_________________________________________________________________\n",
      "dropout_2 (Dropout)          (None, 256)               0         \n",
      "_________________________________________________________________\n",
      "hidden_layer3 (Dense)        (None, 128)               32896     \n",
      "_________________________________________________________________\n",
      "dropout_3 (Dropout)          (None, 128)               0         \n",
      "_________________________________________________________________\n",
      "output (Dense)               (None, 10)                1290      \n",
      "=================================================================\n",
      "Total params: 1,738,890\n",
      "Trainable params: 1,738,890\n",
      "Non-trainable params: 0\n",
      "_________________________________________________________________\n",
      "Train on 50000 samples, validate on 10000 samples\n",
      "Epoch 1/50\n",
      "50000/50000 [==============================] - 6s 122us/step - loss: 2.1837 - accuracy: 0.1877 - val_loss: 1.9813 - val_accuracy: 0.3058\n",
      "Epoch 2/50\n",
      "50000/50000 [==============================] - 5s 109us/step - loss: 1.9880 - accuracy: 0.2734 - val_loss: 1.8656 - val_accuracy: 0.3430\n",
      "Epoch 3/50\n",
      "50000/50000 [==============================] - 5s 108us/step - loss: 1.9024 - accuracy: 0.3110 - val_loss: 1.7922 - val_accuracy: 0.3693\n",
      "Epoch 4/50\n",
      "50000/50000 [==============================] - 6s 113us/step - loss: 1.8458 - accuracy: 0.3373 - val_loss: 1.7460 - val_accuracy: 0.3830\n",
      "Epoch 5/50\n",
      "50000/50000 [==============================] - 5s 108us/step - loss: 1.8039 - accuracy: 0.3547 - val_loss: 1.7024 - val_accuracy: 0.4008\n",
      "Epoch 6/50\n",
      "50000/50000 [==============================] - 5s 107us/step - loss: 1.7683 - accuracy: 0.3654 - val_loss: 1.6652 - val_accuracy: 0.4138\n",
      "Epoch 7/50\n",
      "50000/50000 [==============================] - 5s 106us/step - loss: 1.7394 - accuracy: 0.3800 - val_loss: 1.6375 - val_accuracy: 0.4207\n",
      "Epoch 8/50\n",
      "50000/50000 [==============================] - 5s 109us/step - loss: 1.7124 - accuracy: 0.3861 - val_loss: 1.6163 - val_accuracy: 0.4326\n",
      "Epoch 9/50\n",
      "50000/50000 [==============================] - 5s 109us/step - loss: 1.6909 - accuracy: 0.3945 - val_loss: 1.5958 - val_accuracy: 0.4431\n",
      "Epoch 10/50\n",
      "50000/50000 [==============================] - 6s 114us/step - loss: 1.6702 - accuracy: 0.4059 - val_loss: 1.5750 - val_accuracy: 0.4468\n",
      "Epoch 11/50\n",
      "50000/50000 [==============================] - 6s 116us/step - loss: 1.6503 - accuracy: 0.4127 - val_loss: 1.5581 - val_accuracy: 0.4474\n",
      "Epoch 12/50\n",
      "50000/50000 [==============================] - 6s 122us/step - loss: 1.6352 - accuracy: 0.4189 - val_loss: 1.5441 - val_accuracy: 0.4588\n",
      "Epoch 13/50\n",
      "50000/50000 [==============================] - 6s 124us/step - loss: 1.6151 - accuracy: 0.4269 - val_loss: 1.5276 - val_accuracy: 0.4576\n",
      "Epoch 14/50\n",
      "50000/50000 [==============================] - 6s 119us/step - loss: 1.5985 - accuracy: 0.4337 - val_loss: 1.5155 - val_accuracy: 0.4645\n",
      "Epoch 15/50\n",
      "50000/50000 [==============================] - 6s 115us/step - loss: 1.5822 - accuracy: 0.4372 - val_loss: 1.5048 - val_accuracy: 0.4646\n",
      "Epoch 16/50\n",
      "50000/50000 [==============================] - 6s 118us/step - loss: 1.5724 - accuracy: 0.4410 - val_loss: 1.4901 - val_accuracy: 0.4711\n",
      "Epoch 17/50\n",
      "50000/50000 [==============================] - 6s 118us/step - loss: 1.5567 - accuracy: 0.4462 - val_loss: 1.4813 - val_accuracy: 0.4746\n",
      "Epoch 18/50\n",
      "50000/50000 [==============================] - 6s 113us/step - loss: 1.5427 - accuracy: 0.4524 - val_loss: 1.4765 - val_accuracy: 0.4717\n",
      "Epoch 19/50\n",
      "50000/50000 [==============================] - 6s 121us/step - loss: 1.5330 - accuracy: 0.4547 - val_loss: 1.4708 - val_accuracy: 0.4712\n",
      "Epoch 20/50\n",
      "50000/50000 [==============================] - 6s 118us/step - loss: 1.5203 - accuracy: 0.4601 - val_loss: 1.4477 - val_accuracy: 0.4930\n",
      "Epoch 21/50\n",
      "50000/50000 [==============================] - 6s 113us/step - loss: 1.5084 - accuracy: 0.4653 - val_loss: 1.4506 - val_accuracy: 0.4815\n",
      "Epoch 22/50\n",
      "50000/50000 [==============================] - 6s 115us/step - loss: 1.5013 - accuracy: 0.4676 - val_loss: 1.4405 - val_accuracy: 0.4860\n",
      "Epoch 23/50\n",
      "50000/50000 [==============================] - 6s 113us/step - loss: 1.4900 - accuracy: 0.4686 - val_loss: 1.4212 - val_accuracy: 0.4928\n",
      "Epoch 24/50\n",
      "50000/50000 [==============================] - 5s 110us/step - loss: 1.4775 - accuracy: 0.4761 - val_loss: 1.4262 - val_accuracy: 0.4912\n",
      "Epoch 25/50\n",
      "50000/50000 [==============================] - 6s 113us/step - loss: 1.4704 - accuracy: 0.4761 - val_loss: 1.4108 - val_accuracy: 0.4967\n",
      "Epoch 26/50\n",
      "50000/50000 [==============================] - 6s 112us/step - loss: 1.4573 - accuracy: 0.4833 - val_loss: 1.4133 - val_accuracy: 0.4992\n",
      "Epoch 27/50\n",
      "50000/50000 [==============================] - 6s 122us/step - loss: 1.4484 - accuracy: 0.4838 - val_loss: 1.3981 - val_accuracy: 0.5023\n",
      "Epoch 28/50\n",
      "50000/50000 [==============================] - 6s 114us/step - loss: 1.4393 - accuracy: 0.4857 - val_loss: 1.3969 - val_accuracy: 0.5010\n",
      "Epoch 29/50\n",
      "50000/50000 [==============================] - 5s 109us/step - loss: 1.4275 - accuracy: 0.4907 - val_loss: 1.3843 - val_accuracy: 0.5088\n",
      "Epoch 30/50\n",
      "50000/50000 [==============================] - 6s 115us/step - loss: 1.4235 - accuracy: 0.4945 - val_loss: 1.3807 - val_accuracy: 0.5099\n",
      "Epoch 31/50\n",
      "50000/50000 [==============================] - 6s 126us/step - loss: 1.4137 - accuracy: 0.4955 - val_loss: 1.3936 - val_accuracy: 0.5038\n",
      "Epoch 32/50\n",
      "50000/50000 [==============================] - 6s 114us/step - loss: 1.4071 - accuracy: 0.4982 - val_loss: 1.3754 - val_accuracy: 0.5111\n",
      "Epoch 33/50\n",
      "50000/50000 [==============================] - 6s 110us/step - loss: 1.3972 - accuracy: 0.5010 - val_loss: 1.3650 - val_accuracy: 0.5135\n",
      "Epoch 34/50\n",
      "50000/50000 [==============================] - 5s 109us/step - loss: 1.3880 - accuracy: 0.5066 - val_loss: 1.3658 - val_accuracy: 0.5121\n",
      "Epoch 35/50\n",
      "50000/50000 [==============================] - 6s 115us/step - loss: 1.3786 - accuracy: 0.5102 - val_loss: 1.3635 - val_accuracy: 0.5128\n",
      "Epoch 36/50\n",
      "50000/50000 [==============================] - 6s 114us/step - loss: 1.3760 - accuracy: 0.5086 - val_loss: 1.3544 - val_accuracy: 0.5165\n",
      "Epoch 37/50\n",
      "50000/50000 [==============================] - 6s 117us/step - loss: 1.3664 - accuracy: 0.5134 - val_loss: 1.3444 - val_accuracy: 0.5253\n",
      "Epoch 38/50\n",
      "50000/50000 [==============================] - 6s 115us/step - loss: 1.3614 - accuracy: 0.5106 - val_loss: 1.3541 - val_accuracy: 0.5191\n",
      "Epoch 39/50\n",
      "50000/50000 [==============================] - 6s 117us/step - loss: 1.3566 - accuracy: 0.5144 - val_loss: 1.3475 - val_accuracy: 0.5206\n",
      "Epoch 40/50\n",
      "50000/50000 [==============================] - 6s 119us/step - loss: 1.3465 - accuracy: 0.5190 - val_loss: 1.3413 - val_accuracy: 0.5235\n",
      "Epoch 41/50\n",
      "50000/50000 [==============================] - 5s 109us/step - loss: 1.3376 - accuracy: 0.5235 - val_loss: 1.3359 - val_accuracy: 0.5253\n",
      "Epoch 42/50\n",
      "50000/50000 [==============================] - 5s 110us/step - loss: 1.3343 - accuracy: 0.5259 - val_loss: 1.3340 - val_accuracy: 0.5229\n",
      "Epoch 43/50\n",
      "50000/50000 [==============================] - 5s 107us/step - loss: 1.3276 - accuracy: 0.5260 - val_loss: 1.3299 - val_accuracy: 0.5265\n",
      "Epoch 44/50\n",
      "50000/50000 [==============================] - 6s 113us/step - loss: 1.3182 - accuracy: 0.5304 - val_loss: 1.3262 - val_accuracy: 0.5256\n",
      "Epoch 45/50\n",
      "50000/50000 [==============================] - 5s 110us/step - loss: 1.3104 - accuracy: 0.5341 - val_loss: 1.3230 - val_accuracy: 0.5288\n",
      "Epoch 46/50\n"
     ]
    },
    {
     "name": "stdout",
     "output_type": "stream",
     "text": [
      "50000/50000 [==============================] - 6s 111us/step - loss: 1.3025 - accuracy: 0.5331 - val_loss: 1.3223 - val_accuracy: 0.5261\n",
      "Epoch 47/50\n",
      "50000/50000 [==============================] - 6s 111us/step - loss: 1.2932 - accuracy: 0.5379 - val_loss: 1.3183 - val_accuracy: 0.5287\n",
      "Epoch 48/50\n",
      "50000/50000 [==============================] - 5s 107us/step - loss: 1.2888 - accuracy: 0.5404 - val_loss: 1.3123 - val_accuracy: 0.5280\n",
      "Epoch 49/50\n",
      "50000/50000 [==============================] - 6s 114us/step - loss: 1.2841 - accuracy: 0.5406 - val_loss: 1.3103 - val_accuracy: 0.5311\n",
      "Epoch 50/50\n",
      "50000/50000 [==============================] - 6s 115us/step - loss: 1.2838 - accuracy: 0.5409 - val_loss: 1.3128 - val_accuracy: 0.5331\n"
     ]
    }
   ],
   "source": [
    "#SGD Optimizer\n",
    "model = build_mlp(input_shape=x_train.shape[1:], drp_ratio=DROP_RATIO)\n",
    "model.summary()\n",
    "optimizer = keras.optimizers.SGD(lr=LEARNING_RATE, nesterov=True, momentum=MOMENTUM)\n",
    "model.compile(loss=\"categorical_crossentropy\", metrics=[\"accuracy\"], optimizer=optimizer)\n",
    "\n",
    "model.fit(x_train, y_train, \n",
    "          epochs=EPOCHS, \n",
    "          batch_size=BATCH_SIZE, \n",
    "          validation_data=(x_test, y_test), \n",
    "          shuffle=True)\n",
    "\n",
    "# Collect results\n",
    "train_loss = model.history.history[\"loss\"]\n",
    "valid_loss = model.history.history[\"val_loss\"]\n",
    "train_acc = model.history.history[\"accuracy\"]\n",
    "valid_acc = model.history.history[\"val_accuracy\"]"
   ]
  },
  {
   "cell_type": "code",
   "execution_count": 13,
   "metadata": {},
   "outputs": [
    {
     "name": "stdout",
     "output_type": "stream",
     "text": [
      "Optimizer SGD, Drop Ratio = 0.25\n"
     ]
    },
    {
     "data": {
      "image/png": "[encoded data removed]",
      "text/plain": [
       "<Figure size 432x288 with 1 Axes>"
      ]
     },
     "metadata": {
      "needs_background": "light"
     },
     "output_type": "display_data"
    },
    {
     "data": {
      "image/png": "[encoded data removed]",
      "text/plain": [
       "<Figure size 432x288 with 1 Axes>"
      ]
     },
     "metadata": {
      "needs_background": "light"
     },
     "output_type": "display_data"
    }
   ],
   "source": [
    "import matplotlib.pyplot as plt\n",
    "%matplotlib inline\n",
    "\n",
    "print('Optimizer SGD, Drop Ratio = 0.25')\n",
    "\n",
    "plt.plot(range(len(train_loss)), train_loss, label=\"train loss\")\n",
    "plt.plot(range(len(valid_loss)), valid_loss, label=\"valid loss\")\n",
    "plt.legend()\n",
    "plt.title(\"Loss\")\n",
    "plt.show()\n",
    "\n",
    "plt.plot(range(len(train_acc)), train_acc, label=\"train accuracy\")\n",
    "plt.plot(range(len(valid_acc)), valid_acc, label=\"valid accuracy\")\n",
    "plt.legend()\n",
    "plt.title(\"Accuracy\")\n",
    "plt.show()"
   ]
  },
  {
   "cell_type": "code",
   "execution_count": 14,
   "metadata": {},
   "outputs": [
    {
     "name": "stdout",
     "output_type": "stream",
     "text": [
      "Model: \"model_2\"\n",
      "_________________________________________________________________\n",
      "Layer (type)                 Output Shape              Param #   \n",
      "=================================================================\n",
      "input_2 (InputLayer)         (None, 3072)              0         \n",
      "_________________________________________________________________\n",
      "hidden_layer1 (Dense)        (None, 512)               1573376   \n",
      "_________________________________________________________________\n",
      "dropout_4 (Dropout)          (None, 512)               0         \n",
      "_________________________________________________________________\n",
      "hidden_layer2 (Dense)        (None, 256)               131328    \n",
      "_________________________________________________________________\n",
      "dropout_5 (Dropout)          (None, 256)               0         \n",
      "_________________________________________________________________\n",
      "hidden_layer3 (Dense)        (None, 128)               32896     \n",
      "_________________________________________________________________\n",
      "dropout_6 (Dropout)          (None, 128)               0         \n",
      "_________________________________________________________________\n",
      "output (Dense)               (None, 10)                1290      \n",
      "=================================================================\n",
      "Total params: 1,738,890\n",
      "Trainable params: 1,738,890\n",
      "Non-trainable params: 0\n",
      "_________________________________________________________________\n",
      "Train on 50000 samples, validate on 10000 samples\n",
      "Epoch 1/50\n",
      "50000/50000 [==============================] - 6s 117us/step - loss: 2.1111 - accuracy: 0.2213 - val_loss: 1.9136 - val_accuracy: 0.3316\n",
      "Epoch 2/50\n",
      "50000/50000 [==============================] - 6s 113us/step - loss: 1.8965 - accuracy: 0.3179 - val_loss: 1.7987 - val_accuracy: 0.3690\n",
      "Epoch 3/50\n",
      "50000/50000 [==============================] - 5s 109us/step - loss: 1.8080 - accuracy: 0.3526 - val_loss: 1.7227 - val_accuracy: 0.3944\n",
      "Epoch 4/50\n",
      "50000/50000 [==============================] - 6s 122us/step - loss: 1.7485 - accuracy: 0.3760 - val_loss: 1.6777 - val_accuracy: 0.4089\n",
      "Epoch 5/50\n",
      "50000/50000 [==============================] - 6s 118us/step - loss: 1.7038 - accuracy: 0.3919 - val_loss: 1.6377 - val_accuracy: 0.4222\n",
      "Epoch 6/50\n",
      "50000/50000 [==============================] - 6s 113us/step - loss: 1.6692 - accuracy: 0.4040 - val_loss: 1.6030 - val_accuracy: 0.4333\n",
      "Epoch 7/50\n",
      "50000/50000 [==============================] - 6s 113us/step - loss: 1.6375 - accuracy: 0.4151 - val_loss: 1.5797 - val_accuracy: 0.4404\n",
      "Epoch 8/50\n",
      "50000/50000 [==============================] - 6s 114us/step - loss: 1.6083 - accuracy: 0.4249 - val_loss: 1.5519 - val_accuracy: 0.4463\n",
      "Epoch 9/50\n",
      "50000/50000 [==============================] - 6s 110us/step - loss: 1.5846 - accuracy: 0.4355 - val_loss: 1.5377 - val_accuracy: 0.4513\n",
      "Epoch 10/50\n",
      "50000/50000 [==============================] - 6s 116us/step - loss: 1.5602 - accuracy: 0.4470 - val_loss: 1.5252 - val_accuracy: 0.4576\n",
      "Epoch 11/50\n",
      "50000/50000 [==============================] - 6s 122us/step - loss: 1.5400 - accuracy: 0.4524 - val_loss: 1.4969 - val_accuracy: 0.4662\n",
      "Epoch 12/50\n",
      "50000/50000 [==============================] - 6s 122us/step - loss: 1.5187 - accuracy: 0.4609 - val_loss: 1.4783 - val_accuracy: 0.4777\n",
      "Epoch 13/50\n",
      "50000/50000 [==============================] - 6s 123us/step - loss: 1.5030 - accuracy: 0.4653 - val_loss: 1.4647 - val_accuracy: 0.4773\n",
      "Epoch 14/50\n",
      "50000/50000 [==============================] - 6s 117us/step - loss: 1.4858 - accuracy: 0.4708 - val_loss: 1.4479 - val_accuracy: 0.4868\n",
      "Epoch 15/50\n",
      "50000/50000 [==============================] - 6s 118us/step - loss: 1.4685 - accuracy: 0.4766 - val_loss: 1.4420 - val_accuracy: 0.4847\n",
      "Epoch 16/50\n",
      "50000/50000 [==============================] - 6s 129us/step - loss: 1.4553 - accuracy: 0.4834 - val_loss: 1.4303 - val_accuracy: 0.4895\n",
      "Epoch 17/50\n",
      "50000/50000 [==============================] - 6s 129us/step - loss: 1.4372 - accuracy: 0.4880 - val_loss: 1.4266 - val_accuracy: 0.4896\n",
      "Epoch 18/50\n",
      "50000/50000 [==============================] - 6s 115us/step - loss: 1.4260 - accuracy: 0.4919 - val_loss: 1.4128 - val_accuracy: 0.4983\n",
      "Epoch 19/50\n",
      "50000/50000 [==============================] - 6s 111us/step - loss: 1.4083 - accuracy: 0.4995 - val_loss: 1.4003 - val_accuracy: 0.4988\n",
      "Epoch 20/50\n",
      "50000/50000 [==============================] - 5s 109us/step - loss: 1.3935 - accuracy: 0.5046 - val_loss: 1.4038 - val_accuracy: 0.4993\n",
      "Epoch 21/50\n",
      "50000/50000 [==============================] - 5s 110us/step - loss: 1.3803 - accuracy: 0.5098 - val_loss: 1.3849 - val_accuracy: 0.5078\n",
      "Epoch 22/50\n",
      "50000/50000 [==============================] - 6s 110us/step - loss: 1.3721 - accuracy: 0.5109 - val_loss: 1.3729 - val_accuracy: 0.5085\n",
      "Epoch 23/50\n",
      "50000/50000 [==============================] - 6s 112us/step - loss: 1.3609 - accuracy: 0.5168 - val_loss: 1.3654 - val_accuracy: 0.5130\n",
      "Epoch 24/50\n",
      "50000/50000 [==============================] - 5s 110us/step - loss: 1.3467 - accuracy: 0.5205 - val_loss: 1.3613 - val_accuracy: 0.5121\n",
      "Epoch 25/50\n",
      "50000/50000 [==============================] - 6s 117us/step - loss: 1.3372 - accuracy: 0.5223 - val_loss: 1.3585 - val_accuracy: 0.5178\n",
      "Epoch 26/50\n",
      "50000/50000 [==============================] - 6s 116us/step - loss: 1.3224 - accuracy: 0.5290 - val_loss: 1.3572 - val_accuracy: 0.5150\n",
      "Epoch 27/50\n",
      "50000/50000 [==============================] - 6s 111us/step - loss: 1.3142 - accuracy: 0.5332 - val_loss: 1.3476 - val_accuracy: 0.5151\n",
      "Epoch 28/50\n",
      "50000/50000 [==============================] - 6s 111us/step - loss: 1.3004 - accuracy: 0.5381 - val_loss: 1.3343 - val_accuracy: 0.5220\n",
      "Epoch 29/50\n",
      "50000/50000 [==============================] - 5s 109us/step - loss: 1.2913 - accuracy: 0.5403 - val_loss: 1.3405 - val_accuracy: 0.5195\n",
      "Epoch 30/50\n",
      "50000/50000 [==============================] - 6s 110us/step - loss: 1.2773 - accuracy: 0.5447 - val_loss: 1.3320 - val_accuracy: 0.5229\n",
      "Epoch 31/50\n",
      "50000/50000 [==============================] - 6s 111us/step - loss: 1.2688 - accuracy: 0.5476 - val_loss: 1.3311 - val_accuracy: 0.5222\n",
      "Epoch 32/50\n",
      "50000/50000 [==============================] - 5s 109us/step - loss: 1.2611 - accuracy: 0.5524 - val_loss: 1.3268 - val_accuracy: 0.5271\n",
      "Epoch 33/50\n",
      "50000/50000 [==============================] - 6s 110us/step - loss: 1.2471 - accuracy: 0.5541 - val_loss: 1.3277 - val_accuracy: 0.5270\n",
      "Epoch 34/50\n",
      "50000/50000 [==============================] - 5s 109us/step - loss: 1.2393 - accuracy: 0.5606 - val_loss: 1.3201 - val_accuracy: 0.5195\n",
      "Epoch 35/50\n",
      "50000/50000 [==============================] - 6s 111us/step - loss: 1.2281 - accuracy: 0.5628 - val_loss: 1.3378 - val_accuracy: 0.5245\n",
      "Epoch 36/50\n",
      "50000/50000 [==============================] - 5s 109us/step - loss: 1.2195 - accuracy: 0.5642 - val_loss: 1.3427 - val_accuracy: 0.5185\n",
      "Epoch 37/50\n",
      "50000/50000 [==============================] - 6s 110us/step - loss: 1.2136 - accuracy: 0.5673 - val_loss: 1.3020 - val_accuracy: 0.5390\n",
      "Epoch 38/50\n",
      "50000/50000 [==============================] - 5s 108us/step - loss: 1.1993 - accuracy: 0.5734 - val_loss: 1.3148 - val_accuracy: 0.5297\n",
      "Epoch 39/50\n",
      "50000/50000 [==============================] - 6s 112us/step - loss: 1.1911 - accuracy: 0.5764 - val_loss: 1.3009 - val_accuracy: 0.5336\n",
      "Epoch 40/50\n",
      "50000/50000 [==============================] - 6s 119us/step - loss: 1.1843 - accuracy: 0.5757 - val_loss: 1.3091 - val_accuracy: 0.5282\n",
      "Epoch 41/50\n",
      "50000/50000 [==============================] - 6s 121us/step - loss: 1.1726 - accuracy: 0.5822 - val_loss: 1.2970 - val_accuracy: 0.5399\n",
      "Epoch 42/50\n",
      "50000/50000 [==============================] - 6s 126us/step - loss: 1.1678 - accuracy: 0.5840 - val_loss: 1.2961 - val_accuracy: 0.5323\n",
      "Epoch 43/50\n",
      "50000/50000 [==============================] - 6s 111us/step - loss: 1.1605 - accuracy: 0.5888 - val_loss: 1.2902 - val_accuracy: 0.5384\n",
      "Epoch 44/50\n",
      "50000/50000 [==============================] - 6s 111us/step - loss: 1.1486 - accuracy: 0.5900 - val_loss: 1.2932 - val_accuracy: 0.5420\n",
      "Epoch 45/50\n",
      "50000/50000 [==============================] - 5s 109us/step - loss: 1.1413 - accuracy: 0.5927 - val_loss: 1.2813 - val_accuracy: 0.5388\n",
      "Epoch 46/50\n"
     ]
    },
    {
     "name": "stdout",
     "output_type": "stream",
     "text": [
      "50000/50000 [==============================] - 6s 110us/step - loss: 1.1344 - accuracy: 0.5970 - val_loss: 1.3003 - val_accuracy: 0.5357\n",
      "Epoch 47/50\n",
      "50000/50000 [==============================] - 6s 111us/step - loss: 1.1264 - accuracy: 0.5987 - val_loss: 1.2911 - val_accuracy: 0.5382\n",
      "Epoch 48/50\n",
      "50000/50000 [==============================] - 5s 110us/step - loss: 1.1174 - accuracy: 0.6022 - val_loss: 1.2984 - val_accuracy: 0.5389\n",
      "Epoch 49/50\n",
      "50000/50000 [==============================] - 6s 110us/step - loss: 1.1068 - accuracy: 0.6039 - val_loss: 1.2750 - val_accuracy: 0.5479\n",
      "Epoch 50/50\n",
      "50000/50000 [==============================] - 6s 113us/step - loss: 1.1005 - accuracy: 0.6085 - val_loss: 1.2856 - val_accuracy: 0.5448\n"
     ]
    }
   ],
   "source": [
    "DROP_RATIO = 0.1\n",
    "\n",
    "model = build_mlp(input_shape=x_train.shape[1:], drp_ratio=DROP_RATIO)\n",
    "model.summary()\n",
    "\n",
    "#SGD Optimizer\n",
    "optimizer = keras.optimizers.SGD(lr=LEARNING_RATE, nesterov=True, momentum=MOMENTUM)\n",
    "model.compile(loss=\"categorical_crossentropy\", metrics=[\"accuracy\"], optimizer=optimizer)\n",
    "\n",
    "model.fit(x_train, y_train, \n",
    "          epochs=EPOCHS, \n",
    "          batch_size=BATCH_SIZE, \n",
    "          validation_data=(x_test, y_test), \n",
    "          shuffle=True)\n",
    "\n",
    "# Collect results\n",
    "train_loss = model.history.history[\"loss\"]\n",
    "valid_loss = model.history.history[\"val_loss\"]\n",
    "train_acc = model.history.history[\"accuracy\"]\n",
    "valid_acc = model.history.history[\"val_accuracy\"]"
   ]
  },
  {
   "cell_type": "code",
   "execution_count": 15,
   "metadata": {},
   "outputs": [
    {
     "name": "stdout",
     "output_type": "stream",
     "text": [
      "Optimizer Adam, Drop Ratio = 0.1\n"
     ]
    },
    {
     "data": {
      "image/png": "[encoded data removed]",
      "text/plain": [
       "<Figure size 432x288 with 1 Axes>"
      ]
     },
     "metadata": {
      "needs_background": "light"
     },
     "output_type": "display_data"
    },
    {
     "data": {
      "image/png": "[encoded data removed]",
      "text/plain": [
       "<Figure size 432x288 with 1 Axes>"
      ]
     },
     "metadata": {
      "needs_background": "light"
     },
     "output_type": "display_data"
    }
   ],
   "source": [
    "print('Optimizer Adam, Drop Ratio = 0.1')\n",
    "\n",
    "plt.plot(range(len(train_loss)), train_loss, label=\"train loss\")\n",
    "plt.plot(range(len(valid_loss)), valid_loss, label=\"valid loss\")\n",
    "plt.legend()\n",
    "plt.title(\"Loss\")\n",
    "plt.show()\n",
    "\n",
    "plt.plot(range(len(train_acc)), train_acc, label=\"train accuracy\")\n",
    "plt.plot(range(len(valid_acc)), valid_acc, label=\"valid accuracy\")\n",
    "plt.legend()\n",
    "plt.title(\"Accuracy\")\n",
    "plt.show()"
   ]
  },
  {
   "cell_type": "code",
   "execution_count": 18,
   "metadata": {},
   "outputs": [
    {
     "name": "stdout",
     "output_type": "stream",
     "text": [
      "Model: \"model_5\"\n",
      "_________________________________________________________________\n",
      "Layer (type)                 Output Shape              Param #   \n",
      "=================================================================\n",
      "input_5 (InputLayer)         (None, 3072)              0         \n",
      "_________________________________________________________________\n",
      "hidden_layer1 (Dense)        (None, 512)               1573376   \n",
      "_________________________________________________________________\n",
      "dropout_13 (Dropout)         (None, 512)               0         \n",
      "_________________________________________________________________\n",
      "hidden_layer2 (Dense)        (None, 256)               131328    \n",
      "_________________________________________________________________\n",
      "dropout_14 (Dropout)         (None, 256)               0         \n",
      "_________________________________________________________________\n",
      "hidden_layer3 (Dense)        (None, 128)               32896     \n",
      "_________________________________________________________________\n",
      "dropout_15 (Dropout)         (None, 128)               0         \n",
      "_________________________________________________________________\n",
      "output (Dense)               (None, 10)                1290      \n",
      "=================================================================\n",
      "Total params: 1,738,890\n",
      "Trainable params: 1,738,890\n",
      "Non-trainable params: 0\n",
      "_________________________________________________________________\n",
      "Train on 50000 samples, validate on 10000 samples\n",
      "Epoch 1/50\n",
      "50000/50000 [==============================] - 6s 129us/step - loss: 2.0104 - accuracy: 0.2641 - val_loss: 1.7925 - val_accuracy: 0.3552\n",
      "Epoch 2/50\n",
      "50000/50000 [==============================] - 6s 120us/step - loss: 1.7744 - accuracy: 0.3608 - val_loss: 1.6554 - val_accuracy: 0.4087\n",
      "Epoch 3/50\n",
      "50000/50000 [==============================] - 6s 121us/step - loss: 1.6921 - accuracy: 0.3921 - val_loss: 1.5983 - val_accuracy: 0.4237\n",
      "Epoch 4/50\n",
      "50000/50000 [==============================] - 6s 121us/step - loss: 1.6425 - accuracy: 0.4114 - val_loss: 1.6023 - val_accuracy: 0.4306\n",
      "Epoch 5/50\n",
      "50000/50000 [==============================] - 6s 120us/step - loss: 1.6009 - accuracy: 0.4272 - val_loss: 1.5202 - val_accuracy: 0.4542\n",
      "Epoch 6/50\n",
      "50000/50000 [==============================] - 6s 121us/step - loss: 1.5636 - accuracy: 0.4401 - val_loss: 1.5007 - val_accuracy: 0.4604\n",
      "Epoch 7/50\n",
      "50000/50000 [==============================] - 6s 122us/step - loss: 1.5378 - accuracy: 0.4505 - val_loss: 1.4883 - val_accuracy: 0.4654\n",
      "Epoch 8/50\n",
      "50000/50000 [==============================] - 6s 123us/step - loss: 1.5121 - accuracy: 0.4562 - val_loss: 1.4782 - val_accuracy: 0.4729\n",
      "Epoch 9/50\n",
      "50000/50000 [==============================] - 6s 125us/step - loss: 1.4844 - accuracy: 0.4715 - val_loss: 1.4349 - val_accuracy: 0.4872\n",
      "Epoch 10/50\n",
      "50000/50000 [==============================] - 6s 129us/step - loss: 1.4732 - accuracy: 0.4713 - val_loss: 1.4418 - val_accuracy: 0.4847\n",
      "Epoch 11/50\n",
      "50000/50000 [==============================] - 6s 129us/step - loss: 1.4632 - accuracy: 0.4749 - val_loss: 1.4368 - val_accuracy: 0.4894\n",
      "Epoch 12/50\n",
      "50000/50000 [==============================] - 6s 127us/step - loss: 1.4421 - accuracy: 0.4832 - val_loss: 1.4134 - val_accuracy: 0.4980\n",
      "Epoch 13/50\n",
      "50000/50000 [==============================] - 6s 126us/step - loss: 1.4271 - accuracy: 0.4867 - val_loss: 1.4216 - val_accuracy: 0.4909\n",
      "Epoch 14/50\n",
      "50000/50000 [==============================] - 6s 127us/step - loss: 1.4215 - accuracy: 0.4883 - val_loss: 1.3988 - val_accuracy: 0.5037\n",
      "Epoch 15/50\n",
      "50000/50000 [==============================] - 6s 128us/step - loss: 1.3991 - accuracy: 0.4980 - val_loss: 1.4321 - val_accuracy: 0.4904\n",
      "Epoch 16/50\n",
      "50000/50000 [==============================] - 6s 128us/step - loss: 1.3814 - accuracy: 0.5041 - val_loss: 1.4145 - val_accuracy: 0.4964\n",
      "Epoch 17/50\n",
      "50000/50000 [==============================] - 6s 126us/step - loss: 1.3731 - accuracy: 0.5054 - val_loss: 1.3926 - val_accuracy: 0.5013\n",
      "Epoch 18/50\n",
      "50000/50000 [==============================] - 6s 128us/step - loss: 1.3568 - accuracy: 0.5140 - val_loss: 1.3702 - val_accuracy: 0.5138\n",
      "Epoch 19/50\n",
      "50000/50000 [==============================] - 6s 127us/step - loss: 1.3493 - accuracy: 0.5138 - val_loss: 1.3883 - val_accuracy: 0.4980\n",
      "Epoch 20/50\n",
      "50000/50000 [==============================] - 6s 125us/step - loss: 1.3352 - accuracy: 0.5181 - val_loss: 1.3700 - val_accuracy: 0.5160\n",
      "Epoch 21/50\n",
      "50000/50000 [==============================] - 6s 127us/step - loss: 1.3240 - accuracy: 0.5243 - val_loss: 1.3537 - val_accuracy: 0.5171\n",
      "Epoch 22/50\n",
      "50000/50000 [==============================] - 6s 127us/step - loss: 1.3257 - accuracy: 0.5238 - val_loss: 1.3677 - val_accuracy: 0.5110\n",
      "Epoch 23/50\n",
      "50000/50000 [==============================] - 6s 113us/step - loss: 1.3103 - accuracy: 0.5284 - val_loss: 1.3435 - val_accuracy: 0.5245\n",
      "Epoch 24/50\n",
      "50000/50000 [==============================] - 6s 112us/step - loss: 1.3017 - accuracy: 0.5322 - val_loss: 1.3808 - val_accuracy: 0.5099\n",
      "Epoch 25/50\n",
      "50000/50000 [==============================] - 6s 114us/step - loss: 1.2934 - accuracy: 0.5380 - val_loss: 1.3451 - val_accuracy: 0.5215\n",
      "Epoch 26/50\n",
      "50000/50000 [==============================] - 6s 112us/step - loss: 1.2852 - accuracy: 0.5379 - val_loss: 1.3489 - val_accuracy: 0.5254\n",
      "Epoch 27/50\n",
      "50000/50000 [==============================] - 6s 112us/step - loss: 1.2670 - accuracy: 0.5449 - val_loss: 1.3589 - val_accuracy: 0.5091\n",
      "Epoch 28/50\n",
      "50000/50000 [==============================] - 6s 113us/step - loss: 1.2611 - accuracy: 0.5449 - val_loss: 1.3347 - val_accuracy: 0.5237\n",
      "Epoch 29/50\n",
      "50000/50000 [==============================] - 6s 113us/step - loss: 1.2563 - accuracy: 0.5466 - val_loss: 1.3437 - val_accuracy: 0.5207\n",
      "Epoch 30/50\n",
      "50000/50000 [==============================] - 6s 113us/step - loss: 1.2441 - accuracy: 0.5506 - val_loss: 1.3410 - val_accuracy: 0.5237\n",
      "Epoch 31/50\n",
      "50000/50000 [==============================] - 6s 113us/step - loss: 1.2433 - accuracy: 0.5526 - val_loss: 1.3272 - val_accuracy: 0.5235\n",
      "Epoch 32/50\n",
      "50000/50000 [==============================] - 6s 113us/step - loss: 1.2354 - accuracy: 0.5570 - val_loss: 1.3399 - val_accuracy: 0.5259\n",
      "Epoch 33/50\n",
      "50000/50000 [==============================] - 6s 114us/step - loss: 1.2237 - accuracy: 0.5603 - val_loss: 1.3478 - val_accuracy: 0.5251\n",
      "Epoch 34/50\n",
      "50000/50000 [==============================] - 6s 113us/step - loss: 1.2196 - accuracy: 0.5613 - val_loss: 1.3276 - val_accuracy: 0.5292\n",
      "Epoch 35/50\n",
      "50000/50000 [==============================] - 6s 112us/step - loss: 1.2008 - accuracy: 0.5653 - val_loss: 1.3328 - val_accuracy: 0.5247\n",
      "Epoch 36/50\n",
      "50000/50000 [==============================] - 6s 112us/step - loss: 1.1933 - accuracy: 0.5704 - val_loss: 1.3852 - val_accuracy: 0.5107\n",
      "Epoch 37/50\n",
      "50000/50000 [==============================] - 6s 113us/step - loss: 1.2025 - accuracy: 0.5661 - val_loss: 1.3488 - val_accuracy: 0.5201\n",
      "Epoch 38/50\n",
      "50000/50000 [==============================] - 6s 112us/step - loss: 1.1987 - accuracy: 0.5663 - val_loss: 1.3382 - val_accuracy: 0.5247\n",
      "Epoch 39/50\n",
      "50000/50000 [==============================] - 6s 112us/step - loss: 1.1835 - accuracy: 0.5735 - val_loss: 1.3466 - val_accuracy: 0.5255\n",
      "Epoch 40/50\n",
      "50000/50000 [==============================] - 6s 113us/step - loss: 1.1897 - accuracy: 0.5700 - val_loss: 1.3325 - val_accuracy: 0.5255\n",
      "Epoch 41/50\n",
      "50000/50000 [==============================] - 6s 113us/step - loss: 1.1801 - accuracy: 0.5737 - val_loss: 1.3452 - val_accuracy: 0.5165\n",
      "Epoch 42/50\n",
      "50000/50000 [==============================] - 6s 112us/step - loss: 1.1808 - accuracy: 0.5757 - val_loss: 1.3293 - val_accuracy: 0.5277\n",
      "Epoch 43/50\n",
      "50000/50000 [==============================] - 6s 113us/step - loss: 1.1620 - accuracy: 0.5811 - val_loss: 1.3263 - val_accuracy: 0.5353\n",
      "Epoch 44/50\n",
      "50000/50000 [==============================] - 6s 113us/step - loss: 1.1630 - accuracy: 0.5797 - val_loss: 1.3257 - val_accuracy: 0.5290\n",
      "Epoch 45/50\n",
      "50000/50000 [==============================] - 6s 113us/step - loss: 1.1536 - accuracy: 0.5841 - val_loss: 1.3573 - val_accuracy: 0.5196\n",
      "Epoch 46/50\n"
     ]
    },
    {
     "name": "stdout",
     "output_type": "stream",
     "text": [
      "50000/50000 [==============================] - 6s 112us/step - loss: 1.1468 - accuracy: 0.5863 - val_loss: 1.3365 - val_accuracy: 0.5293\n",
      "Epoch 47/50\n",
      "50000/50000 [==============================] - 6s 113us/step - loss: 1.1466 - accuracy: 0.5849 - val_loss: 1.3357 - val_accuracy: 0.5304\n",
      "Epoch 48/50\n",
      "50000/50000 [==============================] - 6s 113us/step - loss: 1.1335 - accuracy: 0.5886 - val_loss: 1.3548 - val_accuracy: 0.5204\n",
      "Epoch 49/50\n",
      "50000/50000 [==============================] - 6s 113us/step - loss: 1.1367 - accuracy: 0.5888 - val_loss: 1.3497 - val_accuracy: 0.5240\n",
      "Epoch 50/50\n",
      "50000/50000 [==============================] - 6s 114us/step - loss: 1.1454 - accuracy: 0.5871 - val_loss: 1.3251 - val_accuracy: 0.5325\n"
     ]
    }
   ],
   "source": [
    "model = build_mlp(input_shape=x_train.shape[1:], drp_ratio=DROP_RATIO)\n",
    "model.summary()\n",
    "\n",
    "#Adam Optimizer\n",
    "optimizer = keras.optimizers.Adam(lr=LEARNING_RATE)\n",
    "model.compile(loss=\"categorical_crossentropy\", metrics=[\"accuracy\"], optimizer=optimizer)\n",
    "\n",
    "model.fit(x_train, y_train, \n",
    "          epochs=EPOCHS, \n",
    "          batch_size=BATCH_SIZE, \n",
    "          validation_data=(x_test, y_test), \n",
    "          shuffle=True)\n",
    "\n",
    "# Collect results\n",
    "train_loss = model.history.history[\"loss\"]\n",
    "valid_loss = model.history.history[\"val_loss\"]\n",
    "train_acc = model.history.history[\"accuracy\"]\n",
    "valid_acc = model.history.history[\"val_accuracy\"]"
   ]
  },
  {
   "cell_type": "code",
   "execution_count": 19,
   "metadata": {},
   "outputs": [
    {
     "name": "stdout",
     "output_type": "stream",
     "text": [
      "Optimizer Adam, Drop Ratio = 0.1\n"
     ]
    },
    {
     "data": {
      "image/png": "[encoded data removed]",
      "text/plain": [
       "<Figure size 432x288 with 1 Axes>"
      ]
     },
     "metadata": {
      "needs_background": "light"
     },
     "output_type": "display_data"
    },
    {
     "data": {
      "image/png": "[encoded data removed]",
      "text/plain": [
       "<Figure size 432x288 with 1 Axes>"
      ]
     },
     "metadata": {
      "needs_background": "light"
     },
     "output_type": "display_data"
    }
   ],
   "source": [
    "print('Optimizer Adam, Drop Ratio = 0.1')\n",
    "\n",
    "plt.plot(range(len(train_loss)), train_loss, label=\"train loss\")\n",
    "plt.plot(range(len(valid_loss)), valid_loss, label=\"valid loss\")\n",
    "plt.legend()\n",
    "plt.title(\"Loss\")\n",
    "plt.show()\n",
    "\n",
    "plt.plot(range(len(train_acc)), train_acc, label=\"train accuracy\")\n",
    "plt.plot(range(len(valid_acc)), valid_acc, label=\"valid accuracy\")\n",
    "plt.legend()\n",
    "plt.title(\"Accuracy\")\n",
    "plt.show()"
   ]
  },
  {
   "cell_type": "code",
   "execution_count": null,
   "metadata": {},
   "outputs": [],
   "source": []
  }
 ],
 "metadata": {
  "kernelspec": {
   "display_name": "Python 3",
   "language": "python",
   "name": "python3"
  },
  "language_info": {
   "codemirror_mode": {
    "name": "ipython",
    "version": 3
   },
   "file_extension": ".py",
   "mimetype": "text/x-python",
   "name": "python",
   "nbconvert_exporter": "python",
   "pygments_lexer": "ipython3",
   "version": "3.7.3"
  }
 },
 "nbformat": 4,
 "nbformat_minor": 2
}
